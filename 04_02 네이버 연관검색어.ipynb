{
 "cells": [
  {
   "cell_type": "code",
   "execution_count": 1,
   "metadata": {},
   "outputs": [],
   "source": [
    "import requests\n",
    "from bs4 import BeautifulSoup\n",
    "import urllib.parse as urlparser"
   ]
  },
  {
   "cell_type": "code",
   "execution_count": 2,
   "metadata": {},
   "outputs": [],
   "source": [
    "keyword = \"파이썬\"\n",
    "urlparser.quote(keyword)"
   ]
  },
  {
   "cell_type": "code",
   "execution_count": 3,
   "metadata": {},
   "outputs": [
    {
     "data": {
      "text/plain": [
       "'https://search.naver.com/search.naver?sm=top_hty&fbm=1&ie=utf8&query=%ED%8C%8C%EC%9D%B4%EC%8D%AC'"
      ]
     },
     "execution_count": 3,
     "metadata": {},
     "output_type": "execute_result"
    }
   ],
   "source": [
    "url = \"https://search.naver.com/search.naver?sm=top_hty&fbm=1&ie=utf8&query=\" + urlparser.quote(keyword)\n",
    "url"
   ]
  },
  {
   "cell_type": "code",
   "execution_count": 8,
   "metadata": {},
   "outputs": [],
   "source": [
    "response = requests.get(url)\n",
    "if response.status_code == 200:\n",
    "    dom = BeautifulSoup(response.text, \"html.parser\")\n",
    "\n",
    "# dom"
   ]
  },
  {
   "cell_type": "code",
   "execution_count": 18,
   "metadata": {},
   "outputs": [
    {
     "data": {
      "text/plain": [
       "[<li> <a data-area=\"*q\" data-idx=\"1\" href=\"?where=nexearch&amp;query=%ED%8C%8C%EC%9D%B4%EC%8D%AC+%EB%8F%85%ED%95%99&amp;ie=utf8&amp;sm=tab_she&amp;qdt=0\">파이썬 독학</a> </li>,\n",
       " <li> <a data-area=\"*q\" data-idx=\"2\" href=\"?where=nexearch&amp;query=%ED%8C%8C%EC%9D%B4%EC%8D%AC+%EC%9E%90%EA%B2%A9%EC%A6%9D&amp;ie=utf8&amp;sm=tab_she&amp;qdt=0\">파이썬 자격증</a> </li>,\n",
       " <li> <a data-area=\"*q\" data-idx=\"3\" href=\"?where=nexearch&amp;query=%ED%8C%8C%EC%9D%B4%EC%8D%AC+%ED%94%84%EB%A1%9C%EA%B7%B8%EB%9E%98%EB%B0%8D&amp;ie=utf8&amp;sm=tab_she&amp;qdt=0\">파이썬 프로그래밍</a> </li>,\n",
       " <li> <a data-area=\"*q\" data-idx=\"4\" href=\"?where=nexearch&amp;query=python&amp;ie=utf8&amp;sm=tab_she&amp;qdt=0\">python</a> </li>,\n",
       " <li> <a data-area=\"*q\" data-idx=\"5\" href=\"?where=nexearch&amp;query=%ED%8C%8C%EC%9D%BC%EC%8D%AC&amp;ie=utf8&amp;sm=tab_she&amp;qdt=0\">파일썬</a> </li>,\n",
       " <li> <a data-area=\"*q\" data-idx=\"6\" href=\"?where=nexearch&amp;query=%ED%8C%8C%EC%9D%B4%EC%8D%AC+%EB%8B%A4%EC%9A%B4%EB%A1%9C%EB%93%9C&amp;ie=utf8&amp;sm=tab_she&amp;qdt=0\">파이썬 다운로드</a> </li>,\n",
       " <li> <a data-area=\"*q\" data-idx=\"7\" href=\"?where=nexearch&amp;query=c%EC%96%B8%EC%96%B4&amp;ie=utf8&amp;sm=tab_she&amp;qdt=0\">c언어</a> </li>,\n",
       " <li> <a data-area=\"*q\" data-idx=\"8\" href=\"?where=nexearch&amp;query=%EC%BD%94%EB%94%A9&amp;ie=utf8&amp;sm=tab_she&amp;qdt=0\">코딩</a> </li>,\n",
       " <li> <a data-area=\"*q\" data-idx=\"9\" href=\"?where=nexearch&amp;query=%ED%8C%8C%EC%9D%B4%EC%8D%AC+%EC%84%A4%EC%B9%98&amp;ie=utf8&amp;sm=tab_she&amp;qdt=0\">파이썬 설치</a> </li>,\n",
       " <li> <a data-area=\"*q\" data-idx=\"10\" href=\"?where=nexearch&amp;query=%ED%8C%8C%EC%9D%B4%EC%8D%AC+%EC%B1%85&amp;ie=utf8&amp;sm=tab_she&amp;qdt=0\">파이썬 책</a> </li>]"
      ]
     },
     "execution_count": 18,
     "metadata": {},
     "output_type": "execute_result"
    }
   ],
   "source": [
    "elements = dom.select(\"#nx_related_keywords ul._related_keyword_ul li\")\n",
    "len(elements)\n",
    "elements"
   ]
  },
  {
   "cell_type": "code",
   "execution_count": 17,
   "metadata": {},
   "outputs": [
    {
     "data": {
      "text/plain": [
       "[{'검색어': '파이썬 독학',\n",
       "  'url': 'https://search.naver.com/search.naver?where=nexearch&query=%ED%8C%8C%EC%9D%B4%EC%8D%AC+%EB%8F%85%ED%95%99&ie=utf8&sm=tab_she&qdt=0'},\n",
       " {'검색어': '파이썬 자격증',\n",
       "  'url': 'https://search.naver.com/search.naver?where=nexearch&query=%ED%8C%8C%EC%9D%B4%EC%8D%AC+%EC%9E%90%EA%B2%A9%EC%A6%9D&ie=utf8&sm=tab_she&qdt=0'},\n",
       " {'검색어': '파이썬 프로그래밍',\n",
       "  'url': 'https://search.naver.com/search.naver?where=nexearch&query=%ED%8C%8C%EC%9D%B4%EC%8D%AC+%ED%94%84%EB%A1%9C%EA%B7%B8%EB%9E%98%EB%B0%8D&ie=utf8&sm=tab_she&qdt=0'},\n",
       " {'검색어': 'python',\n",
       "  'url': 'https://search.naver.com/search.naver?where=nexearch&query=python&ie=utf8&sm=tab_she&qdt=0'},\n",
       " {'검색어': '파일썬',\n",
       "  'url': 'https://search.naver.com/search.naver?where=nexearch&query=%ED%8C%8C%EC%9D%BC%EC%8D%AC&ie=utf8&sm=tab_she&qdt=0'},\n",
       " {'검색어': '파이썬 다운로드',\n",
       "  'url': 'https://search.naver.com/search.naver?where=nexearch&query=%ED%8C%8C%EC%9D%B4%EC%8D%AC+%EB%8B%A4%EC%9A%B4%EB%A1%9C%EB%93%9C&ie=utf8&sm=tab_she&qdt=0'},\n",
       " {'검색어': 'c언어',\n",
       "  'url': 'https://search.naver.com/search.naver?where=nexearch&query=c%EC%96%B8%EC%96%B4&ie=utf8&sm=tab_she&qdt=0'},\n",
       " {'검색어': '코딩',\n",
       "  'url': 'https://search.naver.com/search.naver?where=nexearch&query=%EC%BD%94%EB%94%A9&ie=utf8&sm=tab_she&qdt=0'},\n",
       " {'검색어': '파이썬 설치',\n",
       "  'url': 'https://search.naver.com/search.naver?where=nexearch&query=%ED%8C%8C%EC%9D%B4%EC%8D%AC+%EC%84%A4%EC%B9%98&ie=utf8&sm=tab_she&qdt=0'},\n",
       " {'검색어': '파이썬 책',\n",
       "  'url': 'https://search.naver.com/search.naver?where=nexearch&query=%ED%8C%8C%EC%9D%B4%EC%8D%AC+%EC%B1%85&ie=utf8&sm=tab_she&qdt=0'}]"
      ]
     },
     "execution_count": 17,
     "metadata": {},
     "output_type": "execute_result"
    }
   ],
   "source": [
    "result = [\n",
    "    {\n",
    "        \"검색어\" : element.select_one(\"a\").text.strip(),\n",
    "        \"url\" : \"https://search.naver.com/search.naver\" + element.select_one(\"a\").attrs.get(\"href\")\n",
    "    }\n",
    "    \n",
    "    for element in elements\n",
    "]\n",
    "\n",
    "result"
   ]
  },
  {
   "cell_type": "markdown",
   "metadata": {},
   "source": [
    "# 완성본"
   ]
  },
  {
   "cell_type": "code",
   "execution_count": 25,
   "metadata": {},
   "outputs": [],
   "source": [
    "from bs4 import BeautifulSoup\n",
    "import requests\n",
    "import urllib.parse as urlparser\n",
    "\n",
    "def naver_related(keyword):\n",
    "    url = \"https://search.naver.com/search.naver?sm=top_hty&fbm=1&ie=utf8&query=\" + urlparser.quote(keyword)\n",
    "    response = requests.get(url)\n",
    "    dom = BeautifulSoup(response.text, \"html.parser\")\n",
    "    elements =  dom.select(\"#nx_related_keywords ul._related_keyword_ul li\")\n",
    "    result = [\n",
    "#         {\n",
    "            element.select_one(\"a\").text.strip()\n",
    "#             \"url\" : \"https://search.naver.com/search.naver\" + element.select_one(\"a\").attrs.get(\"href\")\n",
    "#         }\n",
    "\n",
    "        for element in elements\n",
    "    ]\n",
    "    return result"
   ]
  },
  {
   "cell_type": "code",
   "execution_count": 26,
   "metadata": {},
   "outputs": [
    {
     "name": "stdout",
     "output_type": "stream",
     "text": [
      "['파이썬 독학', '파이썬 자격증', '파이썬 프로그래밍', 'python', '파일썬', '파이썬 다운로드', 'c언어', '코딩', '파이썬 설치', '파이썬 책']\n"
     ]
    }
   ],
   "source": [
    "print(naver_related(\"파이썬\"))"
   ]
  },
  {
   "cell_type": "code",
   "execution_count": 27,
   "metadata": {},
   "outputs": [
    {
     "name": "stdout",
     "output_type": "stream",
     "text": [
      "['자바 다운로드', 'java', '마인크래프트 자바', '자바8', '자바 설치', 'java.com', '자바학원', '자바식물', '자바 다운', 'java 8']\n"
     ]
    }
   ],
   "source": [
    "print(naver_related(\"자바\"))"
   ]
  },
  {
   "cell_type": "code",
   "execution_count": 29,
   "metadata": {},
   "outputs": [
    {
     "name": "stdout",
     "output_type": "stream",
     "text": [
      "['코로나 백신', '코로나 확진자', '미국 코로나', '코로나 광주', '코로나 미국', '일본 코로나', '코로나 증상', '코로나 일본', '광주 코로나', '코로나19']\n"
     ]
    }
   ],
   "source": [
    "print(naver_related(\"코로나\"))"
   ]
  },
  {
   "cell_type": "code",
   "execution_count": 31,
   "metadata": {},
   "outputs": [
    {
     "name": "stdout",
     "output_type": "stream",
     "text": [
      "검색어 입력 : 파이썬\n",
      "['파이썬 독학', '파이썬 자격증', '파이썬 프로그래밍', 'python', '파일썬', '파이썬 다운로드', 'c언어', '코딩', '파이썬 설치', '파이썬 책']\n",
      "검색어 입력 : 자바\n",
      "['자바 다운로드', 'java', '마인크래프트 자바', '자바8', '자바 설치', 'java.com', '자바학원', '자바식물', '자바 다운', 'java 8']\n",
      "검색어 입력 : 문재인\n",
      "[]\n",
      "검색어 입력 : 박종진\n",
      "[]\n",
      "검색어 입력 : 자바스크립트\n",
      "['javascript', '자바스크립트 오류', '자바스크립트 책', '자바', 'html css', 'jsp', '제이쿼리']\n",
      "검색어 입력 : javascript\n",
      "['자바스크립트', 'a javascript error', 'html css', 'java', 'html css & java script', 'html', '브라우저 설정', 'jquery']\n",
      "검색어 입력 : python comprehension\n",
      "[]\n",
      "검색어 입력 : comprehension\n",
      "['comprehensive', 'reading comprehension', 'comprehend', 'lc', 'compression', 'rc 뜻', 'comprehensibility', 'lc 뜻', 'comprehensible', 'specification']\n",
      "검색어 입력 : covid 19\n",
      "['코로나19 의미', '코로나바이러스감염증-19', '코로나 19 뜻', '코로나 19 정의', '코로나 바이러스 정의', 'covid19.ei.go.kr', '코로나19란?', 'covid19 뜻', '우한 코로나', '코비드19']\n",
      "검색어 입력 : quit\n"
     ]
    }
   ],
   "source": [
    "while True:\n",
    "    keyword = input('검색어 입력 : ')\n",
    "    if keyword.lower() == 'quit' : \n",
    "        break\n",
    "        \n",
    "    print(naver_related(keyword))\n",
    "    "
   ]
  },
  {
   "cell_type": "code",
   "execution_count": null,
   "metadata": {},
   "outputs": [],
   "source": []
  }
 ],
 "metadata": {
  "kernelspec": {
   "display_name": "Python 3",
   "language": "python",
   "name": "python3"
  },
  "language_info": {
   "codemirror_mode": {
    "name": "ipython",
    "version": 3
   },
   "file_extension": ".py",
   "mimetype": "text/x-python",
   "name": "python",
   "nbconvert_exporter": "python",
   "pygments_lexer": "ipython3",
   "version": "3.7.4"
  }
 },
 "nbformat": 4,
 "nbformat_minor": 2
}
