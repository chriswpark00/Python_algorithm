{
 "cells": [
  {
   "cell_type": "markdown",
   "metadata": {},
   "source": [
    "# 네이버 뉴스 캐스트"
   ]
  },
  {
   "cell_type": "markdown",
   "metadata": {},
   "source": [
    "## requests 모듈"
   ]
  },
  {
   "cell_type": "code",
   "execution_count": 3,
   "metadata": {},
   "outputs": [],
   "source": [
    "import requests\n",
    "from bs4 import BeautifulSoup"
   ]
  },
  {
   "cell_type": "code",
   "execution_count": 2,
   "metadata": {},
   "outputs": [],
   "source": [
    "url = \"https://www.naver.com\""
   ]
  },
  {
   "cell_type": "code",
   "execution_count": 4,
   "metadata": {},
   "outputs": [
    {
     "data": {
      "text/plain": [
       "<Response [200]>"
      ]
     },
     "execution_count": 4,
     "metadata": {},
     "output_type": "execute_result"
    }
   ],
   "source": [
    "response = requests.get(url)  # get방식으로 url request 보내고 response 객체 리턴\n",
    "response  "
   ]
  },
  {
   "cell_type": "code",
   "execution_count": 5,
   "metadata": {},
   "outputs": [
    {
     "data": {
      "text/plain": [
       "<Response [200]>"
      ]
     },
     "execution_count": 5,
     "metadata": {},
     "output_type": "execute_result"
    }
   ],
   "source": [
    "response    # out 결과는 200 이 나오면 정상적으로 처리되었슴 의미\n",
    "\n",
    "# request 결과코드\n",
    "# 200 성공\n",
    "# 404 url 존재하지 않음\n",
    "# 500 서버 내부 \n",
    "# 400 Bad Request : request 문법상의 오류\n",
    "# 401 권한에러 : 권한 관련 적절한 header 정보가 없는 경우 많이 발생\n",
    "# 402 권한에러 : 자원에 대한 접근 권한 에러\n",
    "# 403  권한에러 Forbidden : 파일권한, 읽기권한, SSL, IP, 등...  <--- 웹 크롤링 하다가 은근히 자주 마주치게 되는 에러\n"
   ]
  },
  {
   "cell_type": "code",
   "execution_count": 6,
   "metadata": {},
   "outputs": [
    {
     "data": {
      "text/plain": [
       "200"
      ]
     },
     "execution_count": 6,
     "metadata": {},
     "output_type": "execute_result"
    }
   ],
   "source": [
    "response.status_code"
   ]
  },
  {
   "cell_type": "code",
   "execution_count": 7,
   "metadata": {},
   "outputs": [
    {
     "data": {
      "text/plain": [
       "requests.models.Response"
      ]
     },
     "execution_count": 7,
     "metadata": {},
     "output_type": "execute_result"
    }
   ],
   "source": [
    "type(response)"
   ]
  },
  {
   "cell_type": "code",
   "execution_count": 9,
   "metadata": {},
   "outputs": [
    {
     "data": {
      "text/plain": [
       "'\\n<!doctype html>                <html lang=\"ko\" data-dark=\"false\"> <head> <meta charset=\"utf-8\"> <ti'"
      ]
     },
     "execution_count": 9,
     "metadata": {},
     "output_type": "execute_result"
    }
   ],
   "source": [
    "response.text[:100]  # html 코드 담겨 있다."
   ]
  },
  {
   "cell_type": "code",
   "execution_count": 10,
   "metadata": {},
   "outputs": [],
   "source": [
    "dom = BeautifulSoup(response.text, \"html.parser\")"
   ]
  },
  {
   "cell_type": "code",
   "execution_count": 12,
   "metadata": {},
   "outputs": [],
   "source": [
    "#dom"
   ]
  },
  {
   "cell_type": "code",
   "execution_count": 13,
   "metadata": {},
   "outputs": [],
   "source": [
    "elements = dom.select(\"#yna_rolling .issue\")"
   ]
  },
  {
   "cell_type": "code",
   "execution_count": 14,
   "metadata": {},
   "outputs": [
    {
     "data": {
      "text/plain": [
       "10"
      ]
     },
     "execution_count": 14,
     "metadata": {},
     "output_type": "execute_result"
    }
   ],
   "source": [
    "len(elements)"
   ]
  },
  {
   "cell_type": "code",
   "execution_count": 15,
   "metadata": {},
   "outputs": [
    {
     "name": "stdout",
     "output_type": "stream",
     "text": [
      "이재명 \"부동산 규제, 가격보다 실거주 여부 중과세해야\"\n",
      "경찰, 박원순 휴대전화 포렌식 착수…대규모 수사TF 운영\n",
      "\"특별히 감사\" 문대통령의 두산重 기 살리기\n",
      "정부, 전 세계 특별여행주의보 8월19일까지 또 연장\n",
      "보훈처, 백선엽 안장자 정보에 '친일행위자'\n",
      "정몽구 현대차그룹 회장 입원 치료중…\"염증 조절되는대로 퇴원\"\n",
      "'저항조차 체념' 고문 같은 가혹행위…영혼까지 무너져\n",
      "김호중, '의혹 폭로' 전 매니저에 법적 대응…\"합의 않을 것\"\n",
      "'성폭행 목사' 아내의 전화 한통…피해자 가정 고통 시작됐다\n",
      "검찰, 이만희 총회장 첫 소환조사…지병호소로 4시간만에 종료\n"
     ]
    }
   ],
   "source": [
    "for element in elements:\n",
    "    print(element.text.strip())"
   ]
  },
  {
   "cell_type": "code",
   "execution_count": 17,
   "metadata": {},
   "outputs": [
    {
     "data": {
      "text/plain": [
       "['이재명 \"부동산 규제, 가격보다 실거주 여부 중과세해야\"',\n",
       " '경찰, 박원순 휴대전화 포렌식 착수…대규모 수사TF 운영',\n",
       " '\"특별히 감사\" 문대통령의 두산重 기 살리기',\n",
       " '정부, 전 세계 특별여행주의보 8월19일까지 또 연장',\n",
       " \"보훈처, 백선엽 안장자 정보에 '친일행위자'\",\n",
       " '정몽구 현대차그룹 회장 입원 치료중…\"염증 조절되는대로 퇴원\"',\n",
       " \"'저항조차 체념' 고문 같은 가혹행위…영혼까지 무너져\",\n",
       " '김호중, \\'의혹 폭로\\' 전 매니저에 법적 대응…\"합의 않을 것\"',\n",
       " \"'성폭행 목사' 아내의 전화 한통…피해자 가정 고통 시작됐다\",\n",
       " '검찰, 이만희 총회장 첫 소환조사…지병호소로 4시간만에 종료']"
      ]
     },
     "execution_count": 17,
     "metadata": {},
     "output_type": "execute_result"
    }
   ],
   "source": [
    "result = [\n",
    "    element.text.strip()\n",
    "    for element in elements\n",
    "]\n",
    "\n",
    "result"
   ]
  },
  {
   "cell_type": "markdown",
   "metadata": {},
   "source": [
    "## 완성코드"
   ]
  },
  {
   "cell_type": "code",
   "execution_count": 26,
   "metadata": {},
   "outputs": [
    {
     "name": "stdout",
     "output_type": "stream",
     "text": [
      "[\"그린벨트 해제 후보지는 '조용'…태릉골프장 인근은 '화색'\", '경찰청장 후보자 \"박원순 피소 경찰 유출아냐…맞으면 책임질것\"', '서울 강서구 요양시설 9명 확진…이용자 등 84명 자가격리', \"'박지원 내통' 공방…청문회 앞두고 여론전 가열\", '이낙연·김부겸, 당권 향해 스타트…박주민 \"고민중\"', '수돗물 유충 신고속출·불안 전국 확산…\"대부분 급수외적 요인\"', '교육부, 대원·영훈국제중 지정취소 동의…학교 측 \"법적 대응\"', '일본 코로나 누적 사망자 1천명…도쿄서 1명 추가 사망', '한동훈-채널A 기자 녹취 후폭풍…KBS 내부서도 비판', '김세아 \"비밀 아닌 모두 아는 내용만 말해…나도 피해자\"']\n"
     ]
    }
   ],
   "source": [
    "# 결과 코드\n",
    "\n",
    "import requests\n",
    "from bs4 import BeautifulSoup\n",
    "url = \"https://www.naver.com\"\n",
    "response = requests.get(url)\n",
    "dom = BeautifulSoup(response.text, \"html.parser\")\n",
    "elements = dom.select(\"#yna_rolling .issue\")\n",
    "result = [\n",
    "   element.text.strip()\n",
    "    for element in elements\n",
    "]\n",
    "print(result)\n"
   ]
  },
  {
   "cell_type": "code",
   "execution_count": null,
   "metadata": {},
   "outputs": [],
   "source": [
    "# 미션 :\n",
    "\n",
    "# DAUM 메인 페이지 \n",
    "# 실시간 검색어 추출"
   ]
  },
  {
   "cell_type": "code",
   "execution_count": 20,
   "metadata": {},
   "outputs": [],
   "source": [
    "url = \"https://www.daum.net\""
   ]
  },
  {
   "cell_type": "code",
   "execution_count": 22,
   "metadata": {},
   "outputs": [
    {
     "data": {
      "text/plain": [
       "<Response [200]>"
      ]
     },
     "execution_count": 22,
     "metadata": {},
     "output_type": "execute_result"
    }
   ],
   "source": [
    "response = requests.get(url)\n",
    "response"
   ]
  },
  {
   "cell_type": "code",
   "execution_count": 23,
   "metadata": {},
   "outputs": [],
   "source": [
    "dom = BeautifulSoup(response.text, \"html.parser\")"
   ]
  },
  {
   "cell_type": "code",
   "execution_count": 24,
   "metadata": {},
   "outputs": [
    {
     "data": {
      "text/plain": [
       "10"
      ]
     },
     "execution_count": 24,
     "metadata": {},
     "output_type": "execute_result"
    }
   ],
   "source": [
    "l1 = dom.select_one(\"header#daumHead \").select(\"ul.list_favorsch li\")\n",
    "len(l1)"
   ]
  },
  {
   "cell_type": "code",
   "execution_count": 25,
   "metadata": {},
   "outputs": [
    {
     "data": {
      "text/plain": [
       "[{'제목': '생활 속 거리두기'},\n",
       " {'제목': '정재형 하차'},\n",
       " {'제목': '패브릭소파'},\n",
       " {'제목': '하승진 사과'},\n",
       " {'제목': '인테리어그림'},\n",
       " {'제목': '코로나19 발생현황'},\n",
       " {'제목': '제시 컴백확정'},\n",
       " {'제목': '저렴한장기렌트'},\n",
       " {'제목': '윤균상 노개런티'},\n",
       " {'제목': '의자쇼핑몰'}]"
      ]
     },
     "execution_count": 25,
     "metadata": {},
     "output_type": "execute_result"
    }
   ],
   "source": [
    "l1 = [\n",
    "    {\n",
    "#         \"url\" : element.select_one(\"a\").attrs[\"href\"].strip(),\n",
    "        \"제목\" : element.select_one(\"a\").text.strip()\n",
    "    }\n",
    "    for element in dom.select_one(\"header#daumHead\").select(\"ul.list_favorsch li\")\n",
    "]\n",
    "\n",
    "l1"
   ]
  },
  {
   "cell_type": "code",
   "execution_count": null,
   "metadata": {},
   "outputs": [],
   "source": []
  }
 ],
 "metadata": {
  "kernelspec": {
   "display_name": "Python 3",
   "language": "python",
   "name": "python3"
  },
  "language_info": {
   "codemirror_mode": {
    "name": "ipython",
    "version": 3
   },
   "file_extension": ".py",
   "mimetype": "text/x-python",
   "name": "python",
   "nbconvert_exporter": "python",
   "pygments_lexer": "ipython3",
   "version": "3.7.4"
  }
 },
 "nbformat": 4,
 "nbformat_minor": 2
}
