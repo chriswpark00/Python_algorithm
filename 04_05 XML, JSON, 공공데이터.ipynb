{
 "cells": [
  {
   "cell_type": "code",
   "execution_count": 1,
   "metadata": {},
   "outputs": [],
   "source": [
    "# 데이터는 어디서?\n",
    "# 1. 내가 생산한 데이터\n",
    "# 2. 데이터 수집 (ex: crawl)\n",
    "# 3. 공공데이터 활용\n",
    "    # https://www.data.go.kr/\n",
    "    # https://data.seoul.go.kr/\n",
    "        # api key: 57564d486f63687238396975674e56\n",
    "    # https://www.kaggle.com/datasets"
   ]
  },
  {
   "cell_type": "code",
   "execution_count": 2,
   "metadata": {},
   "outputs": [],
   "source": [
    "\"\"\"\n",
    "■서울시 지하철호선별 역별 승하차 인원 정보 \n",
    "http://data.seoul.go.kr/dataList/datasetView.do?infId=OA-12914&srvType=A&serviceKind=1&currentPageNo=1\n",
    "\n",
    "샘플url\n",
    "\n",
    "XML 버젼 (eXtensible Markup Language)\n",
    "http://openapi.seoul.go.kr:8088/키값을넣으세요/xml/CardSubwayStatsNew/1/5/20181001\n",
    "예) http://openapi.seoul.go.kr:8088/4d46796d7366726f3833774a774955/xml/CardSubwayStatsNew/1/5/20181001  \n",
    "\n",
    "JSON 버젼 (JavaScript Object Notation)\n",
    "http://openapi.seoul.go.kr:8088/키값을넣으세요/json/CardSubwayStatsNew/1/5/20181001\n",
    "예) http://openapi.seoul.go.kr:8088/4d46796d7366726f3833774a774955/json/CardSubwayStatsNew/1/5/20181001 \n",
    "\n",
    "\n",
    "- 호선번호\n",
    "- 역이름\n",
    "- 승차인원\n",
    "- 하차인원\n",
    "\n",
    "\"\"\"\n",
    "None\n",
    "\n",
    "\n",
    "\n",
    "\n"
   ]
  },
  {
   "cell_type": "code",
   "execution_count": 3,
   "metadata": {},
   "outputs": [
    {
     "data": {
      "text/plain": [
       "'\\nhttp://data.seoul.go.kr\\n1. 회원가입\\n2. 인증키 신청\\n'"
      ]
     },
     "execution_count": 3,
     "metadata": {},
     "output_type": "execute_result"
    }
   ],
   "source": [
    "\"\"\"\n",
    "http://data.seoul.go.kr\n",
    "1. 회원가입\n",
    "2. 인증키 신청\n",
    "\"\"\""
   ]
  },
  {
   "cell_type": "code",
   "execution_count": null,
   "metadata": {},
   "outputs": [],
   "source": [
    "#  list 안의 리스트 형태\n",
    "#  [호선,  역이름,  승차인원, 하차인원]\n",
    "\"\"\"\n",
    "[\n",
    "    [1호선, 시청역, 12342, 12345],\n",
    "    [1호선, 서울역, 12523, 34235],\n",
    "    ...\n",
    "    ...\n",
    "    \n",
    "]\n",
    "\"\"\"\n",
    "None\n",
    "\n"
   ]
  },
  {
   "cell_type": "markdown",
   "metadata": {},
   "source": [
    "# XML\n",
    "eXtensible Markup Language"
   ]
  },
  {
   "cell_type": "code",
   "execution_count": 43,
   "metadata": {},
   "outputs": [
    {
     "name": "stdout",
     "output_type": "stream",
     "text": [
      "http://openapi.seoul.go.kr:8088/57564d486f63687238396975674e56/xml/CardSubwayStatsNew/1/19/20200706\n"
     ]
    }
   ],
   "source": [
    "import requests\n",
    "from bs4 import BeautifulSoup\n",
    "key = \"57564d486f63687238396975674e56\"\n",
    "type = 'xml'\n",
    "service = \"CardSubwayStatsNew\"\n",
    "start_index = 1\n",
    "end_index = 19\n",
    "date = \"20200706\"\n",
    "url = f\"http://openapi.seoul.go.kr:8088/{key}/{type}/{service}/{start_index}/{end_index}/{date}\"\n",
    "\n",
    "print(url)\n"
   ]
  },
  {
   "cell_type": "code",
   "execution_count": 44,
   "metadata": {},
   "outputs": [
    {
     "data": {
      "text/plain": [
       "'<?xml version=\"1.0\" encoding=\"UTF-8\"?>\\n<CardSubwayStatsNew>\\n<list_total_count>595</list_total_count>\\n<RESULT>\\n<CODE>INFO-000</CODE>\\n<MESSAGE>정상 처리되었습니다</MESSAGE>\\n</RESULT>\\n<row>\\n<USE_DT>20200706</USE_DT>\\n<LINE_NUM>1호선</LINE_NUM>\\n<SUB_STA_NM>서울역</SUB_STA_NM>\\n<RIDE_PASGR_NUM>42971</RIDE_PASGR_NUM>\\n<ALIGHT_PASGR_NUM>40480</ALIGHT_PASGR_NUM>\\n<WORK_DT>20200709</WORK_DT>\\n</row>\\n<row>\\n<USE_DT>20200706</USE_DT>\\n<LINE_NUM>1호선</LINE_NUM>\\n<SUB_STA_NM>동묘앞</SUB_STA_NM>\\n<RIDE_PASGR_NUM>7771</RIDE_PASGR_NUM>\\n<ALIGHT_PASGR_NUM>8097</ALIGHT_PASGR_NUM>\\n<WORK_DT>20200709</WORK_DT>\\n</row>\\n<row>\\n<USE_DT>20200706</USE_DT>\\n<LINE_NUM>1호선</LINE_NUM>\\n<SUB_STA_NM>시청</SUB_STA_NM>\\n<RIDE_PASGR_NUM>20887</RIDE_PASGR_NUM>\\n<ALIGHT_PASGR_NUM>21137</ALIGHT_PASGR_NUM>\\n<WORK_DT>20200709</WORK_DT>\\n</row>\\n<row>\\n<USE_DT>20200706</USE_DT>\\n<LINE_NUM>1호선</LINE_NUM>\\n<SUB_STA_NM>종각</SUB_STA_NM>\\n<RIDE_PASGR_NUM>38561</RIDE_PASGR_NUM>\\n<ALIGHT_PASGR_NUM>38282</ALIGHT_PASGR_NUM>\\n<WORK_DT>20200709</WORK_DT>\\n</row>\\n<row>\\n<USE_DT>20200706</USE_DT>\\n<LINE_NUM>1호선</LINE_NUM>\\n<SUB_STA_NM>종로3가</SUB_STA_NM>\\n<RIDE_PASGR_NUM>28104</RIDE_PASGR_NUM>\\n<ALIGHT_PASGR_NUM>26490</ALIGHT_PASGR_NUM>\\n<WORK_DT>20200709</WORK_DT>\\n</row>\\n<row>\\n<USE_DT>20200706</USE_DT>\\n<LINE_NUM>1호선</LINE_NUM>\\n<SUB_STA_NM>종로5가</SUB_STA_NM>\\n<RIDE_PASGR_NUM>22868</RIDE_PASGR_NUM>\\n<ALIGHT_PASGR_NUM>22984</ALIGHT_PASGR_NUM>\\n<WORK_DT>20200709</WORK_DT>\\n</row>\\n<row>\\n<USE_DT>20200706</USE_DT>\\n<LINE_NUM>1호선</LINE_NUM>\\n<SUB_STA_NM>동대문</SUB_STA_NM>\\n<RIDE_PASGR_NUM>11207</RIDE_PASGR_NUM>\\n<ALIGHT_PASGR_NUM>11574</ALIGHT_PASGR_NUM>\\n<WORK_DT>20200709</WORK_DT>\\n</row>\\n<row>\\n<USE_DT>20200706</USE_DT>\\n<LINE_NUM>1호선</LINE_NUM>\\n<SUB_STA_NM>신설동</SUB_STA_NM>\\n<RIDE_PASGR_NUM>14627</RIDE_PASGR_NUM>\\n<ALIGHT_PASGR_NUM>14677</ALIGHT_PASGR_NUM>\\n<WORK_DT>20200709</WORK_DT>\\n</row>\\n<row>\\n<USE_DT>20200706</USE_DT>\\n<LINE_NUM>1호선</LINE_NUM>\\n<SUB_STA_NM>제기동</SUB_STA_NM>\\n<RIDE_PASGR_NUM>16875</RIDE_PASGR_NUM>\\n<ALIGHT_PASGR_NUM>17366</ALIGHT_PASGR_NUM>\\n<WORK_DT>20200709</WORK_DT>\\n</row>\\n<row>\\n<USE_DT>20200706</USE_DT>\\n<LINE_NUM>1호선</LINE_NUM>\\n<SUB_STA_NM>청량리(서울시립대입구)</SUB_STA_NM>\\n<RIDE_PASGR_NUM>20336</RIDE_PASGR_NUM>\\n<ALIGHT_PASGR_NUM>20167</ALIGHT_PASGR_NUM>\\n<WORK_DT>20200709</WORK_DT>\\n</row>\\n<row>\\n<USE_DT>20200706</USE_DT>\\n<LINE_NUM>2호선</LINE_NUM>\\n<SUB_STA_NM>시청</SUB_STA_NM>\\n<RIDE_PASGR_NUM>23743</RIDE_PASGR_NUM>\\n<ALIGHT_PASGR_NUM>23776</ALIGHT_PASGR_NUM>\\n<WORK_DT>20200709</WORK_DT>\\n</row>\\n<row>\\n<USE_DT>20200706</USE_DT>\\n<LINE_NUM>2호선</LINE_NUM>\\n<SUB_STA_NM>을지로입구</SUB_STA_NM>\\n<RIDE_PASGR_NUM>39536</RIDE_PASGR_NUM>\\n<ALIGHT_PASGR_NUM>40657</ALIGHT_PASGR_NUM>\\n<WORK_DT>20200709</WORK_DT>\\n</row>\\n<row>\\n<USE_DT>20200706</USE_DT>\\n<LINE_NUM>2호선</LINE_NUM>\\n<SUB_STA_NM>을지로3가</SUB_STA_NM>\\n<RIDE_PASGR_NUM>21916</RIDE_PASGR_NUM>\\n<ALIGHT_PASGR_NUM>21745</ALIGHT_PASGR_NUM>\\n<WORK_DT>20200709</WORK_DT>\\n</row>\\n<row>\\n<USE_DT>20200706</USE_DT>\\n<LINE_NUM>2호선</LINE_NUM>\\n<SUB_STA_NM>을지로4가</SUB_STA_NM>\\n<RIDE_PASGR_NUM>13192</RIDE_PASGR_NUM>\\n<ALIGHT_PASGR_NUM>13100</ALIGHT_PASGR_NUM>\\n<WORK_DT>20200709</WORK_DT>\\n</row>\\n<row>\\n<USE_DT>20200706</USE_DT>\\n<LINE_NUM>2호선</LINE_NUM>\\n<SUB_STA_NM>동대문역사문화공원(DDP)</SUB_STA_NM>\\n<RIDE_PASGR_NUM>12160</RIDE_PASGR_NUM>\\n<ALIGHT_PASGR_NUM>13480</ALIGHT_PASGR_NUM>\\n<WORK_DT>20200709</WORK_DT>\\n</row>\\n<row>\\n<USE_DT>20200706</USE_DT>\\n<LINE_NUM>2호선</LINE_NUM>\\n<SUB_STA_NM>신당</SUB_STA_NM>\\n<RIDE_PASGR_NUM>13749</RIDE_PASGR_NUM>\\n<ALIGHT_PASGR_NUM>13918</ALIGHT_PASGR_NUM>\\n<WORK_DT>20200709</WORK_DT>\\n</row>\\n<row>\\n<USE_DT>20200706</USE_DT>\\n<LINE_NUM>2호선</LINE_NUM>\\n<SUB_STA_NM>상왕십리</SUB_STA_NM>\\n<RIDE_PASGR_NUM>13970</RIDE_PASGR_NUM>\\n<ALIGHT_PASGR_NUM>13642</ALIGHT_PASGR_NUM>\\n<WORK_DT>20200709</WORK_DT>\\n</row>\\n<row>\\n<USE_DT>20200706</USE_DT>\\n<LINE_NUM>2호선</LINE_NUM>\\n<SUB_STA_NM>왕십리(성동구청)</SUB_STA_NM>\\n<RIDE_PASGR_NUM>15889</RIDE_PASGR_NUM>\\n<ALIGHT_PASGR_NUM>13027</ALIGHT_PASGR_NUM>\\n<WORK_DT>20200709</WORK_DT>\\n</row>\\n<row>\\n<USE_DT>20200706</USE_DT>\\n<LINE_NUM>2호선</LINE_NUM>\\n<SUB_STA_NM>한양대</SUB_STA_NM>\\n<RIDE_PASGR_NUM>7474</RIDE_PASGR_NUM>\\n<ALIGHT_PASGR_NUM>8293</ALIGHT_PASGR_NUM>\\n<WORK_DT>20200709</WORK_DT>\\n</row>\\n</CardSubwayStatsNew>\\n'"
      ]
     },
     "execution_count": 44,
     "metadata": {},
     "output_type": "execute_result"
    }
   ],
   "source": [
    "response = requests.get(url)\n",
    "response.text"
   ]
  },
  {
   "cell_type": "code",
   "execution_count": 45,
   "metadata": {},
   "outputs": [
    {
     "data": {
      "text/plain": [
       "<?xml version=\"1.0\" encoding=\"utf-8\"?>\n",
       "<CardSubwayStatsNew>\n",
       "<list_total_count>595</list_total_count>\n",
       "<RESULT>\n",
       "<CODE>INFO-000</CODE>\n",
       "<MESSAGE>정상 처리되었습니다</MESSAGE>\n",
       "</RESULT>\n",
       "<row>\n",
       "<USE_DT>20200706</USE_DT>\n",
       "<LINE_NUM>1호선</LINE_NUM>\n",
       "<SUB_STA_NM>서울역</SUB_STA_NM>\n",
       "<RIDE_PASGR_NUM>42971</RIDE_PASGR_NUM>\n",
       "<ALIGHT_PASGR_NUM>40480</ALIGHT_PASGR_NUM>\n",
       "<WORK_DT>20200709</WORK_DT>\n",
       "</row>\n",
       "<row>\n",
       "<USE_DT>20200706</USE_DT>\n",
       "<LINE_NUM>1호선</LINE_NUM>\n",
       "<SUB_STA_NM>동묘앞</SUB_STA_NM>\n",
       "<RIDE_PASGR_NUM>7771</RIDE_PASGR_NUM>\n",
       "<ALIGHT_PASGR_NUM>8097</ALIGHT_PASGR_NUM>\n",
       "<WORK_DT>20200709</WORK_DT>\n",
       "</row>\n",
       "<row>\n",
       "<USE_DT>20200706</USE_DT>\n",
       "<LINE_NUM>1호선</LINE_NUM>\n",
       "<SUB_STA_NM>시청</SUB_STA_NM>\n",
       "<RIDE_PASGR_NUM>20887</RIDE_PASGR_NUM>\n",
       "<ALIGHT_PASGR_NUM>21137</ALIGHT_PASGR_NUM>\n",
       "<WORK_DT>20200709</WORK_DT>\n",
       "</row>\n",
       "<row>\n",
       "<USE_DT>20200706</USE_DT>\n",
       "<LINE_NUM>1호선</LINE_NUM>\n",
       "<SUB_STA_NM>종각</SUB_STA_NM>\n",
       "<RIDE_PASGR_NUM>38561</RIDE_PASGR_NUM>\n",
       "<ALIGHT_PASGR_NUM>38282</ALIGHT_PASGR_NUM>\n",
       "<WORK_DT>20200709</WORK_DT>\n",
       "</row>\n",
       "<row>\n",
       "<USE_DT>20200706</USE_DT>\n",
       "<LINE_NUM>1호선</LINE_NUM>\n",
       "<SUB_STA_NM>종로3가</SUB_STA_NM>\n",
       "<RIDE_PASGR_NUM>28104</RIDE_PASGR_NUM>\n",
       "<ALIGHT_PASGR_NUM>26490</ALIGHT_PASGR_NUM>\n",
       "<WORK_DT>20200709</WORK_DT>\n",
       "</row>\n",
       "<row>\n",
       "<USE_DT>20200706</USE_DT>\n",
       "<LINE_NUM>1호선</LINE_NUM>\n",
       "<SUB_STA_NM>종로5가</SUB_STA_NM>\n",
       "<RIDE_PASGR_NUM>22868</RIDE_PASGR_NUM>\n",
       "<ALIGHT_PASGR_NUM>22984</ALIGHT_PASGR_NUM>\n",
       "<WORK_DT>20200709</WORK_DT>\n",
       "</row>\n",
       "<row>\n",
       "<USE_DT>20200706</USE_DT>\n",
       "<LINE_NUM>1호선</LINE_NUM>\n",
       "<SUB_STA_NM>동대문</SUB_STA_NM>\n",
       "<RIDE_PASGR_NUM>11207</RIDE_PASGR_NUM>\n",
       "<ALIGHT_PASGR_NUM>11574</ALIGHT_PASGR_NUM>\n",
       "<WORK_DT>20200709</WORK_DT>\n",
       "</row>\n",
       "<row>\n",
       "<USE_DT>20200706</USE_DT>\n",
       "<LINE_NUM>1호선</LINE_NUM>\n",
       "<SUB_STA_NM>신설동</SUB_STA_NM>\n",
       "<RIDE_PASGR_NUM>14627</RIDE_PASGR_NUM>\n",
       "<ALIGHT_PASGR_NUM>14677</ALIGHT_PASGR_NUM>\n",
       "<WORK_DT>20200709</WORK_DT>\n",
       "</row>\n",
       "<row>\n",
       "<USE_DT>20200706</USE_DT>\n",
       "<LINE_NUM>1호선</LINE_NUM>\n",
       "<SUB_STA_NM>제기동</SUB_STA_NM>\n",
       "<RIDE_PASGR_NUM>16875</RIDE_PASGR_NUM>\n",
       "<ALIGHT_PASGR_NUM>17366</ALIGHT_PASGR_NUM>\n",
       "<WORK_DT>20200709</WORK_DT>\n",
       "</row>\n",
       "<row>\n",
       "<USE_DT>20200706</USE_DT>\n",
       "<LINE_NUM>1호선</LINE_NUM>\n",
       "<SUB_STA_NM>청량리(서울시립대입구)</SUB_STA_NM>\n",
       "<RIDE_PASGR_NUM>20336</RIDE_PASGR_NUM>\n",
       "<ALIGHT_PASGR_NUM>20167</ALIGHT_PASGR_NUM>\n",
       "<WORK_DT>20200709</WORK_DT>\n",
       "</row>\n",
       "<row>\n",
       "<USE_DT>20200706</USE_DT>\n",
       "<LINE_NUM>2호선</LINE_NUM>\n",
       "<SUB_STA_NM>시청</SUB_STA_NM>\n",
       "<RIDE_PASGR_NUM>23743</RIDE_PASGR_NUM>\n",
       "<ALIGHT_PASGR_NUM>23776</ALIGHT_PASGR_NUM>\n",
       "<WORK_DT>20200709</WORK_DT>\n",
       "</row>\n",
       "<row>\n",
       "<USE_DT>20200706</USE_DT>\n",
       "<LINE_NUM>2호선</LINE_NUM>\n",
       "<SUB_STA_NM>을지로입구</SUB_STA_NM>\n",
       "<RIDE_PASGR_NUM>39536</RIDE_PASGR_NUM>\n",
       "<ALIGHT_PASGR_NUM>40657</ALIGHT_PASGR_NUM>\n",
       "<WORK_DT>20200709</WORK_DT>\n",
       "</row>\n",
       "<row>\n",
       "<USE_DT>20200706</USE_DT>\n",
       "<LINE_NUM>2호선</LINE_NUM>\n",
       "<SUB_STA_NM>을지로3가</SUB_STA_NM>\n",
       "<RIDE_PASGR_NUM>21916</RIDE_PASGR_NUM>\n",
       "<ALIGHT_PASGR_NUM>21745</ALIGHT_PASGR_NUM>\n",
       "<WORK_DT>20200709</WORK_DT>\n",
       "</row>\n",
       "<row>\n",
       "<USE_DT>20200706</USE_DT>\n",
       "<LINE_NUM>2호선</LINE_NUM>\n",
       "<SUB_STA_NM>을지로4가</SUB_STA_NM>\n",
       "<RIDE_PASGR_NUM>13192</RIDE_PASGR_NUM>\n",
       "<ALIGHT_PASGR_NUM>13100</ALIGHT_PASGR_NUM>\n",
       "<WORK_DT>20200709</WORK_DT>\n",
       "</row>\n",
       "<row>\n",
       "<USE_DT>20200706</USE_DT>\n",
       "<LINE_NUM>2호선</LINE_NUM>\n",
       "<SUB_STA_NM>동대문역사문화공원(DDP)</SUB_STA_NM>\n",
       "<RIDE_PASGR_NUM>12160</RIDE_PASGR_NUM>\n",
       "<ALIGHT_PASGR_NUM>13480</ALIGHT_PASGR_NUM>\n",
       "<WORK_DT>20200709</WORK_DT>\n",
       "</row>\n",
       "<row>\n",
       "<USE_DT>20200706</USE_DT>\n",
       "<LINE_NUM>2호선</LINE_NUM>\n",
       "<SUB_STA_NM>신당</SUB_STA_NM>\n",
       "<RIDE_PASGR_NUM>13749</RIDE_PASGR_NUM>\n",
       "<ALIGHT_PASGR_NUM>13918</ALIGHT_PASGR_NUM>\n",
       "<WORK_DT>20200709</WORK_DT>\n",
       "</row>\n",
       "<row>\n",
       "<USE_DT>20200706</USE_DT>\n",
       "<LINE_NUM>2호선</LINE_NUM>\n",
       "<SUB_STA_NM>상왕십리</SUB_STA_NM>\n",
       "<RIDE_PASGR_NUM>13970</RIDE_PASGR_NUM>\n",
       "<ALIGHT_PASGR_NUM>13642</ALIGHT_PASGR_NUM>\n",
       "<WORK_DT>20200709</WORK_DT>\n",
       "</row>\n",
       "<row>\n",
       "<USE_DT>20200706</USE_DT>\n",
       "<LINE_NUM>2호선</LINE_NUM>\n",
       "<SUB_STA_NM>왕십리(성동구청)</SUB_STA_NM>\n",
       "<RIDE_PASGR_NUM>15889</RIDE_PASGR_NUM>\n",
       "<ALIGHT_PASGR_NUM>13027</ALIGHT_PASGR_NUM>\n",
       "<WORK_DT>20200709</WORK_DT>\n",
       "</row>\n",
       "<row>\n",
       "<USE_DT>20200706</USE_DT>\n",
       "<LINE_NUM>2호선</LINE_NUM>\n",
       "<SUB_STA_NM>한양대</SUB_STA_NM>\n",
       "<RIDE_PASGR_NUM>7474</RIDE_PASGR_NUM>\n",
       "<ALIGHT_PASGR_NUM>8293</ALIGHT_PASGR_NUM>\n",
       "<WORK_DT>20200709</WORK_DT>\n",
       "</row>\n",
       "</CardSubwayStatsNew>"
      ]
     },
     "execution_count": 45,
     "metadata": {},
     "output_type": "execute_result"
    }
   ],
   "source": [
    "# BeautifulSoup로 XML 파싱 할때\n",
    "# 1. 'lxml-xml' 사용\n",
    "# 2.  태그이름 대소문자 구분주의\n",
    "dom = BeautifulSoup(response.text, \"lxml-xml\")\n",
    "dom"
   ]
  },
  {
   "cell_type": "code",
   "execution_count": 10,
   "metadata": {},
   "outputs": [],
   "source": [
    "# 호선명, 역명, 승차객수, 하차객수\n",
    "#  LINE_NUM, SUB_STA_NM, RIDE_PASGR_NUM, ALIGHT_PASGR_NUM"
   ]
  },
  {
   "cell_type": "code",
   "execution_count": 12,
   "metadata": {},
   "outputs": [
    {
     "data": {
      "text/plain": [
       "19"
      ]
     },
     "execution_count": 12,
     "metadata": {},
     "output_type": "execute_result"
    }
   ],
   "source": [
    "items = dom.select(\"row\")\n",
    "len(items)"
   ]
  },
  {
   "cell_type": "code",
   "execution_count": 14,
   "metadata": {},
   "outputs": [],
   "source": [
    "result = [\n",
    "    [\n",
    "        item.select_one(\"LINE_NUM\").text.strip(),\n",
    "        item.select_one(\"SUB_STA_NM\").text.strip(),\n",
    "        item.select_one(\"RIDE_PASGR_NUM\").text.strip(),\n",
    "        item.select_one(\"ALIGHT_PASGR_NUM\").text.strip()\n",
    "    ]\n",
    "    for item in items\n",
    "]"
   ]
  },
  {
   "cell_type": "code",
   "execution_count": 15,
   "metadata": {},
   "outputs": [
    {
     "data": {
      "text/plain": [
       "[['1호선', '서울역', '42971', '40480'],\n",
       " ['1호선', '동묘앞', '7771', '8097'],\n",
       " ['1호선', '시청', '20887', '21137'],\n",
       " ['1호선', '종각', '38561', '38282'],\n",
       " ['1호선', '종로3가', '28104', '26490'],\n",
       " ['1호선', '종로5가', '22868', '22984'],\n",
       " ['1호선', '동대문', '11207', '11574'],\n",
       " ['1호선', '신설동', '14627', '14677'],\n",
       " ['1호선', '제기동', '16875', '17366'],\n",
       " ['1호선', '청량리(서울시립대입구)', '20336', '20167'],\n",
       " ['2호선', '시청', '23743', '23776'],\n",
       " ['2호선', '을지로입구', '39536', '40657'],\n",
       " ['2호선', '을지로3가', '21916', '21745'],\n",
       " ['2호선', '을지로4가', '13192', '13100'],\n",
       " ['2호선', '동대문역사문화공원(DDP)', '12160', '13480'],\n",
       " ['2호선', '신당', '13749', '13918'],\n",
       " ['2호선', '상왕십리', '13970', '13642'],\n",
       " ['2호선', '왕십리(성동구청)', '15889', '13027'],\n",
       " ['2호선', '한양대', '7474', '8293']]"
      ]
     },
     "execution_count": 15,
     "metadata": {},
     "output_type": "execute_result"
    }
   ],
   "source": [
    "result"
   ]
  },
  {
   "cell_type": "markdown",
   "metadata": {},
   "source": [
    "# JSON 데이터\n",
    "JavaScript Object Notation"
   ]
  },
  {
   "cell_type": "code",
   "execution_count": 16,
   "metadata": {},
   "outputs": [
    {
     "name": "stdout",
     "output_type": "stream",
     "text": [
      "http://openapi.seoul.go.kr:8088/57564d486f63687238396975674e56/json/CardSubwayStatsNew/1/19/20200706\n"
     ]
    }
   ],
   "source": [
    "import requests\n",
    "from bs4 import BeautifulSoup\n",
    "key = \"57564d486f63687238396975674e56\"\n",
    "type = 'json'\n",
    "service = \"CardSubwayStatsNew\"\n",
    "start_index = 1\n",
    "end_index = 19\n",
    "date = \"20200706\"\n",
    "url = f\"http://openapi.seoul.go.kr:8088/{key}/{type}/{service}/{start_index}/{end_index}/{date}\"\n",
    "\n",
    "print(url)\n"
   ]
  },
  {
   "cell_type": "code",
   "execution_count": 40,
   "metadata": {},
   "outputs": [
    {
     "data": {
      "text/plain": [
       "'{\"CardSubwayStatsNew\":{\"list_total_count\":595,\"RESULT\":{\"CODE\":\"INFO-000\",\"MESSAGE\":\"정상 처리되었습니다\"},\"row\":[{\"USE_DT\":\"20200706\",\"LINE_NUM\":\"1호선\",\"SUB_STA_NM\":\"서울역\",\"RIDE_PASGR_NUM\":42971.0,\"ALIGHT_PASGR_NUM\":40480.0,\"WORK_DT\":\"20200709\"},{\"USE_DT\":\"20200706\",\"LINE_NUM\":\"1호선\",\"SUB_STA_NM\":\"동묘앞\",\"RIDE_PASGR_NUM\":7771.0,\"ALIGHT_PASGR_NUM\":8097.0,\"WORK_DT\":\"20200709\"},{\"USE_DT\":\"20200706\",\"LINE_NUM\":\"1호선\",\"SUB_STA_NM\":\"시청\",\"RIDE_PASGR_NUM\":20887.0,\"ALIGHT_PASGR_NUM\":21137.0,\"WORK_DT\":\"20200709\"},{\"USE_DT\":\"20200706\",\"LINE_NUM\":\"1호선\",\"SUB_STA_NM\":\"종각\",\"RIDE_PASGR_NUM\":38561.0,\"ALIGHT_PASGR_NUM\":38282.0,\"WORK_DT\":\"20200709\"},{\"USE_DT\":\"20200706\",\"LINE_NUM\":\"1호선\",\"SUB_STA_NM\":\"종로3가\",\"RIDE_PASGR_NUM\":28104.0,\"ALIGHT_PASGR_NUM\":26490.0,\"WORK_DT\":\"20200709\"},{\"USE_DT\":\"20200706\",\"LINE_NUM\":\"1호선\",\"SUB_STA_NM\":\"종로5가\",\"RIDE_PASGR_NUM\":22868.0,\"ALIGHT_PASGR_NUM\":22984.0,\"WORK_DT\":\"20200709\"},{\"USE_DT\":\"20200706\",\"LINE_NUM\":\"1호선\",\"SUB_STA_NM\":\"동대문\",\"RIDE_PASGR_NUM\":11207.0,\"ALIGHT_PASGR_NUM\":11574.0,\"WORK_DT\":\"20200709\"},{\"USE_DT\":\"20200706\",\"LINE_NUM\":\"1호선\",\"SUB_STA_NM\":\"신설동\",\"RIDE_PASGR_NUM\":14627.0,\"ALIGHT_PASGR_NUM\":14677.0,\"WORK_DT\":\"20200709\"},{\"USE_DT\":\"20200706\",\"LINE_NUM\":\"1호선\",\"SUB_STA_NM\":\"제기동\",\"RIDE_PASGR_NUM\":16875.0,\"ALIGHT_PASGR_NUM\":17366.0,\"WORK_DT\":\"20200709\"},{\"USE_DT\":\"20200706\",\"LINE_NUM\":\"1호선\",\"SUB_STA_NM\":\"청량리(서울시립대입구)\",\"RIDE_PASGR_NUM\":20336.0,\"ALIGHT_PASGR_NUM\":20167.0,\"WORK_DT\":\"20200709\"},{\"USE_DT\":\"20200706\",\"LINE_NUM\":\"2호선\",\"SUB_STA_NM\":\"시청\",\"RIDE_PASGR_NUM\":23743.0,\"ALIGHT_PASGR_NUM\":23776.0,\"WORK_DT\":\"20200709\"},{\"USE_DT\":\"20200706\",\"LINE_NUM\":\"2호선\",\"SUB_STA_NM\":\"을지로입구\",\"RIDE_PASGR_NUM\":39536.0,\"ALIGHT_PASGR_NUM\":40657.0,\"WORK_DT\":\"20200709\"},{\"USE_DT\":\"20200706\",\"LINE_NUM\":\"2호선\",\"SUB_STA_NM\":\"을지로3가\",\"RIDE_PASGR_NUM\":21916.0,\"ALIGHT_PASGR_NUM\":21745.0,\"WORK_DT\":\"20200709\"},{\"USE_DT\":\"20200706\",\"LINE_NUM\":\"2호선\",\"SUB_STA_NM\":\"을지로4가\",\"RIDE_PASGR_NUM\":13192.0,\"ALIGHT_PASGR_NUM\":13100.0,\"WORK_DT\":\"20200709\"},{\"USE_DT\":\"20200706\",\"LINE_NUM\":\"2호선\",\"SUB_STA_NM\":\"동대문역사문화공원(DDP)\",\"RIDE_PASGR_NUM\":12160.0,\"ALIGHT_PASGR_NUM\":13480.0,\"WORK_DT\":\"20200709\"},{\"USE_DT\":\"20200706\",\"LINE_NUM\":\"2호선\",\"SUB_STA_NM\":\"신당\",\"RIDE_PASGR_NUM\":13749.0,\"ALIGHT_PASGR_NUM\":13918.0,\"WORK_DT\":\"20200709\"},{\"USE_DT\":\"20200706\",\"LINE_NUM\":\"2호선\",\"SUB_STA_NM\":\"상왕십리\",\"RIDE_PASGR_NUM\":13970.0,\"ALIGHT_PASGR_NUM\":13642.0,\"WORK_DT\":\"20200709\"},{\"USE_DT\":\"20200706\",\"LINE_NUM\":\"2호선\",\"SUB_STA_NM\":\"왕십리(성동구청)\",\"RIDE_PASGR_NUM\":15889.0,\"ALIGHT_PASGR_NUM\":13027.0,\"WORK_DT\":\"20200709\"},{\"USE_DT\":\"20200706\",\"LINE_NUM\":\"2호선\",\"SUB_STA_NM\":\"한양대\",\"RIDE_PASGR_NUM\":7474.0,\"ALIGHT_PASGR_NUM\":8293.0,\"WORK_DT\":\"20200709\"}]}}'"
      ]
     },
     "execution_count": 40,
     "metadata": {},
     "output_type": "execute_result"
    }
   ],
   "source": [
    "response = requests.get(url)\n",
    "response.text"
   ]
  },
  {
   "cell_type": "code",
   "execution_count": 24,
   "metadata": {},
   "outputs": [
    {
     "data": {
      "text/plain": [
       "{'CardSubwayStatsNew': {'list_total_count': 595,\n",
       "  'RESULT': {'CODE': 'INFO-000', 'MESSAGE': '정상 처리되었습니다'},\n",
       "  'row': [{'USE_DT': '20200706',\n",
       "    'LINE_NUM': '1호선',\n",
       "    'SUB_STA_NM': '서울역',\n",
       "    'RIDE_PASGR_NUM': 42971.0,\n",
       "    'ALIGHT_PASGR_NUM': 40480.0,\n",
       "    'WORK_DT': '20200709'},\n",
       "   {'USE_DT': '20200706',\n",
       "    'LINE_NUM': '1호선',\n",
       "    'SUB_STA_NM': '동묘앞',\n",
       "    'RIDE_PASGR_NUM': 7771.0,\n",
       "    'ALIGHT_PASGR_NUM': 8097.0,\n",
       "    'WORK_DT': '20200709'},\n",
       "   {'USE_DT': '20200706',\n",
       "    'LINE_NUM': '1호선',\n",
       "    'SUB_STA_NM': '시청',\n",
       "    'RIDE_PASGR_NUM': 20887.0,\n",
       "    'ALIGHT_PASGR_NUM': 21137.0,\n",
       "    'WORK_DT': '20200709'},\n",
       "   {'USE_DT': '20200706',\n",
       "    'LINE_NUM': '1호선',\n",
       "    'SUB_STA_NM': '종각',\n",
       "    'RIDE_PASGR_NUM': 38561.0,\n",
       "    'ALIGHT_PASGR_NUM': 38282.0,\n",
       "    'WORK_DT': '20200709'},\n",
       "   {'USE_DT': '20200706',\n",
       "    'LINE_NUM': '1호선',\n",
       "    'SUB_STA_NM': '종로3가',\n",
       "    'RIDE_PASGR_NUM': 28104.0,\n",
       "    'ALIGHT_PASGR_NUM': 26490.0,\n",
       "    'WORK_DT': '20200709'},\n",
       "   {'USE_DT': '20200706',\n",
       "    'LINE_NUM': '1호선',\n",
       "    'SUB_STA_NM': '종로5가',\n",
       "    'RIDE_PASGR_NUM': 22868.0,\n",
       "    'ALIGHT_PASGR_NUM': 22984.0,\n",
       "    'WORK_DT': '20200709'},\n",
       "   {'USE_DT': '20200706',\n",
       "    'LINE_NUM': '1호선',\n",
       "    'SUB_STA_NM': '동대문',\n",
       "    'RIDE_PASGR_NUM': 11207.0,\n",
       "    'ALIGHT_PASGR_NUM': 11574.0,\n",
       "    'WORK_DT': '20200709'},\n",
       "   {'USE_DT': '20200706',\n",
       "    'LINE_NUM': '1호선',\n",
       "    'SUB_STA_NM': '신설동',\n",
       "    'RIDE_PASGR_NUM': 14627.0,\n",
       "    'ALIGHT_PASGR_NUM': 14677.0,\n",
       "    'WORK_DT': '20200709'},\n",
       "   {'USE_DT': '20200706',\n",
       "    'LINE_NUM': '1호선',\n",
       "    'SUB_STA_NM': '제기동',\n",
       "    'RIDE_PASGR_NUM': 16875.0,\n",
       "    'ALIGHT_PASGR_NUM': 17366.0,\n",
       "    'WORK_DT': '20200709'},\n",
       "   {'USE_DT': '20200706',\n",
       "    'LINE_NUM': '1호선',\n",
       "    'SUB_STA_NM': '청량리(서울시립대입구)',\n",
       "    'RIDE_PASGR_NUM': 20336.0,\n",
       "    'ALIGHT_PASGR_NUM': 20167.0,\n",
       "    'WORK_DT': '20200709'},\n",
       "   {'USE_DT': '20200706',\n",
       "    'LINE_NUM': '2호선',\n",
       "    'SUB_STA_NM': '시청',\n",
       "    'RIDE_PASGR_NUM': 23743.0,\n",
       "    'ALIGHT_PASGR_NUM': 23776.0,\n",
       "    'WORK_DT': '20200709'},\n",
       "   {'USE_DT': '20200706',\n",
       "    'LINE_NUM': '2호선',\n",
       "    'SUB_STA_NM': '을지로입구',\n",
       "    'RIDE_PASGR_NUM': 39536.0,\n",
       "    'ALIGHT_PASGR_NUM': 40657.0,\n",
       "    'WORK_DT': '20200709'},\n",
       "   {'USE_DT': '20200706',\n",
       "    'LINE_NUM': '2호선',\n",
       "    'SUB_STA_NM': '을지로3가',\n",
       "    'RIDE_PASGR_NUM': 21916.0,\n",
       "    'ALIGHT_PASGR_NUM': 21745.0,\n",
       "    'WORK_DT': '20200709'},\n",
       "   {'USE_DT': '20200706',\n",
       "    'LINE_NUM': '2호선',\n",
       "    'SUB_STA_NM': '을지로4가',\n",
       "    'RIDE_PASGR_NUM': 13192.0,\n",
       "    'ALIGHT_PASGR_NUM': 13100.0,\n",
       "    'WORK_DT': '20200709'},\n",
       "   {'USE_DT': '20200706',\n",
       "    'LINE_NUM': '2호선',\n",
       "    'SUB_STA_NM': '동대문역사문화공원(DDP)',\n",
       "    'RIDE_PASGR_NUM': 12160.0,\n",
       "    'ALIGHT_PASGR_NUM': 13480.0,\n",
       "    'WORK_DT': '20200709'},\n",
       "   {'USE_DT': '20200706',\n",
       "    'LINE_NUM': '2호선',\n",
       "    'SUB_STA_NM': '신당',\n",
       "    'RIDE_PASGR_NUM': 13749.0,\n",
       "    'ALIGHT_PASGR_NUM': 13918.0,\n",
       "    'WORK_DT': '20200709'},\n",
       "   {'USE_DT': '20200706',\n",
       "    'LINE_NUM': '2호선',\n",
       "    'SUB_STA_NM': '상왕십리',\n",
       "    'RIDE_PASGR_NUM': 13970.0,\n",
       "    'ALIGHT_PASGR_NUM': 13642.0,\n",
       "    'WORK_DT': '20200709'},\n",
       "   {'USE_DT': '20200706',\n",
       "    'LINE_NUM': '2호선',\n",
       "    'SUB_STA_NM': '왕십리(성동구청)',\n",
       "    'RIDE_PASGR_NUM': 15889.0,\n",
       "    'ALIGHT_PASGR_NUM': 13027.0,\n",
       "    'WORK_DT': '20200709'},\n",
       "   {'USE_DT': '20200706',\n",
       "    'LINE_NUM': '2호선',\n",
       "    'SUB_STA_NM': '한양대',\n",
       "    'RIDE_PASGR_NUM': 7474.0,\n",
       "    'ALIGHT_PASGR_NUM': 8293.0,\n",
       "    'WORK_DT': '20200709'}]}}"
      ]
     },
     "execution_count": 24,
     "metadata": {},
     "output_type": "execute_result"
    }
   ],
   "source": [
    "if response.status_code == 200:\n",
    "    data = response.json()\n",
    "\n",
    "data"
   ]
  },
  {
   "cell_type": "code",
   "execution_count": 27,
   "metadata": {},
   "outputs": [
    {
     "data": {
      "text/plain": [
       "595"
      ]
     },
     "execution_count": 27,
     "metadata": {},
     "output_type": "execute_result"
    }
   ],
   "source": [
    "data.get(\"CardSubwayStatsNew\").get(\"list_total_count\")"
   ]
  },
  {
   "cell_type": "code",
   "execution_count": 35,
   "metadata": {},
   "outputs": [],
   "source": [
    "rows = data.get(\"CardSubwayStatsNew\").get(\"row\")"
   ]
  },
  {
   "cell_type": "code",
   "execution_count": 36,
   "metadata": {},
   "outputs": [
    {
     "data": {
      "text/plain": [
       "19"
      ]
     },
     "execution_count": 36,
     "metadata": {},
     "output_type": "execute_result"
    }
   ],
   "source": [
    "len(rows)"
   ]
  },
  {
   "cell_type": "code",
   "execution_count": 38,
   "metadata": {},
   "outputs": [
    {
     "data": {
      "text/plain": [
       "[['1호선', '서울역', 42971.0, 40480.0],\n",
       " ['1호선', '동묘앞', 7771.0, 8097.0],\n",
       " ['1호선', '시청', 20887.0, 21137.0],\n",
       " ['1호선', '종각', 38561.0, 38282.0],\n",
       " ['1호선', '종로3가', 28104.0, 26490.0],\n",
       " ['1호선', '종로5가', 22868.0, 22984.0],\n",
       " ['1호선', '동대문', 11207.0, 11574.0],\n",
       " ['1호선', '신설동', 14627.0, 14677.0],\n",
       " ['1호선', '제기동', 16875.0, 17366.0],\n",
       " ['1호선', '청량리(서울시립대입구)', 20336.0, 20167.0],\n",
       " ['2호선', '시청', 23743.0, 23776.0],\n",
       " ['2호선', '을지로입구', 39536.0, 40657.0],\n",
       " ['2호선', '을지로3가', 21916.0, 21745.0],\n",
       " ['2호선', '을지로4가', 13192.0, 13100.0],\n",
       " ['2호선', '동대문역사문화공원(DDP)', 12160.0, 13480.0],\n",
       " ['2호선', '신당', 13749.0, 13918.0],\n",
       " ['2호선', '상왕십리', 13970.0, 13642.0],\n",
       " ['2호선', '왕십리(성동구청)', 15889.0, 13027.0],\n",
       " ['2호선', '한양대', 7474.0, 8293.0]]"
      ]
     },
     "execution_count": 38,
     "metadata": {},
     "output_type": "execute_result"
    }
   ],
   "source": [
    "result = [\n",
    "    [\n",
    "        row.get(\"LINE_NUM\"),\n",
    "        row.get(\"SUB_STA_NM\"),\n",
    "        row.get(\"RIDE_PASGR_NUM\"),\n",
    "        row.get(\"ALIGHT_PASGR_NUM\")\n",
    "    ]\n",
    "    for row in rows\n",
    "]"
   ]
  },
  {
   "cell_type": "code",
   "execution_count": 39,
   "metadata": {},
   "outputs": [
    {
     "data": {
      "text/html": [
       "<div>\n",
       "<style scoped>\n",
       "    .dataframe tbody tr th:only-of-type {\n",
       "        vertical-align: middle;\n",
       "    }\n",
       "\n",
       "    .dataframe tbody tr th {\n",
       "        vertical-align: top;\n",
       "    }\n",
       "\n",
       "    .dataframe thead th {\n",
       "        text-align: right;\n",
       "    }\n",
       "</style>\n",
       "<table border=\"1\" class=\"dataframe\">\n",
       "  <thead>\n",
       "    <tr style=\"text-align: right;\">\n",
       "      <th></th>\n",
       "      <th>0</th>\n",
       "      <th>1</th>\n",
       "      <th>2</th>\n",
       "      <th>3</th>\n",
       "    </tr>\n",
       "  </thead>\n",
       "  <tbody>\n",
       "    <tr>\n",
       "      <td>0</td>\n",
       "      <td>1호선</td>\n",
       "      <td>서울역</td>\n",
       "      <td>42971</td>\n",
       "      <td>40480</td>\n",
       "    </tr>\n",
       "    <tr>\n",
       "      <td>1</td>\n",
       "      <td>1호선</td>\n",
       "      <td>동묘앞</td>\n",
       "      <td>7771</td>\n",
       "      <td>8097</td>\n",
       "    </tr>\n",
       "    <tr>\n",
       "      <td>2</td>\n",
       "      <td>1호선</td>\n",
       "      <td>시청</td>\n",
       "      <td>20887</td>\n",
       "      <td>21137</td>\n",
       "    </tr>\n",
       "    <tr>\n",
       "      <td>3</td>\n",
       "      <td>1호선</td>\n",
       "      <td>종각</td>\n",
       "      <td>38561</td>\n",
       "      <td>38282</td>\n",
       "    </tr>\n",
       "    <tr>\n",
       "      <td>4</td>\n",
       "      <td>1호선</td>\n",
       "      <td>종로3가</td>\n",
       "      <td>28104</td>\n",
       "      <td>26490</td>\n",
       "    </tr>\n",
       "    <tr>\n",
       "      <td>5</td>\n",
       "      <td>1호선</td>\n",
       "      <td>종로5가</td>\n",
       "      <td>22868</td>\n",
       "      <td>22984</td>\n",
       "    </tr>\n",
       "    <tr>\n",
       "      <td>6</td>\n",
       "      <td>1호선</td>\n",
       "      <td>동대문</td>\n",
       "      <td>11207</td>\n",
       "      <td>11574</td>\n",
       "    </tr>\n",
       "    <tr>\n",
       "      <td>7</td>\n",
       "      <td>1호선</td>\n",
       "      <td>신설동</td>\n",
       "      <td>14627</td>\n",
       "      <td>14677</td>\n",
       "    </tr>\n",
       "    <tr>\n",
       "      <td>8</td>\n",
       "      <td>1호선</td>\n",
       "      <td>제기동</td>\n",
       "      <td>16875</td>\n",
       "      <td>17366</td>\n",
       "    </tr>\n",
       "    <tr>\n",
       "      <td>9</td>\n",
       "      <td>1호선</td>\n",
       "      <td>청량리(서울시립대입구)</td>\n",
       "      <td>20336</td>\n",
       "      <td>20167</td>\n",
       "    </tr>\n",
       "    <tr>\n",
       "      <td>10</td>\n",
       "      <td>2호선</td>\n",
       "      <td>시청</td>\n",
       "      <td>23743</td>\n",
       "      <td>23776</td>\n",
       "    </tr>\n",
       "    <tr>\n",
       "      <td>11</td>\n",
       "      <td>2호선</td>\n",
       "      <td>을지로입구</td>\n",
       "      <td>39536</td>\n",
       "      <td>40657</td>\n",
       "    </tr>\n",
       "    <tr>\n",
       "      <td>12</td>\n",
       "      <td>2호선</td>\n",
       "      <td>을지로3가</td>\n",
       "      <td>21916</td>\n",
       "      <td>21745</td>\n",
       "    </tr>\n",
       "    <tr>\n",
       "      <td>13</td>\n",
       "      <td>2호선</td>\n",
       "      <td>을지로4가</td>\n",
       "      <td>13192</td>\n",
       "      <td>13100</td>\n",
       "    </tr>\n",
       "    <tr>\n",
       "      <td>14</td>\n",
       "      <td>2호선</td>\n",
       "      <td>동대문역사문화공원(DDP)</td>\n",
       "      <td>12160</td>\n",
       "      <td>13480</td>\n",
       "    </tr>\n",
       "    <tr>\n",
       "      <td>15</td>\n",
       "      <td>2호선</td>\n",
       "      <td>신당</td>\n",
       "      <td>13749</td>\n",
       "      <td>13918</td>\n",
       "    </tr>\n",
       "    <tr>\n",
       "      <td>16</td>\n",
       "      <td>2호선</td>\n",
       "      <td>상왕십리</td>\n",
       "      <td>13970</td>\n",
       "      <td>13642</td>\n",
       "    </tr>\n",
       "    <tr>\n",
       "      <td>17</td>\n",
       "      <td>2호선</td>\n",
       "      <td>왕십리(성동구청)</td>\n",
       "      <td>15889</td>\n",
       "      <td>13027</td>\n",
       "    </tr>\n",
       "    <tr>\n",
       "      <td>18</td>\n",
       "      <td>2호선</td>\n",
       "      <td>한양대</td>\n",
       "      <td>7474</td>\n",
       "      <td>8293</td>\n",
       "    </tr>\n",
       "  </tbody>\n",
       "</table>\n",
       "</div>"
      ],
      "text/plain": [
       "      0               1      2      3\n",
       "0   1호선             서울역  42971  40480\n",
       "1   1호선             동묘앞   7771   8097\n",
       "2   1호선              시청  20887  21137\n",
       "3   1호선              종각  38561  38282\n",
       "4   1호선            종로3가  28104  26490\n",
       "5   1호선            종로5가  22868  22984\n",
       "6   1호선             동대문  11207  11574\n",
       "7   1호선             신설동  14627  14677\n",
       "8   1호선             제기동  16875  17366\n",
       "9   1호선    청량리(서울시립대입구)  20336  20167\n",
       "10  2호선              시청  23743  23776\n",
       "11  2호선           을지로입구  39536  40657\n",
       "12  2호선           을지로3가  21916  21745\n",
       "13  2호선           을지로4가  13192  13100\n",
       "14  2호선  동대문역사문화공원(DDP)  12160  13480\n",
       "15  2호선              신당  13749  13918\n",
       "16  2호선            상왕십리  13970  13642\n",
       "17  2호선       왕십리(성동구청)  15889  13027\n",
       "18  2호선             한양대   7474   8293"
      ]
     },
     "execution_count": 39,
     "metadata": {},
     "output_type": "execute_result"
    }
   ],
   "source": [
    "import pandas as pd\n",
    "pd.DataFrame(result)"
   ]
  },
  {
   "cell_type": "code",
   "execution_count": null,
   "metadata": {},
   "outputs": [],
   "source": []
  }
 ],
 "metadata": {
  "kernelspec": {
   "display_name": "Python 3",
   "language": "python",
   "name": "python3"
  },
  "language_info": {
   "codemirror_mode": {
    "name": "ipython",
    "version": 3
   },
   "file_extension": ".py",
   "mimetype": "text/x-python",
   "name": "python",
   "nbconvert_exporter": "python",
   "pygments_lexer": "ipython3",
   "version": "3.7.4"
  }
 },
 "nbformat": 4,
 "nbformat_minor": 2
}
