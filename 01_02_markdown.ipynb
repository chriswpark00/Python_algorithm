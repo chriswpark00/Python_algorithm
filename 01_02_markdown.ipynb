{
 "cells": [
  {
   "cell_type": "markdown",
   "metadata": {},
   "source": [
    "# MarkDown 문서 익히기\n",
    "확장자 .md 로 된 문서들<br>\n",
    "HTML(markup language) 대체 기능"
   ]
  },
  {
   "cell_type": "code",
   "execution_count": 14,
   "metadata": {},
   "outputs": [],
   "source": [
    "\"\"\"\n",
    "1. 장점\n",
    "    - 간편 + 쉬움\n",
    "    - 다양한 플랫폼에서 지원\n",
    "1. 단점\n",
    "    1. 표준이 없다 (표현매체마다 다르게 보임)\n",
    "    1. 모든 HTML을 대체하진 못한다\n",
    "\"\"\"\n",
    "None"
   ]
  },
  {
   "cell_type": "markdown",
   "metadata": {},
   "source": [
    "1. 장점\n",
    "    - 간편 + 쉬움\n",
    "    - 다양한 플랫폼에서 지원\n",
    "    \n",
    "1. 단점\n",
    "    1. 표준이 없다 (표현매체마다 다르게 보임)\n",
    "    1. 모든 HTML을 대체하진 못한다"
   ]
  },
  {
   "cell_type": "code",
   "execution_count": 15,
   "metadata": {},
   "outputs": [],
   "source": [
    "\"\"\"\n",
    "\n",
    "\n",
    "\"\"\"\n",
    "None"
   ]
  },
  {
   "cell_type": "markdown",
   "metadata": {},
   "source": [
    "---"
   ]
  },
  {
   "cell_type": "markdown",
   "metadata": {},
   "source": [
    "# 제목 1\n",
    "## 제목 2\n",
    "### 제목 3\n",
    "#### 제목 4\n",
    "##### 제목 5"
   ]
  },
  {
   "cell_type": "code",
   "execution_count": 16,
   "metadata": {},
   "outputs": [],
   "source": [
    "# 줄바꿈\n",
    "# <br> 혹은 '2번의 띄어쓰기'"
   ]
  },
  {
   "cell_type": "code",
   "execution_count": null,
   "metadata": {},
   "outputs": [],
   "source": []
  },
  {
   "cell_type": "markdown",
   "metadata": {},
   "source": [
    "동해물과 백두산이 마르고 닳도록  \n",
    "하느님이 보우하사 우리나라 만세  \n",
    "무궁화 삼천리 화려강산<br>\n",
    "대한사람 대한으로 길이 보전하세"
   ]
  },
  {
   "cell_type": "code",
   "execution_count": null,
   "metadata": {},
   "outputs": [],
   "source": []
  },
  {
   "cell_type": "markdown",
   "metadata": {},
   "source": [
    "## 이탤릭, 굵기\n",
    "이탤릭체는 *별표*, _언더바_ 로 감싸주자<br>\n",
    "굵기는 **별2개**, __언더바2개__ 로 감싸주자"
   ]
  },
  {
   "cell_type": "code",
   "execution_count": null,
   "metadata": {},
   "outputs": [],
   "source": []
  },
  {
   "cell_type": "markdown",
   "metadata": {},
   "source": [
    "# 링크\n",
    "[GOOGLE](https://google.com)<br>\n",
    "[네이버](https://naver.com)"
   ]
  },
  {
   "cell_type": "code",
   "execution_count": null,
   "metadata": {},
   "outputs": [],
   "source": []
  },
  {
   "cell_type": "markdown",
   "metadata": {},
   "source": [
    "# 이미지\n",
    "![girl](https://www.w3schools.com/html/img_girl.jpg)"
   ]
  },
  {
   "cell_type": "markdown",
   "metadata": {},
   "source": [
    "# html 사용 가능\n",
    "<img src=\"https://www.w3schools.com/html/img_girl.jpg\" width=\"200px\" height=\"300px\">"
   ]
  },
  {
   "cell_type": "code",
   "execution_count": null,
   "metadata": {},
   "outputs": [],
   "source": []
  },
  {
   "cell_type": "markdown",
   "metadata": {},
   "source": [
    "인라인 `코드`강조(backtick)"
   ]
  },
  {
   "cell_type": "code",
   "execution_count": null,
   "metadata": {},
   "outputs": [],
   "source": []
  }
 ],
 "metadata": {
  "kernelspec": {
   "display_name": "Python 3",
   "language": "python",
   "name": "python3"
  },
  "language_info": {
   "codemirror_mode": {
    "name": "ipython",
    "version": 3
   },
   "file_extension": ".py",
   "mimetype": "text/x-python",
   "name": "python",
   "nbconvert_exporter": "python",
   "pygments_lexer": "ipython3",
   "version": "3.7.4"
  }
 },
 "nbformat": 4,
 "nbformat_minor": 2
}
