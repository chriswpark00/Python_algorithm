{
 "cells": [
  {
   "cell_type": "markdown",
   "metadata": {},
   "source": [
    "## Big-O 표기법으로 표현"
   ]
  },
  {
   "cell_type": "markdown",
   "metadata": {},
   "source": [
    "# 입력하는 데이터의 개수 (n) 이 무한에 접근하면 무슨 일이 일어날까\n"
   ]
  },
  {
   "cell_type": "code",
   "execution_count": null,
   "metadata": {},
   "outputs": [],
   "source": [
    "import time\n",
    "from datetime import timedelta\n",
    "\n"
   ]
  },
  {
   "cell_type": "markdown",
   "metadata": {},
   "source": [
    "입력되는 데이터 n 에 비례해서 시간복잡도 증가\n",
    "- O(n)\n",
    "\n",
    "\n"
   ]
  },
  {
   "cell_type": "code",
   "execution_count": 2,
   "metadata": {},
   "outputs": [],
   "source": [
    "def func1(n):\n",
    "    total = 0\n",
    "    for i in range(n):\n",
    "        total += 1\n",
    "    return total"
   ]
  },
  {
   "cell_type": "code",
   "execution_count": 3,
   "metadata": {},
   "outputs": [],
   "source": [
    "# func 의 수행시간 체크\n",
    "def check_time(func, num, title=''):\n",
    "    start_time = time.time()\n",
    "    func(num)\n",
    "    end_time = time.time()\n",
    "    elapsed_time = end_time - start_time # 경과시간\n",
    "    print('%s: n = %d 경과시간 %s' % (title, num, str(timedelta(seconds = elapsed_time))))\n"
   ]
  },
  {
   "cell_type": "code",
   "execution_count": 17,
   "metadata": {},
   "outputs": [
    {
     "name": "stdout",
     "output_type": "stream",
     "text": [
      "func1: n = 1000000 경과시간 0:00:00.039901\n"
     ]
    }
   ],
   "source": [
    "check_time(func1, 1000000, 'func1')"
   ]
  },
  {
   "cell_type": "code",
   "execution_count": 19,
   "metadata": {},
   "outputs": [
    {
     "name": "stdout",
     "output_type": "stream",
     "text": [
      "func1: n = 2000000 경과시간 0:00:00.078016\n"
     ]
    }
   ],
   "source": [
    "check_time(func1, 2000000, 'func1')"
   ]
  },
  {
   "cell_type": "code",
   "execution_count": 20,
   "metadata": {},
   "outputs": [
    {
     "name": "stdout",
     "output_type": "stream",
     "text": [
      "func1: n = 1000000 경과시간 0:00:00.042398\n",
      "func1: n = 2000000 경과시간 0:00:00.071241\n",
      "func1: n = 4000000 경과시간 0:00:00.140586\n",
      "func1: n = 8000000 경과시간 0:00:00.286729\n"
     ]
    }
   ],
   "source": [
    "size = 1000000 #백만\n",
    "for i in range(4):\n",
    "    check_time(func1, size, 'func1')\n",
    "    size *= 2"
   ]
  },
  {
   "cell_type": "markdown",
   "metadata": {},
   "source": [
    "입력되는 데이터 n의 제곱 (n<sup>2</sup>) 에 비례해서 시간복잡도 증가\n",
    "- O(n<sup>2</sup>)\n",
    "\n",
    "\n"
   ]
  },
  {
   "cell_type": "code",
   "execution_count": 21,
   "metadata": {},
   "outputs": [],
   "source": [
    "def func2(n):\n",
    "    total = 0\n",
    "    for i in range(n):\n",
    "        for i in range(n):\n",
    "            total += 1\n",
    "    return total"
   ]
  },
  {
   "cell_type": "code",
   "execution_count": 23,
   "metadata": {},
   "outputs": [
    {
     "name": "stdout",
     "output_type": "stream",
     "text": [
      "func2: n = 1000 경과시간 0:00:00.039880\n",
      "func2: n = 2000 경과시간 0:00:00.128760\n",
      "func2: n = 4000 경과시간 0:00:00.569265\n",
      "func2: n = 8000 경과시간 0:00:02.291173\n"
     ]
    }
   ],
   "source": [
    "size = 1000 #백만\n",
    "for i in range(4):\n",
    "    check_time(func2, size, 'func2')\n",
    "    size *= 2"
   ]
  },
  {
   "cell_type": "markdown",
   "metadata": {},
   "source": [
    "입력되는 데이터 n의 3제곱 (n<sup>3</sup>) 에 비례해서 시간복잡도 증가\n",
    "- O(n<sup>3</sup>)\n",
    "\n",
    "\n"
   ]
  },
  {
   "cell_type": "code",
   "execution_count": 24,
   "metadata": {},
   "outputs": [],
   "source": [
    "def func3(n):\n",
    "    total = 0\n",
    "    for i in range(n):\n",
    "        for j in range(n):\n",
    "            for k in range(n):\n",
    "                total += 1\n",
    "    return total\n",
    "\n",
    "\n"
   ]
  },
  {
   "cell_type": "code",
   "execution_count": 26,
   "metadata": {},
   "outputs": [
    {
     "name": "stdout",
     "output_type": "stream",
     "text": [
      "func3: n = 100 경과시간 0:00:00.036923\n",
      "func3: n = 200 경과시간 0:00:00.233103\n",
      "func3: n = 400 경과시간 0:00:02.092123\n",
      "func3: n = 800 경과시간 0:00:17.522634\n"
     ]
    }
   ],
   "source": [
    "size = 100 #백만\n",
    "for i in range(4):\n",
    "    check_time(func3, size, 'func3')\n",
    "    size *= 2"
   ]
  },
  {
   "cell_type": "markdown",
   "metadata": {},
   "source": [
    "---\n",
    "![big o](https://miro.medium.com/max/1400/1*jiVqYhDzvODfVq6RH0DB1g.png)\n",
    "- x 축은 '입력 데이터 량'\n",
    "- y 축은 '소요시간'\n",
    "\n",
    "\n"
   ]
  },
  {
   "cell_type": "markdown",
   "metadata": {},
   "source": [
    "---\n",
    "### 시간복잡도 비교\n",
    "![비교](https://miro.medium.com/max/1112/0*_pZdQCZ2LGo9gPy9)\n",
    "오른쪽으로 갈수록 효율이 않좋다\n",
    "\n",
    "\n"
   ]
  },
  {
   "cell_type": "code",
   "execution_count": null,
   "metadata": {},
   "outputs": [],
   "source": []
  }
 ],
 "metadata": {
  "kernelspec": {
   "display_name": "Python 3",
   "language": "python",
   "name": "python3"
  },
  "language_info": {
   "codemirror_mode": {
    "name": "ipython",
    "version": 3
   },
   "file_extension": ".py",
   "mimetype": "text/x-python",
   "name": "python",
   "nbconvert_exporter": "python",
   "pygments_lexer": "ipython3",
   "version": "3.7.4"
  }
 },
 "nbformat": 4,
 "nbformat_minor": 2
}
