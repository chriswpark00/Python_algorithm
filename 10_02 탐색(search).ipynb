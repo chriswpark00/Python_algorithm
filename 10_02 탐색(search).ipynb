{
 "cells": [
  {
   "cell_type": "markdown",
   "metadata": {},
   "source": [
    "# 탐색 (Search)\n",
    "- 애시당초 저장할때  ‘탐색’ 에 최적화된 형태로 저장\n",
    "- 자료구조가 중요한 이유.\n",
    "    - 애시당초 ‘목적’에 맞는 설계를 해야 한다\n",
    "    - ex) 힙 → 애시당초 저장할때 ‘최댓값, 최솟값’  뽑아내기에 최적화된 형태의 이진트리로 저장됨.\n",
    "\n",
    "\n",
    "\n"
   ]
  },
  {
   "cell_type": "markdown",
   "metadata": {},
   "source": [
    "# 이진 탐색 트리 (Binary Search Tree: BST) \n",
    "탐색(검색)에 특화된 자료구조\n",
    "\n",
    "- 이진 탐색 트리의 노드에 저장된 키(key)는 유일! \n",
    "- 루트 노드의 키 > 왼쪽 서브 트리를 구성하는 키 \n",
    "- 루트 노드의 키 < 오른쪽 서브 트리를 구성하는 키 \n",
    "- 왼쪽과 오른쪽 서브 트리도 이진 탐색 트리!\n",
    "\n",
    "![bst](https://upload.wikimedia.org/wikipedia/commons/thumb/d/da/Binary_search_tree.svg/200px-Binary_search_tree.svg.png)\n",
    "\n",
    "\n",
    "\n"
   ]
  },
  {
   "cell_type": "markdown",
   "metadata": {},
   "source": [
    "# BST 에 새로운 데이터 추가 (insert)\n",
    "![insert](https://www.techiedelight.com/wp-content/uploads/Insert-into-BST.png)\n",
    "\n",
    "\n"
   ]
  },
  {
   "cell_type": "code",
   "execution_count": 2,
   "metadata": {},
   "outputs": [],
   "source": [
    "class NodeBst:\n",
    "    def __init__(self, value=None):\n",
    "        self.value = value\n",
    "        self.left = None\n",
    "        self.right = None\n",
    "    \n",
    "    def __repr__(self):\n",
    "        return f'{self.value}'\n",
    "    \n",
    "    # 주어진 값(value)로 BST에 노드 추가, 재귀적으로 정의 recursive call\n",
    "    def add_next_node(self, value):\n",
    "        new_node = NodeBst(value)\n",
    "        \n",
    "        # 1. 자기보다 값이 크면 right로..\n",
    "        if value > self.value:\n",
    "            # self.right에 node가 존재하면 add_next_node, 값이 없으면 그 위치에 node 추가\n",
    "            self.right = self.right and self.right.add_next_node(value) or new_node\n",
    "            \n",
    "        # 2. 자기보다 값이 작으면 left로..\n",
    "        elif value < self.value:\n",
    "            self.left = self.left and self.left.add_next_node(value) or new_node\n",
    "            \n",
    "        # 3. 같으면 불가\n",
    "        else:\n",
    "            print(\"중복된 노드를 허용하지 않습니다.\")\n",
    "\n",
    "        \n",
    "        return self\n",
    "    \n",
    "    # BST에서 주어진 값(value)의 노드를 찾아서 리턴, 재귀적으로 정의\n",
    "    # 못찾으면 None 리턴\n",
    "    def search_for_node(self, value):\n",
    "        if self.value == value: #찾았다\n",
    "            return self.value\n",
    "        \n",
    "        # self.left가 None이 아니고 찾고자 하는 value가 현재node의 값보다 작다면\n",
    "        if self.left and value < self.value:\n",
    "            # self.left의 node의 값과 찾고자 하는 value를 다시 비교 (재귀호출)\n",
    "            return self.left.search_for_node(value)\n",
    "        if self.right and value > self.value:\n",
    "            return self.right.search_for_node(value)\n",
    "        \n",
    "        # 만약 위 조건 모두 충족하지못하는 경우.\n",
    "        # 즉, 찾고자 하는 value가 BST에 없는 경우\n",
    "        return None\n",
    "        "
   ]
  },
  {
   "cell_type": "code",
   "execution_count": 3,
   "metadata": {},
   "outputs": [],
   "source": [
    "class BinarySearchTree:\n",
    "    def __init__(self):\n",
    "        self.root = None\n",
    "    \n",
    "    # BST에 새 노드(value) 추가. 중복되는 값은 불가\n",
    "    def insert(self, value):\n",
    "        if not self.root: # 루트가 None인경우 / 루트가 없는경우\n",
    "            self.root = NodeBst(value)\n",
    "        else: #루트로 부터 시작하여 BST에 value(노드) 추가\n",
    "            self.root.add_next_node(value)\n",
    "    \n",
    "    # BST에서 특정 값(value)의 노드를 찾아서 노드 리턴, 못찾으면 None  리턴\n",
    "    def search(self, value):\n",
    "        return self.root and self.root.search_for_node(value)"
   ]
  },
  {
   "cell_type": "code",
   "execution_count": 4,
   "metadata": {},
   "outputs": [],
   "source": [
    "bst = BinarySearchTree()"
   ]
  },
  {
   "cell_type": "code",
   "execution_count": 5,
   "metadata": {},
   "outputs": [],
   "source": [
    "for i in [6, 4, 8, 2, 5, 7, 9, 1, 3]:\n",
    "    bst.insert(i)"
   ]
  },
  {
   "cell_type": "code",
   "execution_count": 6,
   "metadata": {},
   "outputs": [],
   "source": [
    "bst.root.left.left.right.left"
   ]
  },
  {
   "cell_type": "code",
   "execution_count": 7,
   "metadata": {},
   "outputs": [
    {
     "name": "stdout",
     "output_type": "stream",
     "text": [
      "None\n",
      "1\n",
      "2\n",
      "3\n",
      "4\n",
      "5\n",
      "6\n",
      "7\n",
      "8\n",
      "9\n"
     ]
    },
    {
     "data": {
      "text/plain": [
       "9"
      ]
     },
     "execution_count": 7,
     "metadata": {},
     "output_type": "execute_result"
    }
   ],
   "source": [
    "i = 0\n",
    "for i in range(10):\n",
    "    print(bst.search(i))\n",
    "\n",
    "i"
   ]
  },
  {
   "cell_type": "code",
   "execution_count": 8,
   "metadata": {},
   "outputs": [],
   "source": [
    "import time\n",
    "from datetime import timedelta\n",
    "import random\n",
    "import copy   # deepcopy 사용할거다\n",
    "\n",
    "# 랜덤으로 리스트 작성\n",
    "def gen_rand(num):\n",
    "    data = [i for i in range(num)]\n",
    "    random.shuffle(data)\n",
    "    return data\n",
    "    \n",
    "# 오름차순 리스트 작성\n",
    "def gen_asc(num):\n",
    "    return [i for i in range(num)]\n",
    "\n",
    "# 내림차순 리스트 작성\n",
    "def gen_desc(num):\n",
    "    return [i for i in range(num - 1, -1, -1)]\n",
    "\n",
    "def test_search(obj, search_data, title):\n",
    "    start_time = time.time()\n",
    "    for data in search_data:\n",
    "        obj.search(data)\n",
    "    end_time = time.time()\n",
    "    elapsed_time = end_time - start_time # 경과시간\n",
    "    \n",
    "    print('%s: 평균검색시간 %s' % (title, str(timedelta(seconds = elapsed_time / len(search_data)))))\n",
    "\n",
    "# times 만큼 같은 데이터 에서 같은 조건으로 반복\n",
    "def test_ntimes(title, gen = \"랜덤\", size = 1000, times=5):\n",
    "    \n",
    "    if gen == \"랜덤\":\n",
    "        input_data = gen_rand(size)\n",
    "    elif gen == \"오름\":\n",
    "        input_data = gen_asc(size)\n",
    "    elif gen == \"내림\":\n",
    "        input_data = gen_desc(size)\n",
    "    else:\n",
    "        print('gen 오류')\n",
    "        return \n",
    "    \n",
    "    search_tree = BinarySearchTree()\n",
    "    for data in input_data:\n",
    "        search_tree.insert(data)\n",
    "    \n",
    "    \n",
    "    ordered_data = gen_asc(size)  # 검색할 데이터\n",
    "    for i in range(times):\n",
    "        test_search(search_tree, ordered_data, (\"%s-%s %d %d차\" % (title, gen, size, i + 1)))\n",
    "    \n",
    "\n",
    "\n",
    "\n",
    "\n"
   ]
  },
  {
   "cell_type": "code",
   "execution_count": 9,
   "metadata": {},
   "outputs": [
    {
     "name": "stdout",
     "output_type": "stream",
     "text": [
      "BST-랜덤 20000 1차: 평균검색시간 0:00:00.000004\n",
      "BST-랜덤 20000 2차: 평균검색시간 0:00:00.000004\n",
      "BST-랜덤 20000 3차: 평균검색시간 0:00:00.000004\n",
      "\n",
      "BST-랜덤 40000 1차: 평균검색시간 0:00:00.000004\n",
      "BST-랜덤 40000 2차: 평균검색시간 0:00:00.000004\n",
      "BST-랜덤 40000 3차: 평균검색시간 0:00:00.000004\n",
      "\n",
      "BST-랜덤 70000 1차: 평균검색시간 0:00:00.000004\n",
      "BST-랜덤 70000 2차: 평균검색시간 0:00:00.000004\n",
      "BST-랜덤 70000 3차: 평균검색시간 0:00:00.000004\n"
     ]
    }
   ],
   "source": [
    "test_ntimes(\"BST\", \"랜덤\", 20000, 3)\n",
    "print()\n",
    "test_ntimes(\"BST\", \"랜덤\", 40000, 3)\n",
    "print()\n",
    "test_ntimes(\"BST\", \"랜덤\", 70000, 3)"
   ]
  },
  {
   "cell_type": "markdown",
   "metadata": {},
   "source": [
    "---\n",
    "## BST 의 최악의 상황 (Worst case 는 무엇일까?)\n",
    "**skewed binary search tree (치우친상태)**    vs  **balanced binary search tree (균형잡힌 상태)**\n",
    "\n",
    "치운친 상태에서는 **O(n)** 에 수렴한다\n",
    "\n",
    "<img src=\"http://bluehawk.monmouth.edu/~rclayton/web-pages/s11-503/baltreesf1.png\" style=\"float:left\"/><br>\n",
    "\n",
    "\n",
    "\n"
   ]
  },
  {
   "cell_type": "code",
   "execution_count": 10,
   "metadata": {},
   "outputs": [
    {
     "name": "stdout",
     "output_type": "stream",
     "text": [
      "BST-오름 100 1차: 평균검색시간 0:00:00.000010\n",
      "BST-오름 100 2차: 평균검색시간 0:00:00\n",
      "BST-오름 100 3차: 평균검색시간 0:00:00.000010\n",
      "\n",
      "BST-오름 200 1차: 평균검색시간 0:00:00.000020\n",
      "BST-오름 200 2차: 평균검색시간 0:00:00.000020\n",
      "BST-오름 200 3차: 평균검색시간 0:00:00.000020\n",
      "\n",
      "BST-오름 400 1차: 평균검색시간 0:00:00.000037\n",
      "BST-오름 400 2차: 평균검색시간 0:00:00.000015\n",
      "BST-오름 400 3차: 평균검색시간 0:00:00.000039\n",
      "\n",
      "BST-오름 800 1차: 평균검색시간 0:00:00.000096\n",
      "BST-오름 800 2차: 평균검색시간 0:00:00.000078\n",
      "BST-오름 800 3차: 평균검색시간 0:00:00.000078\n",
      "\n"
     ]
    }
   ],
   "source": [
    "test_ntimes(\"BST\", \"오름\", 100, 3)\n",
    "print()\n",
    "test_ntimes(\"BST\", \"오름\", 200, 3)\n",
    "print()\n",
    "test_ntimes(\"BST\", \"오름\", 400, 3)\n",
    "print()\n",
    "test_ntimes(\"BST\", \"오름\", 800, 3)\n",
    "print()"
   ]
  },
  {
   "cell_type": "code",
   "execution_count": null,
   "metadata": {},
   "outputs": [],
   "source": []
  }
 ],
 "metadata": {
  "kernelspec": {
   "display_name": "Python 3",
   "language": "python",
   "name": "python3"
  },
  "language_info": {
   "codemirror_mode": {
    "name": "ipython",
    "version": 3
   },
   "file_extension": ".py",
   "mimetype": "text/x-python",
   "name": "python",
   "nbconvert_exporter": "python",
   "pygments_lexer": "ipython3",
   "version": "3.7.4"
  }
 },
 "nbformat": 4,
 "nbformat_minor": 2
}
