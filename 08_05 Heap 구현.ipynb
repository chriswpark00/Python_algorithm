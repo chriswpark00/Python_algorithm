{
 "cells": [
  {
   "cell_type": "markdown",
   "metadata": {},
   "source": [
    "# Heap 구현"
   ]
  },
  {
   "cell_type": "code",
   "execution_count": 65,
   "metadata": {},
   "outputs": [],
   "source": [
    "class Heap: \n",
    "    def __init__(self, comp):\n",
    "        self.arr = [None] # 0번째는 None으로 채워놓고 시작, Heap은 1부터 사용\n",
    "        self.size = 0 # 노드(데이터) 개수\n",
    "        self.comp = comp #우선순위 비교 함수\n",
    "            # comp(d1, d2) 함수\n",
    "            # d1 이 크면 양수를 리턴, d2가 크면 음수를 리턴, 캍으면 0을 리턴\n",
    "        \n",
    "    # 부모노드의 인덱스\n",
    "    def get_parent_idx(self, idx):\n",
    "        return idx // 2\n",
    "    \n",
    "    # left 자식 노드의 인덱스\n",
    "    def get_left_idx(self, idx):\n",
    "        return idx * 2\n",
    "    \n",
    "    # right 자식 노드의 인덱스\n",
    "    def get_right_idx(self, idx):\n",
    "        return idx * 2 + 1\n",
    "\n",
    "    \n",
    "    # 힙에 데이터 추가\n",
    "    def insert(self, data):\n",
    "        # 1. 데이터 추가, 가장 마지막 데이터 다음에 위치 (complete binary tree)\n",
    "        self.arr.append(data)\n",
    "        \n",
    "        # 추가된 데이터의 리스트 상의 인덱스는?\n",
    "        idx = len(self.arr) - 1\n",
    "        \n",
    "        # 2. compare data w/ parent\n",
    "            # 2-1. if parent < data, switch. then go back to #2.\n",
    "            # 2-2. if parent > data, end\n",
    "        # while을 사용하는 이유?\n",
    "        # 새로 들어올 데이터의 idx를 결정하기 위해서\n",
    "        while idx != 1: # 계속 부모와 비교하다가 root (index 1)까지 도달하면 종료\n",
    "            parentData = self.arr[self.get_parent_idx(idx)]\n",
    "            if self.comp(data, parentData) > 0:\n",
    "                self.arr[idx] = parentData # 부모를 자신의 위치로 끌어내리고\n",
    "                idx = self.get_parent_idx(idx) # 자신의 idx 값을 부모 idx 값으로 이동\n",
    "            else:\n",
    "                # 부모보다 우선순위가 같거나 작다면, 거기서 멈춤\n",
    "                break\n",
    "        \n",
    "        self.arr[idx] = data # idx가 결정된 그곳에 새로 들어온 데이터 쓰기 (자리잡기)\n",
    "        self.size += 1\n",
    "            \n",
    "    \n",
    "    # 우선순위가 높은 자식의 인덱스 값 리턴 -> delete 에 사용\n",
    "    def getHighPriority(self, idx):\n",
    "        left_idx = self.get_left_idx(idx)\n",
    "        right_idx = self.get_right_idx(idx)\n",
    "        \n",
    "        # 자식 노드가 없다면..\n",
    "        if left_idx > self.size:\n",
    "            return 0\n",
    "        \n",
    "        # 자식이 하나밖에 없다면\n",
    "        if left_idx == self.size: return left_idx\n",
    "        \n",
    "        # 두개의 자식이 있다면\n",
    "        # 우선순위 비교ㅕ 함수 사용\n",
    "        if self.comp(self.arr[left_idx], self.arr[right_idx]) < 0:\n",
    "            return right_idx\n",
    "        else: # 왼쪽이 같거나 우선순위가 높다면(값이 크다면)\n",
    "            return left_idx\n",
    "            \n",
    "    \n",
    "    # 힙에서 데이터 삭제, 삭제된 root 리턴\n",
    "    def delete(self):\n",
    "        if self.size <= 0: return None\n",
    "        \n",
    "        retData = self.arr[1] #인덱스 1번이 루트노드(우선순위 최댓값 데이터)\n",
    "        \n",
    "        lastData = self.arr[self.size] # 마지막 노드 데이터\n",
    "        \n",
    "        parentIdx = 1 #인덱스 1번부터 시작해서 비교하며 내려올것이다.\n",
    "        \n",
    "        # while문을 순환하면서 parentIdx를 결정한다\n",
    "        # 결정된 parentIdx 위치에 lastData 삽입\n",
    "        while(True):\n",
    "            # parentIdx 의 자식 노드\n",
    "            childIdx = self.getHighPriority(parentIdx)\n",
    "            \n",
    "            #만약 자식이 하나도 없다면? 종료\n",
    "            if not childIdx: break\n",
    "            \n",
    "            # 선택된 자식( childIdx)과, 밑에서 올라온 lastData우선순위 비교\n",
    "            # 만약 자식의 우선순위가 같거나 크면 종료\n",
    "            if self.comp(lastData, self.arr[childIdx]) >= 0: break\n",
    "                \n",
    "            # 자식의 우선순위가 더 높다면, 자식(childIdx)이 parentIdx로 이동\n",
    "            # parentIdx는 그 자식의 인덱스(childIdx)로 내려와야 한다\n",
    "            self.arr[parentIdx] = self.arr[childIdx]\n",
    "            parentIdx = childIdx\n",
    "        \n",
    "        # while이 긑난 그자리(parentIdx)에 맨 밑에서 올라왔던 lastData 위치\n",
    "        self.arr[parentIdx] = lastData\n",
    "        self.arr.pop() # 마지막 데이터 삭제\n",
    "        self.size -= 1 #힘 size 1만큼 감소\n",
    "        \n",
    "        \n",
    "        return retData #최초에 뽑아낸 루트 데이터\n",
    "            \n",
    "    def __repr__(self):\n",
    "        return f\"{self.arr}\""
   ]
  },
  {
   "cell_type": "code",
   "execution_count": 74,
   "metadata": {},
   "outputs": [],
   "source": [
    "def compPriority(d1, d2):\n",
    "#     return d1 - d2 # Max-Heap\n",
    "    return d2 - d1 #Min-Heap"
   ]
  },
  {
   "cell_type": "code",
   "execution_count": 75,
   "metadata": {},
   "outputs": [],
   "source": [
    "h = Heap(compPriority)\n"
   ]
  },
  {
   "cell_type": "code",
   "execution_count": 76,
   "metadata": {},
   "outputs": [
    {
     "data": {
      "text/plain": [
       "[None]"
      ]
     },
     "execution_count": 76,
     "metadata": {},
     "output_type": "execute_result"
    }
   ],
   "source": [
    "h.arr"
   ]
  },
  {
   "cell_type": "code",
   "execution_count": 77,
   "metadata": {},
   "outputs": [
    {
     "data": {
      "text/plain": [
       "0"
      ]
     },
     "execution_count": 77,
     "metadata": {},
     "output_type": "execute_result"
    }
   ],
   "source": [
    "h.size"
   ]
  },
  {
   "cell_type": "code",
   "execution_count": 78,
   "metadata": {},
   "outputs": [],
   "source": [
    "for i in [5, 1, 19, 4, 10, 13, 59, -3, 6, 193]:\n",
    "    h.insert(i)"
   ]
  },
  {
   "cell_type": "code",
   "execution_count": 79,
   "metadata": {},
   "outputs": [
    {
     "data": {
      "text/plain": [
       "[None, -3, 1, 13, 4, 10, 19, 59, 5, 6, 193]"
      ]
     },
     "execution_count": 79,
     "metadata": {},
     "output_type": "execute_result"
    }
   ],
   "source": [
    "h"
   ]
  },
  {
   "cell_type": "code",
   "execution_count": 80,
   "metadata": {},
   "outputs": [
    {
     "data": {
      "text/plain": [
       "10"
      ]
     },
     "execution_count": 80,
     "metadata": {},
     "output_type": "execute_result"
    }
   ],
   "source": [
    "h.size"
   ]
  },
  {
   "cell_type": "code",
   "execution_count": 81,
   "metadata": {},
   "outputs": [
    {
     "name": "stdout",
     "output_type": "stream",
     "text": [
      "-3\n",
      "1\n",
      "4\n",
      "5\n",
      "6\n",
      "10\n",
      "13\n",
      "19\n",
      "59\n",
      "193\n"
     ]
    }
   ],
   "source": [
    "for i in range(10):\n",
    "    print(h.delete())"
   ]
  },
  {
   "cell_type": "code",
   "execution_count": null,
   "metadata": {},
   "outputs": [],
   "source": []
  }
 ],
 "metadata": {
  "kernelspec": {
   "display_name": "Python 3",
   "language": "python",
   "name": "python3"
  },
  "language_info": {
   "codemirror_mode": {
    "name": "ipython",
    "version": 3
   },
   "file_extension": ".py",
   "mimetype": "text/x-python",
   "name": "python",
   "nbconvert_exporter": "python",
   "pygments_lexer": "ipython3",
   "version": "3.7.4"
  }
 },
 "nbformat": 4,
 "nbformat_minor": 2
}
