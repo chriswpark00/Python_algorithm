{
 "cells": [
  {
   "cell_type": "markdown",
   "metadata": {},
   "source": [
    "# 리스트 (List)\n",
    "1. 데이터(들)이 순서대로 저장된 형태의 자료구조\n",
    "1. 저장된 '순서’가 유지된다.\n",
    "1. 데이터의 ‘중복 저장’ 허용\n",
    "\n"
   ]
  },
  {
   "cell_type": "markdown",
   "metadata": {},
   "source": [
    "# 연결 리스트 (Linked List)\n",
    "1. '값' + '다음 Node 에 대한 포인터(참조)'  로 이루어진 Node 로 이루어진 선형 리스트\n",
    "2. 마지막 노드는 Null (파이썬에서는 None)\n",
    "3. head : 맨 앞의 노드 ,   tail : 맨 뒤의 노드\n",
    "4. 새 항목을 head 앞에 추가가능,   새 항목을 tail 뒤에 추가 가능\n",
    "\n",
    "\n",
    "\n"
   ]
  },
  {
   "cell_type": "markdown",
   "metadata": {},
   "source": [
    "![노드](https://img1.daumcdn.net/thumb/R800x0/?scode=mtistory2&fname=https%3A%2F%2Ft1.daumcdn.net%2Fcfile%2Ftistory%2F23490844589151461C)\n",
    "\n"
   ]
  },
  {
   "cell_type": "markdown",
   "metadata": {},
   "source": [
    "![연결리스트](https://he-s3.s3.amazonaws.com/media/uploads/1b76d10.png)\n",
    "\n"
   ]
  },
  {
   "cell_type": "markdown",
   "metadata": {},
   "source": [
    "![배열 vs 연결리스트](https://qph.fs.quoracdn.net/main-qimg-41cdfa9a815220598f2c03f1bccaeff8)\n",
    "\n",
    "- ArrayList\n",
    "    - 장점 : n번째 데이터 조회 유리\n",
    "    - 단점 : 데이터 삽입, 삭제, 추가 불리\n",
    "\n",
    "- LinkedList\n",
    "    - 장점 : 데이터 삽입, 삭제, 추가 유리\n",
    "    - 단점 : n번째 데이터 조회 불리\n",
    "\n",
    "\n"
   ]
  },
  {
   "cell_type": "markdown",
   "metadata": {},
   "source": []
  },
  {
   "cell_type": "markdown",
   "metadata": {},
   "source": [
    "# Node"
   ]
  },
  {
   "cell_type": "code",
   "execution_count": 17,
   "metadata": {},
   "outputs": [],
   "source": [
    "class Node:\n",
    "    def __init__(self, value=None, pointer=None):\n",
    "        self.value = value # 값\n",
    "        self.pointer = pointer # 다음 노드에 대한 포인터\n",
    "    \n",
    "    def __repr__(self):\n",
    "        return f\"[{self.value}]->{self.pointer}\""
   ]
  },
  {
   "cell_type": "code",
   "execution_count": 18,
   "metadata": {},
   "outputs": [
    {
     "data": {
      "text/plain": [
       "[N1]->None"
      ]
     },
     "execution_count": 18,
     "metadata": {},
     "output_type": "execute_result"
    }
   ],
   "source": [
    "n1 = Node(\"N1\")\n",
    "n1"
   ]
  },
  {
   "cell_type": "code",
   "execution_count": 19,
   "metadata": {},
   "outputs": [
    {
     "data": {
      "text/plain": [
       "[N2]->None"
      ]
     },
     "execution_count": 19,
     "metadata": {},
     "output_type": "execute_result"
    }
   ],
   "source": [
    "n2 = Node(\"N2\")\n",
    "n2"
   ]
  },
  {
   "cell_type": "code",
   "execution_count": 20,
   "metadata": {},
   "outputs": [
    {
     "data": {
      "text/plain": [
       "[N1]->[N2]->None"
      ]
     },
     "execution_count": 20,
     "metadata": {},
     "output_type": "execute_result"
    }
   ],
   "source": [
    "n1.pointer = n2\n",
    "n1"
   ]
  },
  {
   "cell_type": "code",
   "execution_count": 21,
   "metadata": {},
   "outputs": [
    {
     "data": {
      "text/plain": [
       "[N3]->[N1]->[N2]->None"
      ]
     },
     "execution_count": 21,
     "metadata": {},
     "output_type": "execute_result"
    }
   ],
   "source": [
    "n3 = Node(\"N3\")\n",
    "n3.pointer = n1\n",
    "n3"
   ]
  },
  {
   "cell_type": "markdown",
   "metadata": {},
   "source": [
    "# LinkedList 구현\n",
    "FIFO (First-In First-Out) 으로 구현\n",
    "\n",
    "\n",
    "- List 의 동작들\n",
    "    - 각 노드의 값을 출력하기\n",
    "    - 이전 노드(prev) 기준으로 다음 노드(next) '삭제'하기\n",
    "    - 새 노드 '추가',\n",
    "    - n번째 노드 찾기 (index)\n",
    "    - '값'으로 노드 찾기\n",
    "    - n번째 노드 '삭제'하기\n",
    "    - 특정 '값'의 노드 '삭제'하기"
   ]
  },
  {
   "cell_type": "code",
   "execution_count": 128,
   "metadata": {},
   "outputs": [],
   "source": [
    "class LinkedList:\n",
    "    def __init__(self):\n",
    "        self.head = None #리스트의 첫번째 노드를 가리키는 포인터\n",
    "        self.tail = None #리스트의 마지막 노드를 가리키는 포인터\n",
    "        self.length = 0 #리스트의 노드(Node) 개수\n",
    "        \n",
    "        \n",
    "    # 새 노드 추가하기 (리스트의 끝에 추가)\n",
    "    # taile 이 존재한다면 tail의 다음 Node에 새 노드 추가\n",
    "    def _add(self, value):\n",
    "        self.length += 1 #노드 개수 증가\n",
    "        node = Node(value) #새로이 추가될 노드 생성\n",
    "        if self.tail: #None이 아닐경우 (tail에 노드가 있는경우)\n",
    "            self.tail.pointer = node #새 노드가 기존 tail 뒤에 연결\n",
    "        \n",
    "        self.tail = node #tail 은 뒤에 추가된 새 노드를 가리키게 이동\n",
    "    \n",
    "    def addNode(self, value):\n",
    "        if not self.head: #None일경우. 즉, 첫번째 추가되는 노드 (head = None)라면\n",
    "            self.length = 1 #첫번째 노드!\n",
    "            node = Node(value)\n",
    "            self.head = node\n",
    "            self.tail = node\n",
    "        else: #첫번째 노드가 아닌 경우( 이미 1개 이상의 노드가 있었다면)\n",
    "            self._add(value)\n",
    "    \n",
    "    #head 부터 시작하여 각 node의 값을 출력하기\n",
    "    def _printList(self):\n",
    "        node = self.head\n",
    "        while node:\n",
    "            print(node.value, end=\" \")\n",
    "            node = node.pointer\n",
    "        print()\n",
    "    \n",
    "    # 리스트 안의 노드 전부 삭제\n",
    "    def _deleteAll(self):\n",
    "        self.length = 0\n",
    "        self.head = None\n",
    "        self.tail = None\n",
    "        print(\"연결리스트가 비었습니다\")\n",
    "    \n",
    "    # 인덱스로 노드 찾기\n",
    "    # 못찾으면 None 리턴\n",
    "    def _find(self, index):\n",
    "#         node = self.head\n",
    "#         if index == 0:\n",
    "#             return node.value\n",
    "#         else:\n",
    "#             cnt = 1\n",
    "#             while(cnt <= index):\n",
    "#                 cnt += 1\n",
    "#                 if node.pointer:\n",
    "#                     node = node.pointer\n",
    "#                 else:\n",
    "#                     return None\n",
    "#             return node.value\n",
    "        node = self.head\n",
    "        prev = None   #발견한 노드의 이전노드, 나중에 삭제/삽입동작에 사용\n",
    "        i = 0\n",
    "        while node and i < index:\n",
    "            prev = node\n",
    "            node = node.pointer\n",
    "            i += 1\n",
    "        return node, prev\n",
    "    \n",
    "    #값으로 노드를 찾는다\n",
    "    def _find_by_value(self, value):\n",
    "        node = self.head\n",
    "        prev = None\n",
    "        while node:\n",
    "            if node.value == value:\n",
    "                break\n",
    "            prev = node\n",
    "            node = node.pointer\n",
    "        return node, prev\n",
    "    \n",
    "    # 이전노드(prev) 기반으로 노드(Node) 삭제\n",
    "    def _delete(self, prev, node):\n",
    "        self.length -= 1\n",
    "        if prev: # 이전 노드가 있는 경우\n",
    "            prev.pointer = node.pointer\n",
    "        else: #삭제하려는 노드가 첫번째 노드인 경우\n",
    "            self.head = node.pointer\n",
    "    \n",
    "    # 인덱스로 노드를 찾아서 삭제\n",
    "    def deleteNode(self, index):\n",
    "        node, prev = self._find(index)\n",
    "        if node: #index 번째 노드를 찾았으면\n",
    "            self._delete(prev, node)\n",
    "        else:\n",
    "            print(f'인덱스{index}번째 노드가 없습니다')\n",
    "    \n",
    "    # 값으로 노드를 찾아서 삭제\n",
    "    def deleteNodeByValue(self, value):\n",
    "        node, prev = self._find_by_value(value)\n",
    "        if node:\n",
    "            self._delete(prev, node)\n",
    "        else:\n",
    "            print(f'값{value}를 갖고 있는 노드가 없습니다.')\n",
    "    \n",
    "    # index 번째에 value 값을 가진 새 노드 삽입\n",
    "    def insert(self, index, value):\n",
    "        node, prev = self._find(index)\n",
    "        \n",
    "        self.length += 1\n",
    "        newNode = Node(value, node)\n",
    "            \n",
    "            # 맨뒤에 insert 되는 경우\n",
    "        if not self.tail or self.tail == node: # self.tail == None 인경우 or self.tail == node 인경우\n",
    "            self.tail = newNode\n",
    "\n",
    "            # 맨앞에 insert 되는 경우\n",
    "        if not prev: # prev == None 인 경우\n",
    "            self.head = newNode\n",
    "        else:\n",
    "            # 중간에 insert 되는 경우\n",
    "            prev.pointer = newNode"
   ]
  },
  {
   "cell_type": "code",
   "execution_count": 129,
   "metadata": {},
   "outputs": [],
   "source": [
    "ll = LinkedList()"
   ]
  },
  {
   "cell_type": "code",
   "execution_count": 130,
   "metadata": {},
   "outputs": [],
   "source": [
    "for i in range(1, 10):\n",
    "    ll.addNode(i)\n"
   ]
  },
  {
   "cell_type": "code",
   "execution_count": 131,
   "metadata": {},
   "outputs": [
    {
     "data": {
      "text/plain": [
       "9"
      ]
     },
     "execution_count": 131,
     "metadata": {},
     "output_type": "execute_result"
    }
   ],
   "source": [
    "ll.length"
   ]
  },
  {
   "cell_type": "code",
   "execution_count": 132,
   "metadata": {},
   "outputs": [
    {
     "name": "stdout",
     "output_type": "stream",
     "text": [
      "1 2 3 4 5 6 7 8 9 \n"
     ]
    }
   ],
   "source": [
    "ll._printList()"
   ]
  },
  {
   "cell_type": "code",
   "execution_count": 133,
   "metadata": {},
   "outputs": [
    {
     "name": "stdout",
     "output_type": "stream",
     "text": [
      "1 2 100 3 4 5 6 7 8 9 \n"
     ]
    }
   ],
   "source": [
    "ll.insert(2, 100)\n",
    "ll._printList()"
   ]
  },
  {
   "cell_type": "code",
   "execution_count": 134,
   "metadata": {},
   "outputs": [
    {
     "name": "stdout",
     "output_type": "stream",
     "text": [
      "500 1 2 100 3 4 5 6 7 8 9 \n"
     ]
    }
   ],
   "source": [
    "ll.insert(0, 500)\n",
    "ll._printList()"
   ]
  },
  {
   "cell_type": "code",
   "execution_count": 135,
   "metadata": {},
   "outputs": [],
   "source": [
    "import time\n",
    "from datetime import timedelta"
   ]
  },
  {
   "cell_type": "code",
   "execution_count": 144,
   "metadata": {},
   "outputs": [
    {
     "name": "stdout",
     "output_type": "stream",
     "text": [
      "insert() x 80000 경과시간 0:00:00.004110\n"
     ]
    }
   ],
   "source": [
    "num = 80000\n",
    "data = []\n",
    "start_time = time.time()\n",
    "for i in range(num, 0, -1):\n",
    "    data.insert(0, i)\n",
    "end_time = time.time()\n",
    "elapsed_time = end_time - start_time\n",
    "print('insert() x %d 경과시간 %s' %(num, str(timedelta(seconds = elapsed_time))) )"
   ]
  },
  {
   "cell_type": "code",
   "execution_count": 146,
   "metadata": {},
   "outputs": [
    {
     "ename": "TypeError",
     "evalue": "insert() missing 1 required positional argument: 'value'",
     "output_type": "error",
     "traceback": [
      "\u001b[1;31m---------------------------------------------------------------------------\u001b[0m",
      "\u001b[1;31mTypeError\u001b[0m                                 Traceback (most recent call last)",
      "\u001b[1;32m<ipython-input-146-0a8aed799665>\u001b[0m in \u001b[0;36m<module>\u001b[1;34m\u001b[0m\n\u001b[0;32m      2\u001b[0m \u001b[0mstart_time\u001b[0m \u001b[1;33m=\u001b[0m \u001b[0mtime\u001b[0m\u001b[1;33m.\u001b[0m\u001b[0mtime\u001b[0m\u001b[1;33m(\u001b[0m\u001b[1;33m)\u001b[0m\u001b[1;33m\u001b[0m\u001b[1;33m\u001b[0m\u001b[0m\n\u001b[0;32m      3\u001b[0m \u001b[1;32mfor\u001b[0m \u001b[0mi\u001b[0m \u001b[1;32min\u001b[0m \u001b[0mrange\u001b[0m\u001b[1;33m(\u001b[0m\u001b[0mnum\u001b[0m\u001b[1;33m,\u001b[0m \u001b[1;36m0\u001b[0m\u001b[1;33m,\u001b[0m \u001b[1;33m-\u001b[0m\u001b[1;36m1\u001b[0m\u001b[1;33m)\u001b[0m\u001b[1;33m:\u001b[0m\u001b[1;33m\u001b[0m\u001b[1;33m\u001b[0m\u001b[0m\n\u001b[1;32m----> 4\u001b[1;33m     \u001b[0mll\u001b[0m\u001b[1;33m.\u001b[0m\u001b[0minsert\u001b[0m\u001b[1;33m(\u001b[0m\u001b[1;36m0\u001b[0m\u001b[1;33m)\u001b[0m\u001b[1;33m\u001b[0m\u001b[1;33m\u001b[0m\u001b[0m\n\u001b[0m\u001b[0;32m      5\u001b[0m \u001b[1;33m\u001b[0m\u001b[0m\n\u001b[0;32m      6\u001b[0m \u001b[0mend_time\u001b[0m \u001b[1;33m=\u001b[0m \u001b[0mtime\u001b[0m\u001b[1;33m.\u001b[0m\u001b[0mtime\u001b[0m\u001b[1;33m(\u001b[0m\u001b[1;33m)\u001b[0m\u001b[1;33m\u001b[0m\u001b[1;33m\u001b[0m\u001b[0m\n",
      "\u001b[1;31mTypeError\u001b[0m: insert() missing 1 required positional argument: 'value'"
     ]
    }
   ],
   "source": [
    "ll = LinkedList()\n",
    "start_time = time.time()\n",
    "for i in range(num, 0, -1):\n",
    "    ll.insert(0, i)\n",
    "\n",
    "end_time = time.time()\n",
    "elapsed_time = end_time - start_time\n",
    "print('insert() x %d 경과시간 %s' %(num, str(timedelta(seconds = elapsed_time))) )"
   ]
  },
  {
   "cell_type": "code",
   "execution_count": null,
   "metadata": {},
   "outputs": [],
   "source": []
  },
  {
   "cell_type": "code",
   "execution_count": null,
   "metadata": {},
   "outputs": [],
   "source": []
  },
  {
   "cell_type": "code",
   "execution_count": null,
   "metadata": {},
   "outputs": [],
   "source": []
  },
  {
   "cell_type": "code",
   "execution_count": null,
   "metadata": {},
   "outputs": [],
   "source": []
  },
  {
   "cell_type": "code",
   "execution_count": null,
   "metadata": {},
   "outputs": [],
   "source": []
  },
  {
   "cell_type": "code",
   "execution_count": null,
   "metadata": {},
   "outputs": [],
   "source": []
  },
  {
   "cell_type": "code",
   "execution_count": 126,
   "metadata": {},
   "outputs": [
    {
     "name": "stdout",
     "output_type": "stream",
     "text": [
      "(None, [9]->None)\n",
      "([9]->None, [8]->[9]->None)\n",
      "([9]->None, [8]->[9]->None)\n",
      "([8]->[9]->None, [7]->[8]->[9]->None)\n"
     ]
    }
   ],
   "source": [
    "print(ll._find(9))\n",
    "print(ll._find(8))\n",
    "print(ll._find_by_value(9))\n",
    "print(ll._find_by_value(8))"
   ]
  },
  {
   "cell_type": "code",
   "execution_count": 127,
   "metadata": {},
   "outputs": [
    {
     "name": "stdout",
     "output_type": "stream",
     "text": [
      "1 2 3 4 6 7 8 9 \n"
     ]
    },
    {
     "data": {
      "text/plain": [
       "(None, 8)"
      ]
     },
     "execution_count": 127,
     "metadata": {},
     "output_type": "execute_result"
    }
   ],
   "source": [
    "ll.deleteNode(4)\n",
    "ll._printList(), ll.length"
   ]
  },
  {
   "cell_type": "code",
   "execution_count": 116,
   "metadata": {},
   "outputs": [
    {
     "name": "stdout",
     "output_type": "stream",
     "text": [
      "인덱스100번째 노드가 없습니다\n",
      "1 2 3 6 7 8 9 \n"
     ]
    },
    {
     "data": {
      "text/plain": [
       "(None, 7)"
      ]
     },
     "execution_count": 116,
     "metadata": {},
     "output_type": "execute_result"
    }
   ],
   "source": [
    "ll.deleteNode(100)\n",
    "ll._printList(), ll.length"
   ]
  },
  {
   "cell_type": "code",
   "execution_count": 115,
   "metadata": {},
   "outputs": [
    {
     "name": "stdout",
     "output_type": "stream",
     "text": [
      "1 2 3 6 7 8 9 \n"
     ]
    },
    {
     "data": {
      "text/plain": [
       "7"
      ]
     },
     "execution_count": 115,
     "metadata": {},
     "output_type": "execute_result"
    }
   ],
   "source": [
    "ll.deleteNodeByValue(4)\n",
    "ll._printList()\n",
    "ll.length"
   ]
  },
  {
   "cell_type": "code",
   "execution_count": 117,
   "metadata": {},
   "outputs": [
    {
     "name": "stdout",
     "output_type": "stream",
     "text": [
      "값4를 갖고 있는 노드가 없습니다.\n",
      "1 2 3 6 7 8 9 \n"
     ]
    },
    {
     "data": {
      "text/plain": [
       "7"
      ]
     },
     "execution_count": 117,
     "metadata": {},
     "output_type": "execute_result"
    }
   ],
   "source": [
    "ll.deleteNodeByValue(4)\n",
    "ll._printList()\n",
    "ll.length"
   ]
  },
  {
   "cell_type": "code",
   "execution_count": 55,
   "metadata": {},
   "outputs": [],
   "source": [
    "ll.addNode('hello')"
   ]
  },
  {
   "cell_type": "code",
   "execution_count": 28,
   "metadata": {},
   "outputs": [
    {
     "name": "stdout",
     "output_type": "stream",
     "text": [
      "1 2 3 4 5 6 7 8 9 hello \n"
     ]
    }
   ],
   "source": [
    "ll._printList()"
   ]
  },
  {
   "cell_type": "code",
   "execution_count": 29,
   "metadata": {},
   "outputs": [
    {
     "data": {
      "text/plain": [
       "10"
      ]
     },
     "execution_count": 29,
     "metadata": {},
     "output_type": "execute_result"
    }
   ],
   "source": [
    "ll.length"
   ]
  },
  {
   "cell_type": "code",
   "execution_count": 30,
   "metadata": {},
   "outputs": [
    {
     "name": "stdout",
     "output_type": "stream",
     "text": [
      "연결리스트가 비었습니다\n"
     ]
    }
   ],
   "source": [
    "ll._deleteAll()"
   ]
  },
  {
   "cell_type": "code",
   "execution_count": null,
   "metadata": {},
   "outputs": [],
   "source": []
  },
  {
   "cell_type": "code",
   "execution_count": null,
   "metadata": {},
   "outputs": [],
   "source": []
  }
 ],
 "metadata": {
  "kernelspec": {
   "display_name": "Python 3",
   "language": "python",
   "name": "python3"
  },
  "language_info": {
   "codemirror_mode": {
    "name": "ipython",
    "version": 3
   },
   "file_extension": ".py",
   "mimetype": "text/x-python",
   "name": "python",
   "nbconvert_exporter": "python",
   "pygments_lexer": "ipython3",
   "version": "3.7.4"
  }
 },
 "nbformat": 4,
 "nbformat_minor": 2
}
