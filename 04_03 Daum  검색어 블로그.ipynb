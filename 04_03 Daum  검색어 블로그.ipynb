{
 "cells": [
  {
   "cell_type": "code",
   "execution_count": 1,
   "metadata": {},
   "outputs": [],
   "source": [
    "#Daum 에서 특정한 '키워드'로 검색하기\n",
    "#거기서 '블로그' 항목으로 들어가서\n",
    "#블로그 제목, 블로그 이름을 뽑아보세요.\n",
    "\n",
    "#실제로 포스팅 이름과 블로그 이름이 아래와 같이 나와야 함..\n",
    "\n",
    "# dict 들의 list\n",
    "# 각 dict 에는 포스팅 제목 과 블로그 제목이 담겨야 함\n",
    "#[\n",
    "#   {\n",
    "#        post_title: 포스팅 제목,  \n",
    "#        blog_title: 블로그 제목\n",
    "#   },\n",
    "#   {},\n",
    "#   {},\n",
    "#]\n"
   ]
  },
  {
   "cell_type": "code",
   "execution_count": 3,
   "metadata": {},
   "outputs": [],
   "source": [
    "\"\"\"\n",
    "[{'post_title': '[밑바닥] 1. 헬로 파이썬', 'blog_title': \"Rookie's Programming\"}, \n",
    "{'post_title': '이클립스 파이썬 개발환경 설정하기!', 'blog_title': '마이자몽'}, \n",
    "{'post_title': '파이썬프로그래밍 파이썬 입문', 'blog_title': 'ITPLE과 함께하는 신...'}, \n",
    "{'post_title': '[파이썬] 아나콘다 설치 하기!', 'blog_title': '세상에 발자취를 남기...'}, \n",
    "{'post_title': '파이썬 프로그래밍 인강으로 시작하자', 'blog_title': '영쌤의 티스토리'}, \n",
    "{'post_title': '[Python] 파이썬의 변수, 상수', 'blog_title': '화장품 이야기'}, \n",
    "{'post_title': '파이썬 설치 방법', 'blog_title': '배워서 남주자'}, \n",
    "{'post_title': '[Python] 파이썬 기본 문법', 'blog_title': '컴퓨터공학,  통계학,...'}, \n",
    "{'post_title': '파이썬 무작정 독학하기 : 기본설치', 'blog_title': '이슈포인트'}, \n",
    "{'post_title': '[파이썬] Jupyter notebook 사용방법', 'blog_title': 'python_analysis'}]\n",
    "\"\"\"\n",
    "None"
   ]
  },
  {
   "cell_type": "code",
   "execution_count": 28,
   "metadata": {},
   "outputs": [
    {
     "data": {
      "text/plain": [
       "10"
      ]
     },
     "execution_count": 28,
     "metadata": {},
     "output_type": "execute_result"
    }
   ],
   "source": [
    "from bs4 import BeautifulSoup\n",
    "import requests\n",
    "import urllib.parse as urlparser\n",
    "\n",
    "keyword = \"파이썬\"\n",
    "url = \"https://search.daum.net/search?w=blog&nil_search=btn&DA=NTB&enc=utf8&q=\" + urlparser.quote(keyword)\n",
    "response = requests.get(url)\n",
    "if response.status_code == 200:\n",
    "    dom = BeautifulSoup(response.text, \"html.parser\")\n",
    "\n",
    "l1 = dom.select(\"div#blogColl div.coll_cont ul.list_info li\")\n",
    "len(l1)\n",
    "# post_title ->       div.wrap_tit"
   ]
  },
  {
   "cell_type": "code",
   "execution_count": 44,
   "metadata": {},
   "outputs": [
    {
     "data": {
      "text/plain": [
       "[{'post_title': '[Python] 파이썬 기본 문법', 'blog_title': '컴퓨터공학,  통계학,...'},\n",
       " {'post_title': 'Python 파이썬과 아나콘다', 'blog_title': '만년필잉크의 데이터 ...'},\n",
       " {'post_title': '파이썬 알고리즘 인터뷰', 'blog_title': '책만 출판사 이야기'},\n",
       " {'post_title': '[파이썬 완전정복] 문자열 유형', 'blog_title': '앤디라이언의  IT스토...'},\n",
       " {'post_title': '파이썬 (Python) 둘러보기', 'blog_title': 'DATARGET'},\n",
       " {'post_title': '[파이썬] 아나콘다 설치 하기!', 'blog_title': '세상에 발자취를 남기...'},\n",
       " {'post_title': '파이썬3 다운로드/설치방법', 'blog_title': '나의 일본생활 기록 _...'},\n",
       " {'post_title': '(Python) 0 - 파이썬(Python) 개요', 'blog_title': '개돌프로그래밍'},\n",
       " {'post_title': '파이썬(Python) 기본 문법 요약 정리', 'blog_title': '꿈을 향하여 질주하기'},\n",
       " {'post_title': '온라인파이썬학원 :: 파이썬 기초교육 인터넷 강의',\n",
       "  'blog_title': '혁신하는 기술 IT정보...'}]"
      ]
     },
     "execution_count": 44,
     "metadata": {},
     "output_type": "execute_result"
    }
   ],
   "source": [
    "result = [\n",
    "    {\n",
    "        \"post_title\" : post_element.select_one(\".wrap_tit\").text.strip(),\n",
    "        \"blog_title\" : post_element.select_one(\".info .f_nb\").text.strip()\n",
    "    }\n",
    "    for post_element in l1\n",
    "]\n",
    "result"
   ]
  },
  {
   "cell_type": "code",
   "execution_count": 46,
   "metadata": {},
   "outputs": [
    {
     "data": {
      "text/plain": [
       "[{'post_title': '[Python] 파이썬 기본 문법',\n",
       "  'blog_title': '컴퓨터공학,  통계학,...',\n",
       "  'url': 'http://itisik.tistory.com/32'},\n",
       " {'post_title': 'Python 파이썬과 아나콘다',\n",
       "  'blog_title': '만년필잉크의 데이터 ...',\n",
       "  'url': 'http://gooopy.tistory.com/22'},\n",
       " {'post_title': '파이썬 알고리즘 인터뷰',\n",
       "  'blog_title': '책만 출판사 이야기',\n",
       "  'url': 'http://www.onlybook.co.kr/42'},\n",
       " {'post_title': '[파이썬 완전정복] 문자열 유형',\n",
       "  'blog_title': '앤디라이언의  IT스토...',\n",
       "  'url': 'http://andylion.tistory.com/31'},\n",
       " {'post_title': '파이썬 (Python) 둘러보기',\n",
       "  'blog_title': 'DATARGET',\n",
       "  'url': 'http://datarget.tistory.com/6'},\n",
       " {'post_title': '[파이썬] 아나콘다 설치 하기!',\n",
       "  'blog_title': '세상에 발자취를 남기...',\n",
       "  'url': 'http://mingtrace.tistory.com/495'},\n",
       " {'post_title': '파이썬3 다운로드/설치방법',\n",
       "  'blog_title': '나의 일본생활 기록 _...',\n",
       "  'url': 'http://flying-tiger.tistory.com/104'},\n",
       " {'post_title': '(Python) 0 - 파이썬(Python) 개요',\n",
       "  'blog_title': '개돌프로그래밍',\n",
       "  'url': 'http://dogrushdev.tistory.com/114'},\n",
       " {'post_title': '파이썬(Python) 기본 문법 요약 정리',\n",
       "  'blog_title': '꿈을 향하여 질주하기',\n",
       "  'url': 'http://sparkdia.tistory.com/60'},\n",
       " {'post_title': '온라인파이썬학원 :: 파이썬 기초교육 인터넷 강의',\n",
       "  'blog_title': '혁신하는 기술 IT정보...',\n",
       "  'url': 'http://itocean.tistory.com/695'}]"
      ]
     },
     "execution_count": 46,
     "metadata": {},
     "output_type": "execute_result"
    }
   ],
   "source": [
    "from bs4 import BeautifulSoup\n",
    "import requests\n",
    "import urllib.parse as urlparser\n",
    "\n",
    "keyword = \"파이썬\"\n",
    "url = \"https://search.daum.net/search?w=blog&nil_search=btn&DA=NTB&enc=utf8&q=\" + urlparser.quote(keyword)\n",
    "response = requests.get(url)\n",
    "if response.status_code == 200:\n",
    "    dom = BeautifulSoup(response.text, \"html.parser\")\n",
    "    \n",
    "l1 = dom.select(\"div#blogColl div.coll_cont ul.list_info li\")    \n",
    "result = [\n",
    "    {\n",
    "        \"post_title\" : post_element.select_one(\".wrap_tit\").text.strip(),\n",
    "        \"blog_title\" : post_element.select_one(\".info .f_nb\").text.strip(),\n",
    "        \"url\" : post_element.select_one(\".wrap_tit a\").attrs.get(\"href\").strip()\n",
    "    }\n",
    "    for post_element in l1\n",
    "]\n",
    "result"
   ]
  },
  {
   "cell_type": "markdown",
   "metadata": {},
   "source": [
    "# 파일로 저장"
   ]
  },
  {
   "cell_type": "code",
   "execution_count": 48,
   "metadata": {},
   "outputs": [],
   "source": [
    "import time\n",
    "import os"
   ]
  },
  {
   "cell_type": "code",
   "execution_count": 50,
   "metadata": {
    "scrolled": true
   },
   "outputs": [
    {
     "data": {
      "text/plain": [
       "'20200720204847'"
      ]
     },
     "execution_count": 50,
     "metadata": {},
     "output_type": "execute_result"
    }
   ],
   "source": [
    "now = time.strftime('%Y%m%d%H%M%S')\n",
    "now"
   ]
  },
  {
   "cell_type": "code",
   "execution_count": 51,
   "metadata": {},
   "outputs": [],
   "source": [
    "filename = f\"DAUM블로그검색_{keyword}_{now}.txt\""
   ]
  },
  {
   "cell_type": "code",
   "execution_count": 52,
   "metadata": {},
   "outputs": [
    {
     "data": {
      "text/plain": [
       "'D:\\\\ds2007'"
      ]
     },
     "execution_count": 52,
     "metadata": {},
     "output_type": "execute_result"
    }
   ],
   "source": [
    "os.getcwd() #현재 경로"
   ]
  },
  {
   "cell_type": "code",
   "execution_count": 53,
   "metadata": {},
   "outputs": [
    {
     "data": {
      "text/plain": [
       "'D:\\\\ds2007\\\\data\\\\DAUM블로그검색_파이썬_20200720204847.txt'"
      ]
     },
     "execution_count": 53,
     "metadata": {},
     "output_type": "execute_result"
    }
   ],
   "source": [
    "filepath = os.path.join(os.getcwd(), 'data', filename)\n",
    "filepath"
   ]
  },
  {
   "cell_type": "code",
   "execution_count": 55,
   "metadata": {},
   "outputs": [],
   "source": [
    "with open(filepath, \"wt\", encoding='utf-8') as f:\n",
    "    for data in result:\n",
    "        f.write(data['post_title'] + \",\" + data['blog_title'] + \",\" + data[\"url\"] + \"\\n\")"
   ]
  },
  {
   "cell_type": "code",
   "execution_count": 58,
   "metadata": {},
   "outputs": [],
   "source": [
    "import time\n",
    "import os\n",
    "now = time.strftime(\"%Y%m%d%H%M%S\")\n",
    "filename = f\"DAUM블로그검색_{keyword}_{now}.txt\"\n",
    "filepath = os.path.join(os.getcwd(), 'data', filename)\n",
    "with open(filepath, \"wt\", encoding=\"utf-8\") as f:\n",
    "    for data in result:\n",
    "        f.write(data['post_title'] + \",\" + data['blog_title'] + \",\" + data[\"url\"] + \"\\n\")"
   ]
  },
  {
   "cell_type": "code",
   "execution_count": 59,
   "metadata": {},
   "outputs": [],
   "source": [
    "import pandas as pd"
   ]
  },
  {
   "cell_type": "code",
   "execution_count": 60,
   "metadata": {},
   "outputs": [
    {
     "data": {
      "text/html": [
       "<div>\n",
       "<style scoped>\n",
       "    .dataframe tbody tr th:only-of-type {\n",
       "        vertical-align: middle;\n",
       "    }\n",
       "\n",
       "    .dataframe tbody tr th {\n",
       "        vertical-align: top;\n",
       "    }\n",
       "\n",
       "    .dataframe thead th {\n",
       "        text-align: right;\n",
       "    }\n",
       "</style>\n",
       "<table border=\"1\" class=\"dataframe\">\n",
       "  <thead>\n",
       "    <tr style=\"text-align: right;\">\n",
       "      <th></th>\n",
       "      <th>post_title</th>\n",
       "      <th>blog_title</th>\n",
       "      <th>url</th>\n",
       "    </tr>\n",
       "  </thead>\n",
       "  <tbody>\n",
       "    <tr>\n",
       "      <td>0</td>\n",
       "      <td>[Python] 파이썬 기본 문법</td>\n",
       "      <td>컴퓨터공학,  통계학,...</td>\n",
       "      <td>http://itisik.tistory.com/32</td>\n",
       "    </tr>\n",
       "    <tr>\n",
       "      <td>1</td>\n",
       "      <td>Python 파이썬과 아나콘다</td>\n",
       "      <td>만년필잉크의 데이터 ...</td>\n",
       "      <td>http://gooopy.tistory.com/22</td>\n",
       "    </tr>\n",
       "    <tr>\n",
       "      <td>2</td>\n",
       "      <td>파이썬 알고리즘 인터뷰</td>\n",
       "      <td>책만 출판사 이야기</td>\n",
       "      <td>http://www.onlybook.co.kr/42</td>\n",
       "    </tr>\n",
       "    <tr>\n",
       "      <td>3</td>\n",
       "      <td>[파이썬 완전정복] 문자열 유형</td>\n",
       "      <td>앤디라이언의  IT스토...</td>\n",
       "      <td>http://andylion.tistory.com/31</td>\n",
       "    </tr>\n",
       "    <tr>\n",
       "      <td>4</td>\n",
       "      <td>파이썬 (Python) 둘러보기</td>\n",
       "      <td>DATARGET</td>\n",
       "      <td>http://datarget.tistory.com/6</td>\n",
       "    </tr>\n",
       "    <tr>\n",
       "      <td>5</td>\n",
       "      <td>[파이썬] 아나콘다 설치 하기!</td>\n",
       "      <td>세상에 발자취를 남기...</td>\n",
       "      <td>http://mingtrace.tistory.com/495</td>\n",
       "    </tr>\n",
       "    <tr>\n",
       "      <td>6</td>\n",
       "      <td>파이썬3 다운로드/설치방법</td>\n",
       "      <td>나의 일본생활 기록 _...</td>\n",
       "      <td>http://flying-tiger.tistory.com/104</td>\n",
       "    </tr>\n",
       "    <tr>\n",
       "      <td>7</td>\n",
       "      <td>(Python) 0 - 파이썬(Python) 개요</td>\n",
       "      <td>개돌프로그래밍</td>\n",
       "      <td>http://dogrushdev.tistory.com/114</td>\n",
       "    </tr>\n",
       "    <tr>\n",
       "      <td>8</td>\n",
       "      <td>파이썬(Python) 기본 문법 요약 정리</td>\n",
       "      <td>꿈을 향하여 질주하기</td>\n",
       "      <td>http://sparkdia.tistory.com/60</td>\n",
       "    </tr>\n",
       "    <tr>\n",
       "      <td>9</td>\n",
       "      <td>온라인파이썬학원 :: 파이썬 기초교육 인터넷 강의</td>\n",
       "      <td>혁신하는 기술 IT정보...</td>\n",
       "      <td>http://itocean.tistory.com/695</td>\n",
       "    </tr>\n",
       "  </tbody>\n",
       "</table>\n",
       "</div>"
      ],
      "text/plain": [
       "                    post_title       blog_title  \\\n",
       "0           [Python] 파이썬 기본 문법  컴퓨터공학,  통계학,...   \n",
       "1             Python 파이썬과 아나콘다   만년필잉크의 데이터 ...   \n",
       "2                 파이썬 알고리즘 인터뷰       책만 출판사 이야기   \n",
       "3            [파이썬 완전정복] 문자열 유형  앤디라이언의  IT스토...   \n",
       "4            파이썬 (Python) 둘러보기         DATARGET   \n",
       "5            [파이썬] 아나콘다 설치 하기!   세상에 발자취를 남기...   \n",
       "6               파이썬3 다운로드/설치방법  나의 일본생활 기록 _...   \n",
       "7  (Python) 0 - 파이썬(Python) 개요          개돌프로그래밍   \n",
       "8      파이썬(Python) 기본 문법 요약 정리      꿈을 향하여 질주하기   \n",
       "9  온라인파이썬학원 :: 파이썬 기초교육 인터넷 강의  혁신하는 기술 IT정보...   \n",
       "\n",
       "                                   url  \n",
       "0         http://itisik.tistory.com/32  \n",
       "1         http://gooopy.tistory.com/22  \n",
       "2         http://www.onlybook.co.kr/42  \n",
       "3       http://andylion.tistory.com/31  \n",
       "4        http://datarget.tistory.com/6  \n",
       "5     http://mingtrace.tistory.com/495  \n",
       "6  http://flying-tiger.tistory.com/104  \n",
       "7    http://dogrushdev.tistory.com/114  \n",
       "8       http://sparkdia.tistory.com/60  \n",
       "9       http://itocean.tistory.com/695  "
      ]
     },
     "execution_count": 60,
     "metadata": {},
     "output_type": "execute_result"
    }
   ],
   "source": [
    "df = pd.DataFrame(result)\n",
    "df"
   ]
  },
  {
   "cell_type": "code",
   "execution_count": 61,
   "metadata": {},
   "outputs": [
    {
     "data": {
      "text/html": [
       "<div>\n",
       "<style scoped>\n",
       "    .dataframe tbody tr th:only-of-type {\n",
       "        vertical-align: middle;\n",
       "    }\n",
       "\n",
       "    .dataframe tbody tr th {\n",
       "        vertical-align: top;\n",
       "    }\n",
       "\n",
       "    .dataframe thead th {\n",
       "        text-align: right;\n",
       "    }\n",
       "</style>\n",
       "<table border=\"1\" class=\"dataframe\">\n",
       "  <thead>\n",
       "    <tr style=\"text-align: right;\">\n",
       "      <th></th>\n",
       "      <th>포스트제목</th>\n",
       "      <th>블로그제목</th>\n",
       "      <th>링크주소</th>\n",
       "    </tr>\n",
       "  </thead>\n",
       "  <tbody>\n",
       "    <tr>\n",
       "      <td>0</td>\n",
       "      <td>[Python] 파이썬 기본 문법</td>\n",
       "      <td>컴퓨터공학,  통계학,...</td>\n",
       "      <td>http://itisik.tistory.com/32</td>\n",
       "    </tr>\n",
       "    <tr>\n",
       "      <td>1</td>\n",
       "      <td>Python 파이썬과 아나콘다</td>\n",
       "      <td>만년필잉크의 데이터 ...</td>\n",
       "      <td>http://gooopy.tistory.com/22</td>\n",
       "    </tr>\n",
       "    <tr>\n",
       "      <td>2</td>\n",
       "      <td>파이썬 알고리즘 인터뷰</td>\n",
       "      <td>책만 출판사 이야기</td>\n",
       "      <td>http://www.onlybook.co.kr/42</td>\n",
       "    </tr>\n",
       "    <tr>\n",
       "      <td>3</td>\n",
       "      <td>[파이썬 완전정복] 문자열 유형</td>\n",
       "      <td>앤디라이언의  IT스토...</td>\n",
       "      <td>http://andylion.tistory.com/31</td>\n",
       "    </tr>\n",
       "    <tr>\n",
       "      <td>4</td>\n",
       "      <td>파이썬 (Python) 둘러보기</td>\n",
       "      <td>DATARGET</td>\n",
       "      <td>http://datarget.tistory.com/6</td>\n",
       "    </tr>\n",
       "    <tr>\n",
       "      <td>5</td>\n",
       "      <td>[파이썬] 아나콘다 설치 하기!</td>\n",
       "      <td>세상에 발자취를 남기...</td>\n",
       "      <td>http://mingtrace.tistory.com/495</td>\n",
       "    </tr>\n",
       "    <tr>\n",
       "      <td>6</td>\n",
       "      <td>파이썬3 다운로드/설치방법</td>\n",
       "      <td>나의 일본생활 기록 _...</td>\n",
       "      <td>http://flying-tiger.tistory.com/104</td>\n",
       "    </tr>\n",
       "    <tr>\n",
       "      <td>7</td>\n",
       "      <td>(Python) 0 - 파이썬(Python) 개요</td>\n",
       "      <td>개돌프로그래밍</td>\n",
       "      <td>http://dogrushdev.tistory.com/114</td>\n",
       "    </tr>\n",
       "    <tr>\n",
       "      <td>8</td>\n",
       "      <td>파이썬(Python) 기본 문법 요약 정리</td>\n",
       "      <td>꿈을 향하여 질주하기</td>\n",
       "      <td>http://sparkdia.tistory.com/60</td>\n",
       "    </tr>\n",
       "    <tr>\n",
       "      <td>9</td>\n",
       "      <td>온라인파이썬학원 :: 파이썬 기초교육 인터넷 강의</td>\n",
       "      <td>혁신하는 기술 IT정보...</td>\n",
       "      <td>http://itocean.tistory.com/695</td>\n",
       "    </tr>\n",
       "  </tbody>\n",
       "</table>\n",
       "</div>"
      ],
      "text/plain": [
       "                         포스트제목            블로그제목  \\\n",
       "0           [Python] 파이썬 기본 문법  컴퓨터공학,  통계학,...   \n",
       "1             Python 파이썬과 아나콘다   만년필잉크의 데이터 ...   \n",
       "2                 파이썬 알고리즘 인터뷰       책만 출판사 이야기   \n",
       "3            [파이썬 완전정복] 문자열 유형  앤디라이언의  IT스토...   \n",
       "4            파이썬 (Python) 둘러보기         DATARGET   \n",
       "5            [파이썬] 아나콘다 설치 하기!   세상에 발자취를 남기...   \n",
       "6               파이썬3 다운로드/설치방법  나의 일본생활 기록 _...   \n",
       "7  (Python) 0 - 파이썬(Python) 개요          개돌프로그래밍   \n",
       "8      파이썬(Python) 기본 문법 요약 정리      꿈을 향하여 질주하기   \n",
       "9  온라인파이썬학원 :: 파이썬 기초교육 인터넷 강의  혁신하는 기술 IT정보...   \n",
       "\n",
       "                                  링크주소  \n",
       "0         http://itisik.tistory.com/32  \n",
       "1         http://gooopy.tistory.com/22  \n",
       "2         http://www.onlybook.co.kr/42  \n",
       "3       http://andylion.tistory.com/31  \n",
       "4        http://datarget.tistory.com/6  \n",
       "5     http://mingtrace.tistory.com/495  \n",
       "6  http://flying-tiger.tistory.com/104  \n",
       "7    http://dogrushdev.tistory.com/114  \n",
       "8       http://sparkdia.tistory.com/60  \n",
       "9       http://itocean.tistory.com/695  "
      ]
     },
     "execution_count": 61,
     "metadata": {},
     "output_type": "execute_result"
    }
   ],
   "source": [
    "df.columns = ['포스트제목', '블로그제목', '링크주소']\n",
    "df"
   ]
  },
  {
   "cell_type": "code",
   "execution_count": 62,
   "metadata": {},
   "outputs": [
    {
     "data": {
      "text/html": [
       "<div>\n",
       "<style scoped>\n",
       "    .dataframe tbody tr th:only-of-type {\n",
       "        vertical-align: middle;\n",
       "    }\n",
       "\n",
       "    .dataframe tbody tr th {\n",
       "        vertical-align: top;\n",
       "    }\n",
       "\n",
       "    .dataframe thead th {\n",
       "        text-align: right;\n",
       "    }\n",
       "</style>\n",
       "<table border=\"1\" class=\"dataframe\">\n",
       "  <thead>\n",
       "    <tr style=\"text-align: right;\">\n",
       "      <th></th>\n",
       "      <th>포스트제목</th>\n",
       "      <th>블로그제목</th>\n",
       "      <th>링크주소</th>\n",
       "    </tr>\n",
       "  </thead>\n",
       "  <tbody>\n",
       "    <tr>\n",
       "      <td>1</td>\n",
       "      <td>[Python] 파이썬 기본 문법</td>\n",
       "      <td>컴퓨터공학,  통계학,...</td>\n",
       "      <td>http://itisik.tistory.com/32</td>\n",
       "    </tr>\n",
       "    <tr>\n",
       "      <td>2</td>\n",
       "      <td>Python 파이썬과 아나콘다</td>\n",
       "      <td>만년필잉크의 데이터 ...</td>\n",
       "      <td>http://gooopy.tistory.com/22</td>\n",
       "    </tr>\n",
       "    <tr>\n",
       "      <td>3</td>\n",
       "      <td>파이썬 알고리즘 인터뷰</td>\n",
       "      <td>책만 출판사 이야기</td>\n",
       "      <td>http://www.onlybook.co.kr/42</td>\n",
       "    </tr>\n",
       "    <tr>\n",
       "      <td>4</td>\n",
       "      <td>[파이썬 완전정복] 문자열 유형</td>\n",
       "      <td>앤디라이언의  IT스토...</td>\n",
       "      <td>http://andylion.tistory.com/31</td>\n",
       "    </tr>\n",
       "    <tr>\n",
       "      <td>5</td>\n",
       "      <td>파이썬 (Python) 둘러보기</td>\n",
       "      <td>DATARGET</td>\n",
       "      <td>http://datarget.tistory.com/6</td>\n",
       "    </tr>\n",
       "    <tr>\n",
       "      <td>6</td>\n",
       "      <td>[파이썬] 아나콘다 설치 하기!</td>\n",
       "      <td>세상에 발자취를 남기...</td>\n",
       "      <td>http://mingtrace.tistory.com/495</td>\n",
       "    </tr>\n",
       "    <tr>\n",
       "      <td>7</td>\n",
       "      <td>파이썬3 다운로드/설치방법</td>\n",
       "      <td>나의 일본생활 기록 _...</td>\n",
       "      <td>http://flying-tiger.tistory.com/104</td>\n",
       "    </tr>\n",
       "    <tr>\n",
       "      <td>8</td>\n",
       "      <td>(Python) 0 - 파이썬(Python) 개요</td>\n",
       "      <td>개돌프로그래밍</td>\n",
       "      <td>http://dogrushdev.tistory.com/114</td>\n",
       "    </tr>\n",
       "    <tr>\n",
       "      <td>9</td>\n",
       "      <td>파이썬(Python) 기본 문법 요약 정리</td>\n",
       "      <td>꿈을 향하여 질주하기</td>\n",
       "      <td>http://sparkdia.tistory.com/60</td>\n",
       "    </tr>\n",
       "    <tr>\n",
       "      <td>10</td>\n",
       "      <td>온라인파이썬학원 :: 파이썬 기초교육 인터넷 강의</td>\n",
       "      <td>혁신하는 기술 IT정보...</td>\n",
       "      <td>http://itocean.tistory.com/695</td>\n",
       "    </tr>\n",
       "  </tbody>\n",
       "</table>\n",
       "</div>"
      ],
      "text/plain": [
       "                          포스트제목            블로그제목  \\\n",
       "1            [Python] 파이썬 기본 문법  컴퓨터공학,  통계학,...   \n",
       "2              Python 파이썬과 아나콘다   만년필잉크의 데이터 ...   \n",
       "3                  파이썬 알고리즘 인터뷰       책만 출판사 이야기   \n",
       "4             [파이썬 완전정복] 문자열 유형  앤디라이언의  IT스토...   \n",
       "5             파이썬 (Python) 둘러보기         DATARGET   \n",
       "6             [파이썬] 아나콘다 설치 하기!   세상에 발자취를 남기...   \n",
       "7                파이썬3 다운로드/설치방법  나의 일본생활 기록 _...   \n",
       "8   (Python) 0 - 파이썬(Python) 개요          개돌프로그래밍   \n",
       "9       파이썬(Python) 기본 문법 요약 정리      꿈을 향하여 질주하기   \n",
       "10  온라인파이썬학원 :: 파이썬 기초교육 인터넷 강의  혁신하는 기술 IT정보...   \n",
       "\n",
       "                                   링크주소  \n",
       "1          http://itisik.tistory.com/32  \n",
       "2          http://gooopy.tistory.com/22  \n",
       "3          http://www.onlybook.co.kr/42  \n",
       "4        http://andylion.tistory.com/31  \n",
       "5         http://datarget.tistory.com/6  \n",
       "6      http://mingtrace.tistory.com/495  \n",
       "7   http://flying-tiger.tistory.com/104  \n",
       "8     http://dogrushdev.tistory.com/114  \n",
       "9        http://sparkdia.tistory.com/60  \n",
       "10       http://itocean.tistory.com/695  "
      ]
     },
     "execution_count": 62,
     "metadata": {},
     "output_type": "execute_result"
    }
   ],
   "source": [
    "df.index = df.index + 1\n",
    "df"
   ]
  },
  {
   "cell_type": "code",
   "execution_count": 64,
   "metadata": {},
   "outputs": [
    {
     "data": {
      "text/plain": [
       "'D:\\\\ds2007\\\\data\\\\Daum블로그검색어_파이썬_20200720210618.xlsx'"
      ]
     },
     "execution_count": 64,
     "metadata": {},
     "output_type": "execute_result"
    }
   ],
   "source": [
    "filepath = os.path.join(os.getcwd(), \"data\", f'Daum블로그검색어_{keyword}_{now}.xlsx')\n",
    "filepath"
   ]
  },
  {
   "cell_type": "code",
   "execution_count": 65,
   "metadata": {},
   "outputs": [],
   "source": [
    "df.to_excel(filepath, encoding = \"euc-kr\")"
   ]
  },
  {
   "cell_type": "code",
   "execution_count": null,
   "metadata": {},
   "outputs": [],
   "source": []
  }
 ],
 "metadata": {
  "kernelspec": {
   "display_name": "Python 3",
   "language": "python",
   "name": "python3"
  },
  "language_info": {
   "codemirror_mode": {
    "name": "ipython",
    "version": 3
   },
   "file_extension": ".py",
   "mimetype": "text/x-python",
   "name": "python",
   "nbconvert_exporter": "python",
   "pygments_lexer": "ipython3",
   "version": "3.7.4"
  }
 },
 "nbformat": 4,
 "nbformat_minor": 2
}
