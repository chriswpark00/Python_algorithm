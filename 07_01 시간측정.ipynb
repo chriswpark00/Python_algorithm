{
 "cells": [
  {
   "cell_type": "markdown",
   "metadata": {},
   "source": [
    "# 경과시간 측정"
   ]
  },
  {
   "cell_type": "code",
   "execution_count": 22,
   "metadata": {},
   "outputs": [],
   "source": [
    "import time\n",
    "from datetime import timedelta as td"
   ]
  },
  {
   "cell_type": "code",
   "execution_count": 39,
   "metadata": {},
   "outputs": [],
   "source": [
    "num = 40000"
   ]
  },
  {
   "cell_type": "code",
   "execution_count": 40,
   "metadata": {},
   "outputs": [
    {
     "name": "stdout",
     "output_type": "stream",
     "text": [
      "append() x 40000 경과시간 0:00:00.004012\n"
     ]
    }
   ],
   "source": [
    "data = []\n",
    "start_time = time.time()\n",
    "for i in range(1, num + 1):\n",
    "    data.append(i)\n",
    "end_time = time.time()\n",
    "elapsed_time = end_time - start_time\n",
    "\n",
    "print('append() x %d 경과시간 %s' %(num, str(timedelta(seconds = elapsed_time))) )\n",
    "# data"
   ]
  },
  {
   "cell_type": "code",
   "execution_count": 41,
   "metadata": {},
   "outputs": [
    {
     "name": "stdout",
     "output_type": "stream",
     "text": [
      "insert() x 40000 경과시간 0:00:00.364275\n"
     ]
    }
   ],
   "source": [
    "data = []\n",
    "start_time = time.time()\n",
    "for i in range(num, 0, -1):\n",
    "    data.insert(0, i)\n",
    "end_time = time.time()\n",
    "elapsed_time = end_time - start_time\n",
    "print('insert() x %d 경과시간 %s' %(num, str(timedelta(seconds = elapsed_time))) )\n",
    "# data"
   ]
  },
  {
   "cell_type": "code",
   "execution_count": null,
   "metadata": {},
   "outputs": [],
   "source": []
  },
  {
   "cell_type": "code",
   "execution_count": 47,
   "metadata": {},
   "outputs": [],
   "source": [
    "num = 4000000"
   ]
  },
  {
   "cell_type": "code",
   "execution_count": 50,
   "metadata": {},
   "outputs": [
    {
     "name": "stdout",
     "output_type": "stream",
     "text": [
      "str(+) x 4000000 경과시간 0:00:01.044128\n"
     ]
    }
   ],
   "source": [
    "data = \"\"\n",
    "start_time = time.time()\n",
    "for i in range(num):\n",
    "    data += \"a\"\n",
    "end_time = time.time()\n",
    "elapsed_time = end_time - start_time\n",
    "print('str(+) x %d 경과시간 %s' %(num, str(timedelta(seconds = elapsed_time))) )"
   ]
  },
  {
   "cell_type": "code",
   "execution_count": 51,
   "metadata": {},
   "outputs": [
    {
     "name": "stdout",
     "output_type": "stream",
     "text": [
      "join() x 4000000 경과시간 0:00:00.375308\n"
     ]
    }
   ],
   "source": [
    "data = []\n",
    "start_time = time.time()\n",
    "for i in range(num):\n",
    "    data.append('a')\n",
    "data = \"\".join(data)\n",
    "end_time = time.time()\n",
    "elapsed_time = end_time - start_time\n",
    "print('join() x %d 경과시간 %s' %(num, str(timedelta(seconds = elapsed_time))) )"
   ]
  },
  {
   "cell_type": "code",
   "execution_count": null,
   "metadata": {},
   "outputs": [],
   "source": []
  }
 ],
 "metadata": {
  "kernelspec": {
   "display_name": "Python 3",
   "language": "python",
   "name": "python3"
  },
  "language_info": {
   "codemirror_mode": {
    "name": "ipython",
    "version": 3
   },
   "file_extension": ".py",
   "mimetype": "text/x-python",
   "name": "python",
   "nbconvert_exporter": "python",
   "pygments_lexer": "ipython3",
   "version": "3.7.4"
  }
 },
 "nbformat": 4,
 "nbformat_minor": 2
}
