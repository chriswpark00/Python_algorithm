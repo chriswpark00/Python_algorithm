{
 "cells": [
  {
   "cell_type": "markdown",
   "metadata": {},
   "source": [
    "# 네이버 실검"
   ]
  },
  {
   "cell_type": "code",
   "execution_count": 3,
   "metadata": {},
   "outputs": [],
   "source": [
    "\"\"\"\n",
    "네이버 실검을 크롤링 하여\n",
    "20개 실검을 리스트로 저장해보기\n",
    "\n",
    "결과예>\n",
    "\n",
    "['이용수', '생생정보통 맛집오늘', '속초붉은대게', '이천 한식 보리밥 뷔페', '동일루', '동대문엽기떡볶이', '약쿠르트', '곽상도', '최송현', '강정호', '서울시 자영업자 생존자금신청', '붉은대게살', '강서구 확진자', '야식남녀', '김우석', '박성광', '토르', '문정인', '국세환급금', '내 마음이 들리니']\n",
    "\n",
    "\"\"\"\n",
    "None"
   ]
  },
  {
   "cell_type": "code",
   "execution_count": 4,
   "metadata": {},
   "outputs": [],
   "source": [
    "import requests\n",
    "\n",
    "url = \"https://apis.naver.com/mobile_main/srchrank/srchrank?frm=main&ag=20s&gr=0&ma=-2&si=-2&en=-2&sp=-2\""
   ]
  },
  {
   "cell_type": "code",
   "execution_count": 7,
   "metadata": {},
   "outputs": [
    {
     "name": "stdout",
     "output_type": "stream",
     "text": [
      "{\"ts\":\"2020-07-22T19:47:00+0900\",\"sm\":\"ag20sgr0mamsimenmspm\",\"rop\":[{\"ag\":\"20s\"},{\"gr\":\"00\"},{\"ma\":\"-2\"},{\"si\":\"-2\"},{\"en\":\"-2\"},{\"sp\":\"-2\"}],\"data\":[{\"rank\":1,\"keyword\":\"고미정\",\"keyword_synonyms\":[]},{\"rank\":2,\"keyword\":\"강남구청\",\"keyword_synonyms\":[]},{\"rank\":3,\"keyword\":\"sk디스커버리\",\"keyword_synonyms\":[]},{\"rank\":4,\"keyword\":\"롯데지주\",\"keyword_synonyms\":[]},{\"rank\":5,\"keyword\":\"강화 풍물시장\",\"keyword_synonyms\":[]},{\"rank\":6,\"keyword\":\"손승원\",\"keyword_synonyms\":[]},{\"rank\":7,\"keyword\":\"포천\",\"keyword_synonyms\":[]},{\"rank\":8,\"keyword\":\"악의꽃\",\"keyword_synonyms\":[]},{\"rank\":9,\"keyword\":\"조혜정\",\"keyword_synonyms\":[]},{\"rank\":10,\"keyword\":\"8사단\",\"keyword_synonyms\":[]},{\"rank\":11,\"keyword\":\"유진우 고미정\",\"keyword_synonyms\":[]},{\"rank\":12,\"keyword\":\"강화도 보문사\",\"keyword_synonyms\":[]},{\"rank\":13,\"keyword\":\"7월 모의고사\",\"keyword_synonyms\":[]},{\"rank\":14,\"keyword\":\"구재이\",\"keyword_synonyms\":[]},{\"rank\":15,\"keyword\":\"2020 7월 모의고사\",\"keyword_synonyms\":[]},{\"rank\":16,\"keyword\":\"유키카\",\"keyword_synonyms\":[]},{\"rank\":17,\"keyword\":\"강화 화문석\",\"keyword_synonyms\":[]},{\"rank\":18,\"keyword\":\"보문사\",\"keyword_synonyms\":[]},{\"rank\":19,\"keyword\":\"추미애 아들\",\"keyword_synonyms\":[]},{\"rank\":20,\"keyword\":\"2020 7월 모의고사 등급컷\",\"keyword_synonyms\":[]}]}\n",
      "\n"
     ]
    }
   ],
   "source": [
    "response = requests.get(url)\n",
    "\n",
    "if response.status_code == 200:\n",
    "    print(response.text)"
   ]
  },
  {
   "cell_type": "code",
   "execution_count": 10,
   "metadata": {},
   "outputs": [
    {
     "data": {
      "text/plain": [
       "{'ts': '2020-07-22T19:47:00+0900',\n",
       " 'sm': 'ag20sgr0mamsimenmspm',\n",
       " 'rop': [{'ag': '20s'},\n",
       "  {'gr': '00'},\n",
       "  {'ma': '-2'},\n",
       "  {'si': '-2'},\n",
       "  {'en': '-2'},\n",
       "  {'sp': '-2'}],\n",
       " 'data': [{'rank': 1, 'keyword': '고미정', 'keyword_synonyms': []},\n",
       "  {'rank': 2, 'keyword': '강남구청', 'keyword_synonyms': []},\n",
       "  {'rank': 3, 'keyword': 'sk디스커버리', 'keyword_synonyms': []},\n",
       "  {'rank': 4, 'keyword': '롯데지주', 'keyword_synonyms': []},\n",
       "  {'rank': 5, 'keyword': '강화 풍물시장', 'keyword_synonyms': []},\n",
       "  {'rank': 6, 'keyword': '손승원', 'keyword_synonyms': []},\n",
       "  {'rank': 7, 'keyword': '포천', 'keyword_synonyms': []},\n",
       "  {'rank': 8, 'keyword': '악의꽃', 'keyword_synonyms': []},\n",
       "  {'rank': 9, 'keyword': '조혜정', 'keyword_synonyms': []},\n",
       "  {'rank': 10, 'keyword': '8사단', 'keyword_synonyms': []},\n",
       "  {'rank': 11, 'keyword': '유진우 고미정', 'keyword_synonyms': []},\n",
       "  {'rank': 12, 'keyword': '강화도 보문사', 'keyword_synonyms': []},\n",
       "  {'rank': 13, 'keyword': '7월 모의고사', 'keyword_synonyms': []},\n",
       "  {'rank': 14, 'keyword': '구재이', 'keyword_synonyms': []},\n",
       "  {'rank': 15, 'keyword': '2020 7월 모의고사', 'keyword_synonyms': []},\n",
       "  {'rank': 16, 'keyword': '유키카', 'keyword_synonyms': []},\n",
       "  {'rank': 17, 'keyword': '강화 화문석', 'keyword_synonyms': []},\n",
       "  {'rank': 18, 'keyword': '보문사', 'keyword_synonyms': []},\n",
       "  {'rank': 19, 'keyword': '추미애 아들', 'keyword_synonyms': []},\n",
       "  {'rank': 20, 'keyword': '2020 7월 모의고사 등급컷', 'keyword_synonyms': []}]}"
      ]
     },
     "execution_count": 10,
     "metadata": {},
     "output_type": "execute_result"
    }
   ],
   "source": [
    "result = response.json()\n",
    "result"
   ]
  },
  {
   "cell_type": "code",
   "execution_count": 13,
   "metadata": {},
   "outputs": [
    {
     "data": {
      "text/plain": [
       "[{'rank': 1, 'keyword': '고미정', 'keyword_synonyms': []},\n",
       " {'rank': 2, 'keyword': '강남구청', 'keyword_synonyms': []},\n",
       " {'rank': 3, 'keyword': 'sk디스커버리', 'keyword_synonyms': []},\n",
       " {'rank': 4, 'keyword': '롯데지주', 'keyword_synonyms': []},\n",
       " {'rank': 5, 'keyword': '강화 풍물시장', 'keyword_synonyms': []},\n",
       " {'rank': 6, 'keyword': '손승원', 'keyword_synonyms': []},\n",
       " {'rank': 7, 'keyword': '포천', 'keyword_synonyms': []},\n",
       " {'rank': 8, 'keyword': '악의꽃', 'keyword_synonyms': []},\n",
       " {'rank': 9, 'keyword': '조혜정', 'keyword_synonyms': []},\n",
       " {'rank': 10, 'keyword': '8사단', 'keyword_synonyms': []},\n",
       " {'rank': 11, 'keyword': '유진우 고미정', 'keyword_synonyms': []},\n",
       " {'rank': 12, 'keyword': '강화도 보문사', 'keyword_synonyms': []},\n",
       " {'rank': 13, 'keyword': '7월 모의고사', 'keyword_synonyms': []},\n",
       " {'rank': 14, 'keyword': '구재이', 'keyword_synonyms': []},\n",
       " {'rank': 15, 'keyword': '2020 7월 모의고사', 'keyword_synonyms': []},\n",
       " {'rank': 16, 'keyword': '유키카', 'keyword_synonyms': []},\n",
       " {'rank': 17, 'keyword': '강화 화문석', 'keyword_synonyms': []},\n",
       " {'rank': 18, 'keyword': '보문사', 'keyword_synonyms': []},\n",
       " {'rank': 19, 'keyword': '추미애 아들', 'keyword_synonyms': []},\n",
       " {'rank': 20, 'keyword': '2020 7월 모의고사 등급컷', 'keyword_synonyms': []}]"
      ]
     },
     "execution_count": 13,
     "metadata": {},
     "output_type": "execute_result"
    }
   ],
   "source": [
    "datas = result.get(\"data\")\n",
    "datas"
   ]
  },
  {
   "cell_type": "code",
   "execution_count": 14,
   "metadata": {},
   "outputs": [
    {
     "data": {
      "text/plain": [
       "[[1, '고미정', []],\n",
       " [2, '강남구청', []],\n",
       " [3, 'sk디스커버리', []],\n",
       " [4, '롯데지주', []],\n",
       " [5, '강화 풍물시장', []],\n",
       " [6, '손승원', []],\n",
       " [7, '포천', []],\n",
       " [8, '악의꽃', []],\n",
       " [9, '조혜정', []],\n",
       " [10, '8사단', []],\n",
       " [11, '유진우 고미정', []],\n",
       " [12, '강화도 보문사', []],\n",
       " [13, '7월 모의고사', []],\n",
       " [14, '구재이', []],\n",
       " [15, '2020 7월 모의고사', []],\n",
       " [16, '유키카', []],\n",
       " [17, '강화 화문석', []],\n",
       " [18, '보문사', []],\n",
       " [19, '추미애 아들', []],\n",
       " [20, '2020 7월 모의고사 등급컷', []]]"
      ]
     },
     "execution_count": 14,
     "metadata": {},
     "output_type": "execute_result"
    }
   ],
   "source": [
    "[\n",
    "    [\n",
    "        data.get(\"rank\"),\n",
    "        data.get(\"keyword\"),\n",
    "        data.get(\"keyword_synonyms\"),\n",
    "    ]\n",
    "    for data in datas\n",
    "]"
   ]
  },
  {
   "cell_type": "code",
   "execution_count": 27,
   "metadata": {},
   "outputs": [],
   "source": [
    "import requests\n",
    "url = \"https://apis.naver.com/mobile_main/srchrank/srchrank?frm=main&ag=20s&gr=0&ma=-2&si=-2&en=-2&sp=-2\"\n",
    "response = requests.get(url)\n",
    "if response.status_code == 200:\n",
    "    result = response.json()\n",
    "    datas = [ \n",
    "        data.get(\"keyword\")\n",
    "        for data in result[\"data\"]\n",
    "    ]\n",
    "    \n"
   ]
  },
  {
   "cell_type": "code",
   "execution_count": 28,
   "metadata": {},
   "outputs": [
    {
     "data": {
      "text/plain": [
       "['고미정',\n",
       " '신충식',\n",
       " '유진우 고미정',\n",
       " 'sk디스커버리',\n",
       " '슬램덩크 사전예약',\n",
       " '손승원',\n",
       " '사과초모식초가루',\n",
       " '포천',\n",
       " '악의꽃',\n",
       " '조혜정',\n",
       " '7월 모의고사',\n",
       " '강화도 보문사',\n",
       " '강화 풍물시장',\n",
       " '보문사',\n",
       " '구재이',\n",
       " '2020 7월 모의고사',\n",
       " '강화 화문석',\n",
       " '김제시의원 고미정',\n",
       " '칠면초',\n",
       " '나랏말싸미']"
      ]
     },
     "execution_count": 28,
     "metadata": {},
     "output_type": "execute_result"
    }
   ],
   "source": [
    "datas"
   ]
  },
  {
   "cell_type": "code",
   "execution_count": null,
   "metadata": {},
   "outputs": [],
   "source": []
  }
 ],
 "metadata": {
  "kernelspec": {
   "display_name": "Python 3",
   "language": "python",
   "name": "python3"
  },
  "language_info": {
   "codemirror_mode": {
    "name": "ipython",
    "version": 3
   },
   "file_extension": ".py",
   "mimetype": "text/x-python",
   "name": "python",
   "nbconvert_exporter": "python",
   "pygments_lexer": "ipython3",
   "version": "3.7.4"
  }
 },
 "nbformat": 4,
 "nbformat_minor": 2
}
