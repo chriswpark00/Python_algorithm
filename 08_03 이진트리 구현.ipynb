{
 "cells": [
  {
   "cell_type": "markdown",
   "metadata": {},
   "source": [
    "# 이진트리 구현"
   ]
  },
  {
   "cell_type": "code",
   "execution_count": 2,
   "metadata": {},
   "outputs": [],
   "source": [
    "\"\"\"\n",
    "다음 그림의 이진 트리를 구현한다.\n",
    "\n",
    "                              1          ---> 레벨 1\n",
    "                        2           3    ---> 레벨 2\n",
    "                    4       5            ---> 레벨 3\n",
    "                6       7                ---> 레벨 4\n",
    "            8       9                    ---> 레벨 5\n",
    "\n",
    "\n",
    "\"\"\"\n",
    "None\n",
    "\n",
    "# preorder : 1 2 4 6 8 9 7 5 3\n",
    "# inorder : 8 6 9 4 7 2 5 1 3\n",
    "# postorder : 8 9 6 7 4 5 2 3 1\n",
    "# BFS : 1 2 3 4 5 6 7 8 9\n"
   ]
  },
  {
   "cell_type": "code",
   "execution_count": 30,
   "metadata": {},
   "outputs": [],
   "source": [
    "# 이진트리의 노드\n",
    "class NodeBT:\n",
    "    def __init__(self, value=None):\n",
    "        self.value = value\n",
    "        self.left = None   # left subtree\n",
    "        self.right = None # right subtree\n",
    "    \n",
    "    def __repr__(self):\n",
    "        return f'{self.value}'\n",
    "    \n",
    "    def _preorder_traverse(self, action=print): #action: 함수\n",
    "        # C -> L -> R\n",
    "        # C\n",
    "        # L\n",
    "        # R\n",
    "        action(self.value, end=\" \")\n",
    "#         if self.value.left:\n",
    "#             self.left._preorder_traverse(action)\n",
    "        self.left and self.left._preorder_traverse(action)\n",
    "        self.right and self.right._preorder_traverse(action)\n",
    "        \n",
    "    \n",
    "    def _inorder_traverse(self, action=print):\n",
    "        self.left and self.left._inorder_traverse(action)\n",
    "        action(self.value, end=\" \")\n",
    "        self.right and self.right._inorder_traverse(action)\n",
    "    \n",
    "    def _postorder_traverse(self, action=print):\n",
    "        self.left and self.left._postorder_traverse(action)\n",
    "        self.right and self.right._postorder_traverse(action)\n",
    "        action(self.value, end=\" \")"
   ]
  },
  {
   "cell_type": "code",
   "execution_count": 31,
   "metadata": {},
   "outputs": [],
   "source": [
    "bbb = print"
   ]
  },
  {
   "cell_type": "code",
   "execution_count": 32,
   "metadata": {},
   "outputs": [
    {
     "name": "stdout",
     "output_type": "stream",
     "text": [
      "abc my world---"
     ]
    }
   ],
   "source": [
    "bbb('abc', 'my', 'world', end='---')"
   ]
  },
  {
   "cell_type": "code",
   "execution_count": null,
   "metadata": {},
   "outputs": [],
   "source": []
  },
  {
   "cell_type": "code",
   "execution_count": 33,
   "metadata": {},
   "outputs": [
    {
     "data": {
      "text/plain": [
       "1"
      ]
     },
     "execution_count": 33,
     "metadata": {},
     "output_type": "execute_result"
    }
   ],
   "source": [
    "bt1 = NodeBT(1)\n",
    "bt1"
   ]
  },
  {
   "cell_type": "code",
   "execution_count": 34,
   "metadata": {},
   "outputs": [],
   "source": [
    "bt2 = NodeBT(2)\n",
    "bt3 = NodeBT(3)\n",
    "bt4 = NodeBT(4)\n",
    "bt5 = NodeBT(5)\n",
    "bt6 = NodeBT(6)\n",
    "bt7 = NodeBT(7)\n",
    "bt8 = NodeBT(8)\n",
    "bt9 = NodeBT(9)"
   ]
  },
  {
   "cell_type": "code",
   "execution_count": 35,
   "metadata": {},
   "outputs": [],
   "source": [
    "bt1.left = bt2\n",
    "bt1.right = bt3\n",
    "bt2.left = bt4\n",
    "bt2.right = bt5\n",
    "bt4.left = bt6\n",
    "bt4.right = bt7\n",
    "bt6.left = bt8\n",
    "bt6.right = bt9"
   ]
  },
  {
   "cell_type": "code",
   "execution_count": 36,
   "metadata": {
    "scrolled": true
   },
   "outputs": [
    {
     "name": "stdout",
     "output_type": "stream",
     "text": [
      "1 2 3 4 5 6 7 8 9 None None "
     ]
    }
   ],
   "source": [
    "node = bt1\n",
    "cnt = 0\n",
    "while(node):\n",
    "    if cnt == 0:\n",
    "        print(node, end = \" \")\n",
    "        cnt += 1\n",
    "    print(node.left, end = \" \")\n",
    "    print(node.right, end = \" \")\n",
    "    node = node.left"
   ]
  },
  {
   "cell_type": "code",
   "execution_count": 37,
   "metadata": {},
   "outputs": [],
   "source": [
    "# preorder : 1 2 4 6 8 9 7 5 3\n",
    "# inorder : 8 6 9 4 7 2 5 1 3\n",
    "# postorder : 8 9 6 7 4 5 2 3 1"
   ]
  },
  {
   "cell_type": "code",
   "execution_count": 41,
   "metadata": {},
   "outputs": [
    {
     "name": "stdout",
     "output_type": "stream",
     "text": [
      "1 2 4 6 8 9 7 5 3 "
     ]
    }
   ],
   "source": [
    "bt1._preorder_traverse()"
   ]
  },
  {
   "cell_type": "code",
   "execution_count": 39,
   "metadata": {},
   "outputs": [
    {
     "name": "stdout",
     "output_type": "stream",
     "text": [
      "8 6 9 4 7 2 5 1 3 "
     ]
    }
   ],
   "source": [
    "bt1._inorder_traverse()"
   ]
  },
  {
   "cell_type": "code",
   "execution_count": 40,
   "metadata": {},
   "outputs": [
    {
     "name": "stdout",
     "output_type": "stream",
     "text": [
      "8 9 6 7 4 5 2 3 1 "
     ]
    }
   ],
   "source": [
    "bt1._postorder_traverse()"
   ]
  },
  {
   "cell_type": "markdown",
   "metadata": {},
   "source": [
    "## Level-order traversing 구현\n",
    "- Breath First Search(BFS) 라고도 함\n",
    "![bfs](https://upload.wikimedia.org/wikipedia/commons/thumb/d/d1/Sorted_binary_tree_breadth-first_traversal.svg/220px-Sorted_binary_tree_breadth-first_traversal.svg.png)\n",
    "\n",
    "- Queue 활용\n",
    "\n",
    "\n"
   ]
  },
  {
   "cell_type": "code",
   "execution_count": 42,
   "metadata": {},
   "outputs": [],
   "source": [
    "class Node:\n",
    "    def __init__(self, value=None, pointer=None):\n",
    "        self.value = value\n",
    "        self.pointer = pointer"
   ]
  },
  {
   "cell_type": "code",
   "execution_count": 43,
   "metadata": {},
   "outputs": [],
   "source": [
    "class LinkedQueue:\n",
    "    def __init__(self):\n",
    "        self.front = None  # front : 데이터 추출 (dequeue)\n",
    "        self.back = None   # back : 데이터 삽입 (enqueue)\n",
    "        self.count = 0     # 데이터 개수\n",
    "    \n",
    "    def isEmpty(self):\n",
    "        return not bool(self.front)\n",
    "    \n",
    "    def enqueue(self, value):  # value 데이터를 큐에 삽입\n",
    "        newNode = Node(value)\n",
    "        \n",
    "        # 첫 데이터 인 경우\n",
    "        if not self.front:\n",
    "            self.front = newNode\n",
    "            self.back = newNode\n",
    "            self.count = 1\n",
    "        else:\n",
    "            # back 에 새로운 데이터 추가해 나감\n",
    "            if self.back:\n",
    "                self.back.pointer = newNode  # back뒤에 새 노드 추가\n",
    "                \n",
    "            self.back = newNode  # back 이동\n",
    "            self.count += 1\n",
    "            \n",
    "    def dequeue(self):  # front 의 데이터 추출 (큐에서 삭제)\n",
    "        if self.front:   \n",
    "            value = self.front.value\n",
    "            \n",
    "            self.front = self.front.pointer   # front 이동\n",
    "            self.count -= 1\n",
    "            return value\n",
    "        else:\n",
    "            print(\"Queue is Empty\")\n",
    "            \n",
    "    def peek(self):  # front 의 데이터 읽기 (큐에서 삭제되진 않음)\n",
    "        if self.front:\n",
    "            return self.front.value\n",
    "        \n",
    "    def size(self):\n",
    "        return self.count\n",
    "    \n",
    "    def _print(self):\n",
    "        node = self.front\n",
    "        while node:\n",
    "            print(node.value, end=\" \")\n",
    "            node = node.pointer\n",
    "        print()"
   ]
  },
  {
   "cell_type": "code",
   "execution_count": 75,
   "metadata": {},
   "outputs": [],
   "source": [
    "# 이진트리의 노드\n",
    "class NodeBT:\n",
    "    def __init__(self, value=None):\n",
    "        self.value = value\n",
    "        self.left = None   # left subtree\n",
    "        self.right = None # right subtree\n",
    "    \n",
    "    def __repr__(self):\n",
    "        return f'{self.value}'\n",
    "    \n",
    "    def _preorder_traverse(self, action=print): #action: 함수\n",
    "        # C -> L -> R\n",
    "        # C\n",
    "        # L\n",
    "        # R\n",
    "        action(self.value, end=\" \")\n",
    "#         if self.value.left:\n",
    "#             self.left._preorder_traverse(action)\n",
    "        self.left and self.left._preorder_traverse(action)\n",
    "        self.right and self.right._preorder_traverse(action)\n",
    "        \n",
    "    \n",
    "    def _inorder_traverse(self, action=print):\n",
    "        self.left and self.left._inorder_traverse(action)\n",
    "        action(self.value, end=\" \")\n",
    "        self.right and self.right._inorder_traverse(action)\n",
    "    \n",
    "    def _postorder_traverse(self, action=print):\n",
    "        self.left and self.left._postorder_traverse(action)\n",
    "        self.right and self.right._postorder_traverse(action)\n",
    "        action(self.value, end=\" \")\n",
    "    \n",
    "    # Level order traversing / BFS\n",
    "    # Queue 활용\n",
    "    def levelorder_traverse(self, action=print):\n",
    "        queue = LinkedQueue()\n",
    "        \n",
    "        # 1. root를 먼저 enqueue\n",
    "        \n",
    "        # 2. queue가 다 비어질때까지 순환\n",
    "        \n",
    "            # 3. dequeue\n",
    "            \n",
    "            # 4. action\n",
    "            \n",
    "            # 5. left를 enqueue\n",
    "            \n",
    "            # 6. right를 enqueue\n",
    "        root = self\n",
    "        queue.enqueue(root)\n",
    "        \n",
    "        while(not queue.isEmpty()):\n",
    "            node = queue.dequeue()\n",
    "            action(node, end = \" \")\n",
    "            if node.left:\n",
    "                queue.enqueue(node.left)\n",
    "            if node.right:\n",
    "                queue.enqueue(node.right)\n",
    "        \n",
    "        "
   ]
  },
  {
   "cell_type": "code",
   "execution_count": 76,
   "metadata": {},
   "outputs": [],
   "source": [
    "bt1 = NodeBT(1)\n",
    "bt2 = NodeBT(2)\n",
    "bt3 = NodeBT(3)\n",
    "bt4 = NodeBT(4)\n",
    "bt5 = NodeBT(5)\n",
    "bt6 = NodeBT(6)\n",
    "bt7 = NodeBT(7)\n",
    "bt8 = NodeBT(8)\n",
    "bt9 = NodeBT(9)\n",
    "bt1.left = bt2\n",
    "bt1.right = bt3\n",
    "bt2.left = bt4\n",
    "bt2.right = bt5\n",
    "bt4.left = bt6\n",
    "bt4.right = bt7\n",
    "bt6.left = bt8\n",
    "bt6.right = bt9"
   ]
  },
  {
   "cell_type": "code",
   "execution_count": 77,
   "metadata": {},
   "outputs": [
    {
     "name": "stdout",
     "output_type": "stream",
     "text": [
      "1 2 3 4 5 6 7 8 9 "
     ]
    }
   ],
   "source": [
    "bt1.levelorder_traverse()\n",
    "\n",
    "# 1 2 3 4 5 6 7 8 9\n",
    "\n",
    "\n"
   ]
  },
  {
   "cell_type": "code",
   "execution_count": null,
   "metadata": {},
   "outputs": [],
   "source": []
  }
 ],
 "metadata": {
  "kernelspec": {
   "display_name": "Python 3",
   "language": "python",
   "name": "python3"
  },
  "language_info": {
   "codemirror_mode": {
    "name": "ipython",
    "version": 3
   },
   "file_extension": ".py",
   "mimetype": "text/x-python",
   "name": "python",
   "nbconvert_exporter": "python",
   "pygments_lexer": "ipython3",
   "version": "3.7.4"
  }
 },
 "nbformat": 4,
 "nbformat_minor": 2
}
