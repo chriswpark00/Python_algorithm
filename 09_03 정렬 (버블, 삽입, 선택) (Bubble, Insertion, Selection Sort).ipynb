{
 "cells": [
  {
   "cell_type": "markdown",
   "metadata": {},
   "source": [
    "# 기본적인 정렬 알고리즘\n",
    "버블 정렬, 삽입 정렬, 선택 정렬\n",
    "Bubble, Insertion, Selection"
   ]
  },
  {
   "cell_type": "markdown",
   "metadata": {},
   "source": [
    "---\n",
    "# Bubble Sort (버블 정렬)\n",
    "\n",
    "주어진 N 개의 배열 에 대해에\n",
    "1. 인접한 두개의 데이터 비교 (a, b),\n",
    "1. a,b 크기가 반대이면 ‘값 교환’ (오름차순의 경우,  a > b 라면 교환),\n",
    "1. 배열끝까지 다다를때까지 1, 과 2, 반복\n",
    "1. (마지막 비교는 N-2  와 N-1 을 비교하게 됨),\n",
    "1. 위 3. 이 끝나면 맨 끝의 데이터는 가장 큰 값으로 될것이다.\n",
    "1. 이제 N 을 1감소하고  1. 부터 반복한다.  N = 1 이 될때까지\n",
    "\n",
    "![bubble](https://bournetocode.com/projects/GCSE_Computing_Fundamentals/pages/img/bubble_sort_pass.png)\n",
    "\n",
    "\n"
   ]
  },
  {
   "cell_type": "code",
   "execution_count": 22,
   "metadata": {},
   "outputs": [],
   "source": [
    "# 먼저 예측해보자\n",
    "\n",
    "\"\"\"\n",
    "오름차순 - 버블 정렬\n",
    "[3, 2, 7, 5, 6] (시작)\n",
    "\n",
    "cycle 1)\n",
    "\n",
    " 2 3 7 5 6\n",
    " 2 3 7 5 6\n",
    " 2 3 5 7 6\n",
    " 2 3 5 6 7\n",
    "\n",
    "cycle 2)\n",
    "\n",
    " 2 3 5 6\n",
    " 2 3 5 6\n",
    " 2 3 5 6\n",
    "\n",
    "cycle 3)\n",
    "\n",
    " 2 3 5\n",
    " 2 3 5\n",
    "\n",
    "cycle 4)\n",
    " 2 3\n",
    "\"\"\"\n",
    "\n",
    "\"\"\"\n",
    "[11, 3, 28, 43, 9, 4]\n",
    "\n",
    "1)\n",
    "3 11 28 43 9 4\n",
    "3 11 28 43 9 4\n",
    "3 11 28 43 9 4\n",
    "3 11 28 9 43 4\n",
    "3 11 28 9 4 43\n",
    "\n",
    "2)\n",
    "3 11 28 9 4\n",
    "3 11 28 9 4\n",
    "3 11 9 28 4\n",
    "3 11 9 4 28\n",
    "\n",
    "3)\n",
    "3 11 9 4\n",
    "3 9 11 4\n",
    "3 9 4 11\n",
    "\n",
    "4)\n",
    "3 9 4\n",
    "3 4 9\n",
    "\n",
    "5)\n",
    "3 4\n",
    "\n",
    "\n",
    "\"\"\"\n",
    "None\n",
    "\n"
   ]
  },
  {
   "cell_type": "code",
   "execution_count": 37,
   "metadata": {},
   "outputs": [],
   "source": [
    "\n",
    "\"\"\"\n",
    "def bubble_sort(arr):\n",
    "    length = len(arr)\n",
    "    for i in range(length - 1):\n",
    "#         print(\"cycle \", (i + 1))\n",
    "        for j in range(length - 1 - i):\n",
    "            if arr[j] > arr[j + 1]:\n",
    "                temp = arr[j + 1]\n",
    "                arr[j + 1] = arr[j]\n",
    "                arr[j] = temp\n",
    "#             print(arr)\n",
    "    return arr\n",
    "\"\"\"\n",
    "\n",
    "# 정렬이 안된 데이터(seq)를 받아서\n",
    "# 정렬시킨 결과를 리턴\n",
    "def bubble_sort(seq):\n",
    "    length = len(seq) - 1\n",
    "    for num in range(length, 0, -1):  # cycle 횟수\n",
    "        for i in range(num):    # 비교 횟수 \n",
    "            if seq[i]  > seq[i + 1]: # 왼쪽이 오른쪽보다 크면, 자리바꿈 << 데이터 비교 >>\n",
    "                seq[i], seq[i + 1] = seq[i + 1], seq[i]  # << 데이터 이동 >>\n",
    "        #print(seq)  # 중간과정 출력\n",
    "        \n",
    "    return seq  # 정렬 결과 리턴\n"
   ]
  },
  {
   "cell_type": "code",
   "execution_count": 24,
   "metadata": {},
   "outputs": [
    {
     "data": {
      "text/plain": [
       "[3, 4, 9, 11, 28, 43]"
      ]
     },
     "execution_count": 24,
     "metadata": {},
     "output_type": "execute_result"
    }
   ],
   "source": [
    "arr = [11, 3, 28, 43, 9, 4]\n",
    "arr = bubble_sort(arr)\n",
    "arr"
   ]
  },
  {
   "cell_type": "code",
   "execution_count": 25,
   "metadata": {},
   "outputs": [],
   "source": [
    "import time\n",
    "from datetime import timedelta\n",
    "import random\n",
    "import copy   # deepcopy 사용할거다\n",
    "\n"
   ]
  },
  {
   "cell_type": "markdown",
   "metadata": {},
   "source": [
    "# 샘플 데이터 작성용 도우미"
   ]
  },
  {
   "cell_type": "code",
   "execution_count": 46,
   "metadata": {},
   "outputs": [],
   "source": [
    "# 랜덤 리스트 작성\n",
    "def gen_rand(num):\n",
    "    arr = [i for i in range(num)]\n",
    "    random.shuffle(arr)\n",
    "    return arr\n",
    "\n",
    "# 오름차순 리스트 작성\n",
    "def gen_asc(num):\n",
    "    return [i for i in range(num)]\n",
    "\n",
    "# 내림차순 리스트 작성\n",
    "def gen_desc(num):\n",
    "    return [i for i in range(num, 0, -1)]\n",
    "\n",
    "# sort: 정렬 함수\n",
    "# data:  정렬 할 데이터(리스트)\n",
    "# title: 정렬 결과 타이틀 (str)\n",
    "def test_sort(sort, data, title):\n",
    "    start_time = time.time()\n",
    "    \n",
    "    result = sort(data)\n",
    "\n",
    "    end_time = time.time()\n",
    "    elapsed_time = end_time - start_time  # 경과 시간\n",
    "    print('%s: 경과시간 %s' % (title, str(timedelta(seconds = elapsed_time))))\n",
    "    return result\n",
    "\n",
    "# 특정 사이즈의 생성된 데이터 x times번 sort 수행\n",
    "def test_ntimes_sort(genFunc, sort, title, size=1000, times=5):\n",
    "    genData = genFunc(size)  # 데이터 생성\n",
    "    for i in range(times):\n",
    "        data = copy.deepcopy(genData)\n",
    "        test_sort(sort, data, (\"%s %d차\" % (title, i + 1)))\n",
    "\n",
    "gen_func_list = [\n",
    "    (gen_rand, \"램덤\"),\n",
    "    (gen_asc, \"오름\"),\n",
    "    (gen_desc, \"내림\")\n",
    "]        \n",
    "        \n",
    "def test_double_up(func, title, gen_list = gen_func_list, init_size = 1000, num_doubles = 3):\n",
    "    data_size = init_size\n",
    "    for i in range(num_doubles):\n",
    "        print(f'■데이터 SIZE : {data_size}■' )\n",
    "        for genFunc, genType in gen_list:\n",
    "            test_ntimes_sort(genFunc, func, f'{title}-{genType}{data_size}', data_size, 4)\n",
    "            print()\n",
    "        data_size *= 2\n",
    "            \n",
    "    print('[종료]')"
   ]
  },
  {
   "cell_type": "code",
   "execution_count": 42,
   "metadata": {
    "scrolled": true
   },
   "outputs": [],
   "source": [
    "num = 1000\n",
    "# gen_random(num)"
   ]
  },
  {
   "cell_type": "code",
   "execution_count": 43,
   "metadata": {},
   "outputs": [],
   "source": [
    "# test_ntimes_sort(gen_random, bubble_sort, '버블', 1000, 5)"
   ]
  },
  {
   "cell_type": "code",
   "execution_count": 44,
   "metadata": {},
   "outputs": [
    {
     "name": "stdout",
     "output_type": "stream",
     "text": [
      "버블-랜덤1000개 1차: 경과시간 0:00:00.060847\n",
      "버블-랜덤1000개 2차: 경과시간 0:00:00.053952\n",
      "버블-랜덤1000개 3차: 경과시간 0:00:00.062485\n",
      "버블-랜덤1000개 4차: 경과시간 0:00:00.046859\n",
      "버블-랜덤1000개 5차: 경과시간 0:00:00.062485\n"
     ]
    }
   ],
   "source": [
    "num = 1000\n",
    "# gen_rand(num)\n",
    "# gen_asc(num)\n",
    "# gen_desc(num)\n",
    "\n",
    "#test_sort(bubble_sort, [10, 20, 5, 1], '버블 정렬')\n",
    "\n",
    "test_ntimes_sort(gen_rand, bubble_sort, '버블-랜덤1000개', 1000, 5)"
   ]
  },
  {
   "cell_type": "code",
   "execution_count": 45,
   "metadata": {},
   "outputs": [
    {
     "name": "stdout",
     "output_type": "stream",
     "text": [
      "■데이터 SIZE : 1000■\n",
      "버블-램덤1000 1차: 경과시간 0:00:00.062367\n",
      "버블-램덤1000 2차: 경과시간 0:00:00.046303\n",
      "버블-램덤1000 3차: 경과시간 0:00:00.062483\n",
      "버블-램덤1000 4차: 경과시간 0:00:00.062487\n",
      "\n",
      "버블-오름1000 1차: 경과시간 0:00:00.015617\n",
      "버블-오름1000 2차: 경과시간 0:00:00.031240\n",
      "버블-오름1000 3차: 경과시간 0:00:00.039876\n",
      "버블-오름1000 4차: 경과시간 0:00:00.029945\n",
      "\n",
      "버블-내림1000 1차: 경과시간 0:00:00.086146\n",
      "버블-내림1000 2차: 경과시간 0:00:00.078108\n",
      "버블-내림1000 3차: 경과시간 0:00:00.078099\n",
      "버블-내림1000 4차: 경과시간 0:00:00.095663\n",
      "\n",
      "■데이터 SIZE : 2000■\n",
      "버블-램덤2000 1차: 경과시간 0:00:00.235356\n",
      "버블-램덤2000 2차: 경과시간 0:00:00.257052\n",
      "버블-램덤2000 3차: 경과시간 0:00:00.251504\n",
      "버블-램덤2000 4차: 경과시간 0:00:00.249866\n",
      "\n",
      "버블-오름2000 1차: 경과시간 0:00:00.109341\n",
      "버블-오름2000 2차: 경과시간 0:00:00.124972\n",
      "버블-오름2000 3차: 경과시간 0:00:00.122474\n",
      "버블-오름2000 4차: 경과시간 0:00:00.109343\n",
      "\n",
      "버블-내림2000 1차: 경과시간 0:00:00.369550\n",
      "버블-내림2000 2차: 경과시간 0:00:00.353349\n",
      "버블-내림2000 3차: 경과시간 0:00:00.343663\n",
      "버블-내림2000 4차: 경과시간 0:00:00.358359\n",
      "\n",
      "■데이터 SIZE : 4000■\n",
      "버블-램덤4000 1차: 경과시간 0:00:00.999648\n",
      "버블-램덤4000 2차: 경과시간 0:00:01.002674\n",
      "버블-램덤4000 3차: 경과시간 0:00:00.988835\n",
      "버블-램덤4000 4차: 경과시간 0:00:00.988908\n",
      "\n",
      "버블-오름4000 1차: 경과시간 0:00:00.481860\n",
      "버블-오름4000 2차: 경과시간 0:00:00.488066\n",
      "버블-오름4000 3차: 경과시간 0:00:00.495281\n",
      "버블-오름4000 4차: 경과시간 0:00:00.485209\n",
      "\n",
      "버블-내림4000 1차: 경과시간 0:00:01.418550\n",
      "버블-내림4000 2차: 경과시간 0:00:01.427698\n",
      "버블-내림4000 3차: 경과시간 0:00:01.434489\n",
      "버블-내림4000 4차: 경과시간 0:00:01.443241\n",
      "\n",
      "[종료]\n"
     ]
    }
   ],
   "source": [
    "test_double_up(bubble_sort, '버블')"
   ]
  },
  {
   "cell_type": "markdown",
   "metadata": {},
   "source": [
    "# 어떠한 operation이 시간에 영향을 주나?\n",
    "## 1. 데이터 비교\n",
    "## 2. 데이터 이동\n",
    "위 버블정렬에서\n",
    "1. 언제 데이터의 비교가 발생하고?\n",
    "2. 언제 데이터의 이동이 발생하는가?"
   ]
  },
  {
   "cell_type": "markdown",
   "metadata": {},
   "source": [
    "### 그렇다면 과연 버블 정렬은 어떠한 형태의 데이터에서 상대적으로 좋은 성능을 나타내겠는가\n",
    "1. 램덤데이터?\n",
    "2. 오름차순 데이터?  (이미 정렬된 형태)\n",
    "3. 내림차순 데이터?\n",
    "\n",
    "\n"
   ]
  },
  {
   "cell_type": "markdown",
   "metadata": {},
   "source": [
    "---\n",
    "# Selection Sort 선택정렬\n",
    "주어진 N 개의 배열,  그리고  i = 0 일때\n",
    "\n",
    "\n",
    "1. i...N−1 범위에서 ‘가장 작은 값의 위치 min_idx‘ 를 찾아 **선택**한다\n",
    "1. 위에서 **선택**한 min_idx 번째 와 i 번째 의 데이터 교환\n",
    "1. i 은 1 증가,   그리고 step1. 부터 반복,  (i = N-2 이 될때까지!)\n",
    "\n",
    "![선택](https://dojinkimm.github.io/assets/imgs/cs/selection_sort.jpg)\n",
    "\n",
    "\n",
    "\n"
   ]
  },
  {
   "cell_type": "code",
   "execution_count": null,
   "metadata": {},
   "outputs": [],
   "source": [
    "\"\"\"\n",
    "[29, 10, 14, 37, 13]\n",
    "\n",
    "1) 총 4번 비교\n",
    "10 29 14 37 13\n",
    "\n",
    "2) 총 3번 비교\n",
    "10 13 14 37 29\n",
    "\n",
    "3) 총 2번 비교\n",
    "10 13 14 37 29\n",
    "\n",
    "4) 총 1번 비교\n",
    "10 13 14 29 37\n",
    "\"\"\"\n",
    "\n",
    "\"\"\"  [연습]\n",
    "[11, 3, 28, 43, 9, 4]\n",
    "\n",
    "1)\n",
    "3 11 28 43 9 4\n",
    "\n",
    "2)\n",
    "3 4 28 43 9 11\n",
    "\n",
    "3) \n",
    "3 4 9 43 28 11\n",
    "\n",
    "4)\n",
    "3 4 9 11 28 43\n",
    "\n",
    "5)\n",
    "3 4 9 11 28 43\n",
    "\n",
    "\"\"\"\n"
   ]
  },
  {
   "cell_type": "code",
   "execution_count": 84,
   "metadata": {},
   "outputs": [],
   "source": [
    "def selection_sort(seq):\n",
    "    N = len(seq)\n",
    "    for i in range(N - 1): # i는 0 부터 N-2까지 사이클 진행 (N - 1)번의 사이클\n",
    "        # i번째 우측 (i + 1) 부터 시작하여 우측에서 가장 최소값을 찾을거다.\n",
    "        # 최소값의 위치 (min_idx) 를 '선택'하는 것이 목표다!\n",
    "        min_idx = i\n",
    "        for j in range(i + 1, N):\n",
    "            if seq[min_idx] > seq[j]: # 더 작은 값이 등장하면 \n",
    "                min_idx = j # 최솟값 갱신\n",
    "                \n",
    "        # '선택'된 min_idx 번째 데이터와 i번째 데이터 교환\n",
    "        seq[i], seq[min_idx] = seq[min_idx], seq[i]\n",
    "#         print(seq)\n",
    "    return seq\n",
    "\n",
    "\n"
   ]
  },
  {
   "cell_type": "code",
   "execution_count": 85,
   "metadata": {},
   "outputs": [
    {
     "data": {
      "text/plain": [
       "[3, 4, 9, 11, 28, 43]"
      ]
     },
     "execution_count": 85,
     "metadata": {},
     "output_type": "execute_result"
    }
   ],
   "source": [
    "arr = [11, 3, 28, 43, 9, 4]\n",
    "selection_sort(arr)"
   ]
  },
  {
   "cell_type": "code",
   "execution_count": 95,
   "metadata": {},
   "outputs": [],
   "source": [
    "def selection_sort_test(arr):\n",
    "    length = len(arr) - 1\n",
    "    for i in range(length):\n",
    "        idx = i\n",
    "        for j in range(i, length):\n",
    "            # min 와 j + 1 비교\n",
    "            if arr[idx] > arr[j + 1]:\n",
    "                idx = j + 1\n",
    "        \n",
    "        arr[idx], arr[i] = arr[i], arr[idx]\n",
    "#         print(arr)\n",
    "    return arr"
   ]
  },
  {
   "cell_type": "code",
   "execution_count": 98,
   "metadata": {},
   "outputs": [
    {
     "data": {
      "text/plain": [
       "[3, 4, 9, 11, 28, 43]"
      ]
     },
     "execution_count": 98,
     "metadata": {},
     "output_type": "execute_result"
    }
   ],
   "source": [
    "arr = [11, 3, 28, 43, 9, 4]\n",
    "selection_sort_test(arr)\n"
   ]
  },
  {
   "cell_type": "markdown",
   "metadata": {},
   "source": [
    "### 성능 고찰"
   ]
  },
  {
   "cell_type": "code",
   "execution_count": 90,
   "metadata": {},
   "outputs": [
    {
     "name": "stdout",
     "output_type": "stream",
     "text": [
      "■데이터 SIZE : 1000■\n",
      "선택-램덤1000 1차: 경과시간 0:00:00.025908\n",
      "선택-램덤1000 2차: 경과시간 0:00:00.022940\n",
      "선택-램덤1000 3차: 경과시간 0:00:00.022930\n",
      "선택-램덤1000 4차: 경과시간 0:00:00.016731\n",
      "\n",
      "선택-오름1000 1차: 경과시간 0:00:00.015593\n",
      "선택-오름1000 2차: 경과시간 0:00:00.031276\n",
      "선택-오름1000 3차: 경과시간 0:00:00.015616\n",
      "선택-오름1000 4차: 경과시간 0:00:00.031237\n",
      "\n",
      "선택-내림1000 1차: 경과시간 0:00:00.015630\n",
      "선택-내림1000 2차: 경과시간 0:00:00.031235\n",
      "선택-내림1000 3차: 경과시간 0:00:00.015621\n",
      "선택-내림1000 4차: 경과시간 0:00:00.031243\n",
      "\n",
      "■데이터 SIZE : 2000■\n",
      "선택-램덤2000 1차: 경과시간 0:00:00.091883\n",
      "선택-램덤2000 2차: 경과시간 0:00:00.078113\n",
      "선택-램덤2000 3차: 경과시간 0:00:00.088090\n",
      "선택-램덤2000 4차: 경과시간 0:00:00.083893\n",
      "\n",
      "선택-오름2000 1차: 경과시간 0:00:00.093728\n",
      "선택-오름2000 2차: 경과시간 0:00:00.078101\n",
      "선택-오름2000 3차: 경과시간 0:00:00.088951\n",
      "선택-오름2000 4차: 경과시간 0:00:00.089327\n",
      "\n",
      "선택-내림2000 1차: 경과시간 0:00:00.096743\n",
      "선택-내림2000 2차: 경과시간 0:00:00.087312\n",
      "선택-내림2000 3차: 경과시간 0:00:00.106702\n",
      "선택-내림2000 4차: 경과시간 0:00:00.096738\n",
      "\n",
      "■데이터 SIZE : 4000■\n",
      "선택-램덤4000 1차: 경과시간 0:00:00.359950\n",
      "선택-램덤4000 2차: 경과시간 0:00:00.374300\n",
      "선택-램덤4000 3차: 경과시간 0:00:00.358669\n",
      "선택-램덤4000 4차: 경과시간 0:00:00.367617\n",
      "\n",
      "선택-오름4000 1차: 경과시간 0:00:00.361032\n",
      "선택-오름4000 2차: 경과시간 0:00:00.331483\n",
      "선택-오름4000 3차: 경과시간 0:00:00.355424\n",
      "선택-오름4000 4차: 경과시간 0:00:00.349739\n",
      "\n",
      "선택-내림4000 1차: 경과시간 0:00:00.371258\n",
      "선택-내림4000 2차: 경과시간 0:00:00.363593\n",
      "선택-내림4000 3차: 경과시간 0:00:00.370265\n",
      "선택-내림4000 4차: 경과시간 0:00:00.381221\n",
      "\n",
      "[종료]\n"
     ]
    }
   ],
   "source": [
    "test_double_up(selection_sort, '선택')"
   ]
  },
  {
   "cell_type": "code",
   "execution_count": 97,
   "metadata": {},
   "outputs": [
    {
     "name": "stdout",
     "output_type": "stream",
     "text": [
      "■데이터 SIZE : 1000■\n",
      "선택test-램덤1000 1차: 경과시간 0:00:00.035903\n",
      "선택test-램덤1000 2차: 경과시간 0:00:00.031227\n",
      "선택test-램덤1000 3차: 경과시간 0:00:00.021710\n",
      "선택test-램덤1000 4차: 경과시간 0:00:00.031238\n",
      "\n",
      "선택test-오름1000 1차: 경과시간 0:00:00.031214\n",
      "선택test-오름1000 2차: 경과시간 0:00:00.031243\n",
      "선택test-오름1000 3차: 경과시간 0:00:00.047080\n",
      "선택test-오름1000 4차: 경과시간 0:00:00.025959\n",
      "\n",
      "선택test-내림1000 1차: 경과시간 0:00:00.046864\n",
      "선택test-내림1000 2차: 경과시간 0:00:00.031243\n",
      "선택test-내림1000 3차: 경과시간 0:00:00.046865\n",
      "선택test-내림1000 4차: 경과시간 0:00:00.031242\n",
      "\n",
      "■데이터 SIZE : 2000■\n",
      "선택test-램덤2000 1차: 경과시간 0:00:00.123195\n",
      "선택test-램덤2000 2차: 경과시간 0:00:00.124971\n",
      "선택test-램덤2000 3차: 경과시간 0:00:00.124971\n",
      "선택test-램덤2000 4차: 경과시간 0:00:00.127811\n",
      "\n",
      "선택test-오름2000 1차: 경과시간 0:00:00.127973\n",
      "선택test-오름2000 2차: 경과시간 0:00:00.139505\n",
      "선택test-오름2000 3차: 경과시간 0:00:00.123718\n",
      "선택test-오름2000 4차: 경과시간 0:00:00.123164\n",
      "\n",
      "선택test-내림2000 1차: 경과시간 0:00:00.166752\n",
      "선택test-내림2000 2차: 경과시간 0:00:00.159286\n",
      "선택test-내림2000 3차: 경과시간 0:00:00.171803\n",
      "선택test-내림2000 4차: 경과시간 0:00:00.156213\n",
      "\n",
      "■데이터 SIZE : 4000■\n",
      "선택test-램덤4000 1차: 경과시간 0:00:00.533237\n",
      "선택test-램덤4000 2차: 경과시간 0:00:00.519578\n",
      "선택test-램덤4000 3차: 경과시간 0:00:00.508379\n",
      "선택test-램덤4000 4차: 경과시간 0:00:00.513316\n",
      "\n",
      "선택test-오름4000 1차: 경과시간 0:00:00.495824\n",
      "선택test-오름4000 2차: 경과시간 0:00:00.513347\n",
      "선택test-오름4000 3차: 경과시간 0:00:00.512804\n",
      "선택test-오름4000 4차: 경과시간 0:00:00.506910\n",
      "\n",
      "선택test-내림4000 1차: 경과시간 0:00:00.682901\n",
      "선택test-내림4000 2차: 경과시간 0:00:00.668198\n",
      "선택test-내림4000 3차: 경과시간 0:00:00.684635\n",
      "선택test-내림4000 4차: 경과시간 0:00:00.676434\n",
      "\n",
      "[종료]\n"
     ]
    }
   ],
   "source": [
    "test_double_up(selection_sort_test, '선택test')"
   ]
  },
  {
   "cell_type": "markdown",
   "metadata": {},
   "source": [
    "---\n",
    "# Insertion Sort (삽입정렬)\n",
    "1. i = 1,   i 번째 ‘선택’  하고  i 번째 데이터를 임시 보관 → insData\n",
    "\n",
    "1. j 를 i 왼쪽부터 왼쪽으로 검색해감  j = 0 이 될때까지\n",
    "    - insData 보다  j번째 데이터 비교\n",
    "\t- j번째 데이터가 더 크면  j번째 데이터를 우측으로 이동\n",
    "    - 그렇지 않으면 step 2. 종료 → insData 가 삽입될 위치 발견\n",
    "\n",
    "1. step 2. 가 종료된 위치에 insData 삽입\n",
    "\n",
    "![삽입](https://dojinkimm.github.io/assets/imgs/cs/insertion_sort.png)\n",
    "\n",
    "\n"
   ]
  },
  {
   "cell_type": "code",
   "execution_count": null,
   "metadata": {},
   "outputs": [],
   "source": [
    "\"\"\"\n",
    "[43, 13, 20, 8]\n",
    "\n",
    "1)\n",
    "13 43 20 8\n",
    "\n",
    "2)\n",
    "13 20 43 8\n",
    "\n",
    "\n",
    "3)\n",
    "\n",
    "13 20 8 43\n",
    "13 8 20 43\n",
    "8 13 20 43\n",
    "\n",
    "\n",
    "\"\"\"\n",
    "\"\"\"\n",
    "[28, 3, 11, 43, 9, 4]\n",
    "\n",
    "1)\n",
    "3 28\n",
    "\n",
    "2)\n",
    "3 11 28\n",
    "\n",
    "3)\n",
    "3 11 28 43\n",
    "\n",
    "4)\n",
    "3 11 28 9 43\n",
    "3 11 9 28 43\n",
    "3 9 11 28 43\n",
    "\n",
    "5)\n",
    "3 9 11 28 4 43\n",
    "3 9 11 4 28 43\n",
    "3 9 4 11 28 43\n",
    "3 4 9 11 28 43\n",
    "\n",
    "\"\"\"\n"
   ]
  },
  {
   "cell_type": "code",
   "execution_count": 123,
   "metadata": {},
   "outputs": [],
   "source": [
    "def insertion_sort(seq):\n",
    "    for i in range(1, len(seq)):\n",
    "        insData = seq[i] # i번째 데이터 선택, 나중에 위치 선정하면 그 자리에 삽입\n",
    "        \n",
    "        # j를 i왼쪽부터 0까지 검색해 나감\n",
    "        j = i - 1\n",
    "        #j의 위치를 결정하는 것이 목표\n",
    "        while j >= 0:\n",
    "            if seq[j] > insData: #삽입하려는 데이터보다 큰것 <<비교>>\n",
    "                seq[j + 1] = seq[j] #오른쪽으로 한칸 이동  <<이동>>\n",
    "            else:\n",
    "                break\n",
    "            j -= 1 #왼쪽으로 검색해 나감\n",
    "        \n",
    "        #결정된 j위치의 바로 오른쪽이 삽입(Insert) 될 위치\n",
    "        seq[j + 1] = insData\n",
    "    \n",
    "    return seq"
   ]
  },
  {
   "cell_type": "code",
   "execution_count": 124,
   "metadata": {},
   "outputs": [
    {
     "data": {
      "text/plain": [
       "[5, 6, 7, 9, 10, 11, 15, 17]"
      ]
     },
     "execution_count": 124,
     "metadata": {},
     "output_type": "execute_result"
    }
   ],
   "source": [
    "insertion_sort([9, 7, 6, 15, 17, 5, 10, 11])"
   ]
  },
  {
   "cell_type": "code",
   "execution_count": 129,
   "metadata": {},
   "outputs": [
    {
     "name": "stdout",
     "output_type": "stream",
     "text": [
      "■데이터 SIZE : 1000■\n",
      "삽입-램덤1000 1차: 경과시간 0:00:00.031904\n",
      "삽입-램덤1000 2차: 경과시간 0:00:00.027929\n",
      "삽입-램덤1000 3차: 경과시간 0:00:00.027700\n",
      "삽입-램덤1000 4차: 경과시간 0:00:00.015624\n",
      "\n",
      "삽입-오름1000 1차: 경과시간 0:00:00\n",
      "삽입-오름1000 2차: 경과시간 0:00:00\n",
      "삽입-오름1000 3차: 경과시간 0:00:00.015620\n",
      "삽입-오름1000 4차: 경과시간 0:00:00\n",
      "\n",
      "삽입-내림1000 1차: 경과시간 0:00:00.046854\n",
      "삽입-내림1000 2차: 경과시간 0:00:00.046870\n",
      "삽입-내림1000 3차: 경과시간 0:00:00.062480\n",
      "삽입-내림1000 4차: 경과시간 0:00:00.046865\n",
      "\n",
      "■데이터 SIZE : 2000■\n",
      "삽입-램덤2000 1차: 경과시간 0:00:00.114146\n",
      "삽입-램덤2000 2차: 경과시간 0:00:00.109347\n",
      "삽입-램덤2000 3차: 경과시간 0:00:00.124653\n",
      "삽입-램덤2000 4차: 경과시간 0:00:00.110475\n",
      "\n",
      "삽입-오름2000 1차: 경과시간 0:00:00\n",
      "삽입-오름2000 2차: 경과시간 0:00:00\n",
      "삽입-오름2000 3차: 경과시간 0:00:00\n",
      "삽입-오름2000 4차: 경과시간 0:00:00\n",
      "\n",
      "삽입-내림2000 1차: 경과시간 0:00:00.223389\n",
      "삽입-내림2000 2차: 경과시간 0:00:00.222833\n",
      "삽입-내림2000 3차: 경과시간 0:00:00.220821\n",
      "삽입-내림2000 4차: 경과시간 0:00:00.210722\n",
      "\n",
      "■데이터 SIZE : 4000■\n",
      "삽입-램덤4000 1차: 경과시간 0:00:00.446720\n",
      "삽입-램덤4000 2차: 경과시간 0:00:00.449369\n",
      "삽입-램덤4000 3차: 경과시간 0:00:00.463573\n",
      "삽입-램덤4000 4차: 경과시간 0:00:00.455842\n",
      "\n",
      "삽입-오름4000 1차: 경과시간 0:00:00\n",
      "삽입-오름4000 2차: 경과시간 0:00:00\n",
      "삽입-오름4000 3차: 경과시간 0:00:00\n",
      "삽입-오름4000 4차: 경과시간 0:00:00\n",
      "\n",
      "삽입-내림4000 1차: 경과시간 0:00:00.890802\n",
      "삽입-내림4000 2차: 경과시간 0:00:00.880852\n",
      "삽입-내림4000 3차: 경과시간 0:00:00.877496\n",
      "삽입-내림4000 4차: 경과시간 0:00:00.859409\n",
      "\n",
      "[종료]\n"
     ]
    }
   ],
   "source": [
    "test_double_up(insertion_sort, '삽입')"
   ]
  },
  {
   "cell_type": "code",
   "execution_count": null,
   "metadata": {},
   "outputs": [],
   "source": []
  },
  {
   "cell_type": "code",
   "execution_count": 154,
   "metadata": {},
   "outputs": [],
   "source": [
    "def insertion_sort_test(arr):\n",
    "    length = len(arr)\n",
    "    for i in range(1, length):\n",
    "        temp = arr[i]\n",
    "        \n",
    "        j = 0\n",
    "        for j in range(i - 1, -1, -1):\n",
    "            if arr[j] > temp:\n",
    "                arr[j + 1] = arr[j]\n",
    "                \n",
    "            else:\n",
    "                j = j + 1\n",
    "                break\n",
    "        print(j)  \n",
    "        arr[j] = temp\n",
    "    return arr"
   ]
  },
  {
   "cell_type": "code",
   "execution_count": 156,
   "metadata": {},
   "outputs": [
    {
     "name": "stdout",
     "output_type": "stream",
     "text": [
      "1\n",
      "0\n",
      "3\n",
      "4\n",
      "0\n",
      "4\n",
      "5\n"
     ]
    },
    {
     "data": {
      "text/plain": [
       "[5, 6, 7, 9, 10, 11, 15, 17]"
      ]
     },
     "execution_count": 156,
     "metadata": {},
     "output_type": "execute_result"
    }
   ],
   "source": [
    "insertion_sort_test([7, 9, 6, 15, 17, 5, 10, 11])"
   ]
  },
  {
   "cell_type": "code",
   "execution_count": null,
   "metadata": {},
   "outputs": [],
   "source": []
  }
 ],
 "metadata": {
  "kernelspec": {
   "display_name": "Python 3",
   "language": "python",
   "name": "python3"
  },
  "language_info": {
   "codemirror_mode": {
    "name": "ipython",
    "version": 3
   },
   "file_extension": ".py",
   "mimetype": "text/x-python",
   "name": "python",
   "nbconvert_exporter": "python",
   "pygments_lexer": "ipython3",
   "version": "3.7.4"
  }
 },
 "nbformat": 4,
 "nbformat_minor": 2
}
